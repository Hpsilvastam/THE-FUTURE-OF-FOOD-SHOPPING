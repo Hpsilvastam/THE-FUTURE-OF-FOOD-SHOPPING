{
 "cells": [
  {
   "cell_type": "code",
   "execution_count": 1,
   "metadata": {
    "collapsed": true
   },
   "outputs": [],
   "source": [
    "#%matplotlib inline\n",
    "#import pandas as pd\n",
    "#import numpy as np\n",
    "#import matplotlib.pyplot as plt\n",
    "##“The Instacart Online Grocery Shopping Dataset 2017”, Accessed from https://www.instacart.com/datasets/grocery-shopping-2017 on <09-16-2017>\n",
    "\n",
    "import pyspark.sql.functions as F"
   ]
  },
  {
   "cell_type": "markdown",
   "metadata": {},
   "source": [
    "This Dataset is from the Instacart Kaggle Competition. The challenge is to use this anonymized data on customer orders over time to predict which previously purchased products will be in a user’s next order. \n",
    "\n",
    "It was informed that this dataset is a relational set of 6 files describing customers' orders over time. \n",
    "\n",
    "We will start by reading all of them:"
   ]
  },
  {
   "cell_type": "code",
   "execution_count": 2,
   "metadata": {},
   "outputs": [
    {
     "name": "stdout",
     "output_type": "stream",
     "text": [
      "+--------+--------------------+\n",
      "|aisle_id|               aisle|\n",
      "+--------+--------------------+\n",
      "|       1|prepared soups sa...|\n",
      "|       2|   specialty cheeses|\n",
      "|       3| energy granola bars|\n",
      "|       4|       instant foods|\n",
      "|       5|marinades meat pr...|\n",
      "|       6|               other|\n",
      "|       7|       packaged meat|\n",
      "|       8|     bakery desserts|\n",
      "|       9|         pasta sauce|\n",
      "|      10|    kitchen supplies|\n",
      "|      11|    cold flu allergy|\n",
      "|      12|         fresh pasta|\n",
      "|      13|      prepared meals|\n",
      "|      14|tofu meat alterna...|\n",
      "|      15|    packaged seafood|\n",
      "|      16|         fresh herbs|\n",
      "|      17|  baking ingredients|\n",
      "|      18|bulk dried fruits...|\n",
      "|      19|       oils vinegars|\n",
      "|      20|        oral hygiene|\n",
      "+--------+--------------------+\n",
      "only showing top 20 rows\n",
      "\n"
     ]
    }
   ],
   "source": [
    "aisles = spark.read \\\n",
    "    .options(header=True, inferSchema=True) \\\n",
    "    .csv(\"Instacart Kaggle/aisles.csv\")\n",
    "aisles.show()"
   ]
  },
  {
   "cell_type": "code",
   "execution_count": 3,
   "metadata": {},
   "outputs": [
    {
     "name": "stdout",
     "output_type": "stream",
     "text": [
      "+-------------+---------------+\n",
      "|department_id|     department|\n",
      "+-------------+---------------+\n",
      "|            1|         frozen|\n",
      "|            2|          other|\n",
      "|            3|         bakery|\n",
      "|            4|        produce|\n",
      "|            5|        alcohol|\n",
      "|            6|  international|\n",
      "|            7|      beverages|\n",
      "|            8|           pets|\n",
      "|            9|dry goods pasta|\n",
      "|           10|           bulk|\n",
      "|           11|  personal care|\n",
      "|           12|   meat seafood|\n",
      "|           13|         pantry|\n",
      "|           14|      breakfast|\n",
      "|           15|   canned goods|\n",
      "|           16|     dairy eggs|\n",
      "|           17|      household|\n",
      "|           18|         babies|\n",
      "|           19|         snacks|\n",
      "|           20|           deli|\n",
      "+-------------+---------------+\n",
      "only showing top 20 rows\n",
      "\n"
     ]
    }
   ],
   "source": [
    "dptmts = spark.read \\\n",
    "    .options(header=True, inferSchema=True) \\\n",
    "    .csv(\"Instacart Kaggle/departments.csv\")\n",
    "dptmts.show()"
   ]
  },
  {
   "cell_type": "code",
   "execution_count": 4,
   "metadata": {},
   "outputs": [
    {
     "name": "stdout",
     "output_type": "stream",
     "text": [
      "+--------+----------+-----------------+---------+\n",
      "|order_id|product_id|add_to_cart_order|reordered|\n",
      "+--------+----------+-----------------+---------+\n",
      "|       2|     33120|                1|        1|\n",
      "|       2|     28985|                2|        1|\n",
      "|       2|      9327|                3|        0|\n",
      "|       2|     45918|                4|        1|\n",
      "|       2|     30035|                5|        0|\n",
      "|       2|     17794|                6|        1|\n",
      "|       2|     40141|                7|        1|\n",
      "|       2|      1819|                8|        1|\n",
      "|       2|     43668|                9|        0|\n",
      "|       3|     33754|                1|        1|\n",
      "|       3|     24838|                2|        1|\n",
      "|       3|     17704|                3|        1|\n",
      "|       3|     21903|                4|        1|\n",
      "|       3|     17668|                5|        1|\n",
      "|       3|     46667|                6|        1|\n",
      "|       3|     17461|                7|        1|\n",
      "|       3|     32665|                8|        1|\n",
      "|       4|     46842|                1|        0|\n",
      "|       4|     26434|                2|        1|\n",
      "|       4|     39758|                3|        1|\n",
      "+--------+----------+-----------------+---------+\n",
      "only showing top 20 rows\n",
      "\n"
     ]
    }
   ],
   "source": [
    "prod_in_orders = spark.read \\\n",
    "    .options(header=True, inferSchema=True) \\\n",
    "    .csv(\"Instacart Kaggle/order_products__prior.csv\")\n",
    "prod_in_orders.show()"
   ]
  },
  {
   "cell_type": "code",
   "execution_count": 5,
   "metadata": {},
   "outputs": [
    {
     "name": "stdout",
     "output_type": "stream",
     "text": [
      "+--------+-------+--------+------------+---------+-----------------+----------------------+\n",
      "|order_id|user_id|eval_set|order_number|order_dow|order_hour_of_day|days_since_prior_order|\n",
      "+--------+-------+--------+------------+---------+-----------------+----------------------+\n",
      "| 2539329|      1|   prior|           1|        2|                8|                  null|\n",
      "| 2398795|      1|   prior|           2|        3|                7|                  15.0|\n",
      "|  473747|      1|   prior|           3|        3|               12|                  21.0|\n",
      "| 2254736|      1|   prior|           4|        4|                7|                  29.0|\n",
      "|  431534|      1|   prior|           5|        4|               15|                  28.0|\n",
      "| 3367565|      1|   prior|           6|        2|                7|                  19.0|\n",
      "|  550135|      1|   prior|           7|        1|                9|                  20.0|\n",
      "| 3108588|      1|   prior|           8|        1|               14|                  14.0|\n",
      "| 2295261|      1|   prior|           9|        1|               16|                   0.0|\n",
      "| 2550362|      1|   prior|          10|        4|                8|                  30.0|\n",
      "| 1187899|      1|   train|          11|        4|                8|                  14.0|\n",
      "| 2168274|      2|   prior|           1|        2|               11|                  null|\n",
      "| 1501582|      2|   prior|           2|        5|               10|                  10.0|\n",
      "| 1901567|      2|   prior|           3|        1|               10|                   3.0|\n",
      "|  738281|      2|   prior|           4|        2|               10|                   8.0|\n",
      "| 1673511|      2|   prior|           5|        3|               11|                   8.0|\n",
      "| 1199898|      2|   prior|           6|        2|                9|                  13.0|\n",
      "| 3194192|      2|   prior|           7|        2|               12|                  14.0|\n",
      "|  788338|      2|   prior|           8|        1|               15|                  27.0|\n",
      "| 1718559|      2|   prior|           9|        2|                9|                   8.0|\n",
      "+--------+-------+--------+------------+---------+-----------------+----------------------+\n",
      "only showing top 20 rows\n",
      "\n"
     ]
    }
   ],
   "source": [
    "all_orders = spark.read \\\n",
    "    .options(header=True, inferSchema=True) \\\n",
    "    .csv(\"Instacart Kaggle/orders.csv\")\n",
    "all_orders.show()"
   ]
  },
  {
   "cell_type": "code",
   "execution_count": 6,
   "metadata": {},
   "outputs": [
    {
     "name": "stdout",
     "output_type": "stream",
     "text": [
      "+--------+----------+-----------------+---------+\n",
      "|order_id|product_id|add_to_cart_order|reordered|\n",
      "+--------+----------+-----------------+---------+\n",
      "|       1|     49302|                1|        1|\n",
      "|       1|     11109|                2|        1|\n",
      "|       1|     10246|                3|        0|\n",
      "|       1|     49683|                4|        0|\n",
      "|       1|     43633|                5|        1|\n",
      "|       1|     13176|                6|        0|\n",
      "|       1|     47209|                7|        0|\n",
      "|       1|     22035|                8|        1|\n",
      "|      36|     39612|                1|        0|\n",
      "|      36|     19660|                2|        1|\n",
      "|      36|     49235|                3|        0|\n",
      "|      36|     43086|                4|        1|\n",
      "|      36|     46620|                5|        1|\n",
      "|      36|     34497|                6|        1|\n",
      "|      36|     48679|                7|        1|\n",
      "|      36|     46979|                8|        1|\n",
      "|      38|     11913|                1|        0|\n",
      "|      38|     18159|                2|        0|\n",
      "|      38|      4461|                3|        0|\n",
      "|      38|     21616|                4|        1|\n",
      "+--------+----------+-----------------+---------+\n",
      "only showing top 20 rows\n",
      "\n"
     ]
    }
   ],
   "source": [
    "train = spark.read \\\n",
    "    .options(header=True, inferSchema=True) \\\n",
    "    .csv(\"Instacart Kaggle/order_products__train.csv\")\n",
    "train.show()"
   ]
  },
  {
   "cell_type": "code",
   "execution_count": 7,
   "metadata": {},
   "outputs": [
    {
     "name": "stdout",
     "output_type": "stream",
     "text": [
      "+----------+--------------------+--------+-------------+\n",
      "|product_id|        product_name|aisle_id|department_id|\n",
      "+----------+--------------------+--------+-------------+\n",
      "|         1|Chocolate Sandwic...|      61|           19|\n",
      "|         2|    All-Seasons Salt|     104|           13|\n",
      "|         3|Robust Golden Uns...|      94|            7|\n",
      "|         4|Smart Ones Classi...|      38|            1|\n",
      "|         5|Green Chile Anyti...|       5|           13|\n",
      "|         6|        Dry Nose Oil|      11|           11|\n",
      "|         7|Pure Coconut Wate...|      98|            7|\n",
      "|         8|Cut Russet Potato...|     116|            1|\n",
      "|         9|Light Strawberry ...|     120|           16|\n",
      "|        10|Sparkling Orange ...|     115|            7|\n",
      "|        11|   Peach Mango Juice|      31|            7|\n",
      "|        12|Chocolate Fudge L...|     119|            1|\n",
      "|        13|   Saline Nasal Mist|      11|           11|\n",
      "|        14|Fresh Scent Dishw...|      74|           17|\n",
      "|        15|Overnight Diapers...|      56|           18|\n",
      "|        16|Mint Chocolate Fl...|     103|           19|\n",
      "|        17|   Rendered Duck Fat|      35|           12|\n",
      "|        18|Pizza for One Sup...|      79|            1|\n",
      "|        19|Gluten Free Quino...|      63|            9|\n",
      "|        20|Pomegranate Cranb...|      98|            7|\n",
      "+----------+--------------------+--------+-------------+\n",
      "only showing top 20 rows\n",
      "\n"
     ]
    }
   ],
   "source": [
    "products = spark.read \\\n",
    "    .options(header=True, inferSchema=True) \\\n",
    "    .csv(\"Instacart Kaggle/products.csv\")\n",
    "products.show()"
   ]
  },
  {
   "cell_type": "code",
   "execution_count": 8,
   "metadata": {},
   "outputs": [
    {
     "name": "stdout",
     "output_type": "stream",
     "text": [
      "+--------+-----------+\n",
      "|order_id|   products|\n",
      "+--------+-----------+\n",
      "|      17|39276 29259|\n",
      "|      34|39276 29259|\n",
      "|     137|39276 29259|\n",
      "|     182|39276 29259|\n",
      "|     257|39276 29259|\n",
      "|     313|39276 29259|\n",
      "|     353|39276 29259|\n",
      "|     386|39276 29259|\n",
      "|     414|39276 29259|\n",
      "|     418|39276 29259|\n",
      "|     437|39276 29259|\n",
      "|     452|39276 29259|\n",
      "|     474|39276 29259|\n",
      "|     492|39276 29259|\n",
      "|     497|39276 29259|\n",
      "|     513|39276 29259|\n",
      "|     517|39276 29259|\n",
      "|     604|39276 29259|\n",
      "|     680|39276 29259|\n",
      "|     758|39276 29259|\n",
      "+--------+-----------+\n",
      "only showing top 20 rows\n",
      "\n"
     ]
    }
   ],
   "source": [
    "sample_sub = spark.read \\\n",
    "    .options(header=True, inferSchema=True) \\\n",
    "    .csv(\"Instacart Kaggle/sample_submission.csv\")\n",
    "sample_sub.show()"
   ]
  },
  {
   "cell_type": "code",
   "execution_count": 9,
   "metadata": {},
   "outputs": [
    {
     "data": {
      "text/plain": [
       "[('aisle_id', 'int'), ('aisle', 'string')]"
      ]
     },
     "execution_count": 9,
     "metadata": {},
     "output_type": "execute_result"
    }
   ],
   "source": [
    "aisles.dtypes"
   ]
  },
  {
   "cell_type": "code",
   "execution_count": 10,
   "metadata": {},
   "outputs": [
    {
     "name": "stdout",
     "output_type": "stream",
     "text": [
      "+-------+-----------------+--------------------+\n",
      "|summary|         aisle_id|               aisle|\n",
      "+-------+-----------------+--------------------+\n",
      "|  count|              134|                 134|\n",
      "|   mean|             67.5|                null|\n",
      "| stddev|38.82653731663435|                null|\n",
      "|    min|                1|air fresheners ca...|\n",
      "|    max|              134|              yogurt|\n",
      "+-------+-----------------+--------------------+\n",
      "\n"
     ]
    }
   ],
   "source": [
    "aisles.describe().show()"
   ]
  },
  {
   "cell_type": "code",
   "execution_count": 11,
   "metadata": {},
   "outputs": [
    {
     "data": {
      "text/plain": [
       "[('department_id', 'int'), ('department', 'string')]"
      ]
     },
     "execution_count": 11,
     "metadata": {},
     "output_type": "execute_result"
    }
   ],
   "source": [
    "dptmts.dtypes"
   ]
  },
  {
   "cell_type": "code",
   "execution_count": 12,
   "metadata": {},
   "outputs": [
    {
     "name": "stdout",
     "output_type": "stream",
     "text": [
      "+-------+------------------+----------+\n",
      "|summary|     department_id|department|\n",
      "+-------+------------------+----------+\n",
      "|  count|                21|        21|\n",
      "|   mean|              11.0|      null|\n",
      "| stddev|6.2048368229954285|      null|\n",
      "|    min|                 1|   alcohol|\n",
      "|    max|                21|    snacks|\n",
      "+-------+------------------+----------+\n",
      "\n"
     ]
    }
   ],
   "source": [
    "dptmts.describe().show()"
   ]
  },
  {
   "cell_type": "code",
   "execution_count": 13,
   "metadata": {},
   "outputs": [
    {
     "data": {
      "text/plain": [
       "[('order_id', 'int'),\n",
       " ('product_id', 'int'),\n",
       " ('add_to_cart_order', 'int'),\n",
       " ('reordered', 'int')]"
      ]
     },
     "execution_count": 13,
     "metadata": {},
     "output_type": "execute_result"
    }
   ],
   "source": [
    "prod_in_orders.dtypes"
   ]
  },
  {
   "cell_type": "code",
   "execution_count": 14,
   "metadata": {},
   "outputs": [
    {
     "name": "stdout",
     "output_type": "stream",
     "text": [
      "+-------+------------------+------------------+-----------------+-------------------+\n",
      "|summary|          order_id|        product_id|add_to_cart_order|          reordered|\n",
      "+-------+------------------+------------------+-----------------+-------------------+\n",
      "|  count|          32434489|          32434489|         32434489|           32434489|\n",
      "|   mean|1710748.5189427834|25576.337535424096|8.351075517175559| 0.5896974667922161|\n",
      "| stddev|  987300.696452965|14096.689090257634|7.126671161204477|0.49188857672328484|\n",
      "|    min|                 2|                 1|                1|                  0|\n",
      "|    max|           3421083|             49688|              145|                  1|\n",
      "+-------+------------------+------------------+-----------------+-------------------+\n",
      "\n"
     ]
    }
   ],
   "source": [
    "prod_in_orders.describe().show()"
   ]
  },
  {
   "cell_type": "code",
   "execution_count": 15,
   "metadata": {},
   "outputs": [
    {
     "data": {
      "text/plain": [
       "[('product_id', 'int'),\n",
       " ('product_name', 'string'),\n",
       " ('aisle_id', 'string'),\n",
       " ('department_id', 'string')]"
      ]
     },
     "execution_count": 15,
     "metadata": {},
     "output_type": "execute_result"
    }
   ],
   "source": [
    "products.dtypes"
   ]
  },
  {
   "cell_type": "code",
   "execution_count": 16,
   "metadata": {},
   "outputs": [
    {
     "name": "stdout",
     "output_type": "stream",
     "text": [
      "+-------+------------------+--------------------+-----------------+------------------+\n",
      "|summary|        product_id|        product_name|         aisle_id|     department_id|\n",
      "+-------+------------------+--------------------+-----------------+------------------+\n",
      "|  count|             49688|               49688|            49688|             49688|\n",
      "|   mean|           24844.5|              1493.0|67.76919516171232|11.728580916537524|\n",
      "| stddev|14343.834424588147|   620.4329133758138|38.31645086851397| 5.850420587359203|\n",
      "|    min|                 1|\"\"\"Constant Comme...|          Blunted|              Red\"|\n",
      "|    max|             49688|with a Splash of ...|               99|                 9|\n",
      "+-------+------------------+--------------------+-----------------+------------------+\n",
      "\n"
     ]
    }
   ],
   "source": [
    "products.describe().show()"
   ]
  },
  {
   "cell_type": "code",
   "execution_count": 17,
   "metadata": {},
   "outputs": [
    {
     "data": {
      "text/plain": [
       "[('order_id', 'int'),\n",
       " ('user_id', 'int'),\n",
       " ('eval_set', 'string'),\n",
       " ('order_number', 'int'),\n",
       " ('order_dow', 'int'),\n",
       " ('order_hour_of_day', 'int'),\n",
       " ('days_since_prior_order', 'double')]"
      ]
     },
     "execution_count": 17,
     "metadata": {},
     "output_type": "execute_result"
    }
   ],
   "source": [
    "all_orders.dtypes"
   ]
  },
  {
   "cell_type": "code",
   "execution_count": 18,
   "metadata": {},
   "outputs": [
    {
     "name": "stdout",
     "output_type": "stream",
     "text": [
      "+-------+-----------------+------------------+--------+------------------+------------------+-----------------+----------------------+\n",
      "|summary|         order_id|           user_id|eval_set|      order_number|         order_dow|order_hour_of_day|days_since_prior_order|\n",
      "+-------+-----------------+------------------+--------+------------------+------------------+-----------------+----------------------+\n",
      "|  count|          3421083|           3421083| 3421083|           3421083|           3421083|          3421083|               3214874|\n",
      "|   mean|        1710542.0|102978.20805926077|    null|17.154857979183785|2.7762191095626734|13.45201534134074|    11.114836226863012|\n",
      "| stddev|987581.7398225827| 59533.71779350369|    null|17.733164470966642|2.0468291939879717|4.226088402102022|      9.20673651753377|\n",
      "|    min|                1|                 1|   prior|                 1|                 0|                0|                   0.0|\n",
      "|    max|          3421083|            206209|   train|               100|                 6|               23|                  30.0|\n",
      "+-------+-----------------+------------------+--------+------------------+------------------+-----------------+----------------------+\n",
      "\n"
     ]
    }
   ],
   "source": [
    "all_orders.describe().show()"
   ]
  },
  {
   "cell_type": "code",
   "execution_count": 19,
   "metadata": {},
   "outputs": [
    {
     "data": {
      "text/plain": [
       "[('order_id', 'int'),\n",
       " ('product_id', 'int'),\n",
       " ('add_to_cart_order', 'int'),\n",
       " ('reordered', 'int')]"
      ]
     },
     "execution_count": 19,
     "metadata": {},
     "output_type": "execute_result"
    }
   ],
   "source": [
    "train.dtypes"
   ]
  },
  {
   "cell_type": "code",
   "execution_count": 46,
   "metadata": {},
   "outputs": [
    {
     "name": "stdout",
     "output_type": "stream",
     "text": [
      "+--------+-------+--------+------------+---------+-----------------+----------------------+------------+\n",
      "|order_id|user_id|eval_set|order_number|order_dow|order_hour_of_day|days_since_prior_order|dspo_cum_sum|\n",
      "+--------+-------+--------+------------+---------+-----------------+----------------------+------------+\n",
      "| 3266887|    148|   prior|           1|        5|               16|                  null|        null|\n",
      "| 3169439|    148|   prior|           2|        1|                7|                   3.0|         3.0|\n",
      "| 2175302|    148|   prior|           3|        4|                5|                   3.0|         6.0|\n",
      "| 3221240|    148|   prior|           4|        6|               13|                   2.0|         8.0|\n",
      "|  415062|    148|   prior|           5|        2|               13|                   3.0|        11.0|\n",
      "| 1759549|    148|   prior|           6|        3|               12|                   1.0|        12.0|\n",
      "| 3300653|    148|   prior|           7|        6|               15|                  30.0|        42.0|\n",
      "| 3348216|    148|   train|           8|        5|               23|                  27.0|        69.0|\n",
      "|  323556|    463|   prior|           1|        2|               10|                  null|        null|\n",
      "| 2560493|    463|   prior|           2|        1|               13|                  13.0|        13.0|\n",
      "| 1477747|    463|   prior|           3|        6|               12|                  30.0|        43.0|\n",
      "|  762421|    463|   prior|           4|        6|               11|                  14.0|        57.0|\n",
      "| 1794943|    463|   prior|           5|        1|               17|                  30.0|        87.0|\n",
      "| 2315946|    463|   prior|           6|        4|               10|                  17.0|       104.0|\n",
      "| 1457870|    463|   prior|           7|        1|               17|                   4.0|       108.0|\n",
      "| 1493300|    463|    test|           8|        5|               17|                  25.0|       133.0|\n",
      "| 2225165|    471|   prior|           1|        3|               10|                  null|        null|\n",
      "| 2928823|    471|   prior|           2|        5|               12|                   9.0|         9.0|\n",
      "| 1066262|    471|   prior|           3|        0|               14|                   9.0|        18.0|\n",
      "| 1853093|    471|   prior|           4|        2|               14|                  16.0|        34.0|\n",
      "+--------+-------+--------+------------+---------+-----------------+----------------------+------------+\n",
      "only showing top 20 rows\n",
      "\n"
     ]
    }
   ],
   "source": [
    "from pyspark.sql import Window\n",
    "\n",
    "all_orders_NF = all_orders\n",
    "windowval = Window.partitionBy('user_id').orderBy('order_number').rangeBetween(Window.unboundedPreceding, 0)\n",
    "all_orders_NF = all_orders_NF.withColumn('dspo_cum_sum', F.sum('days_since_prior_order').over(windowval))\n",
    "all_orders_NF.show()"
   ]
  },
  {
   "cell_type": "code",
   "execution_count": 20,
   "metadata": {},
   "outputs": [
    {
     "name": "stdout",
     "output_type": "stream",
     "text": [
      "+-------------+--------+----------+--------------------+--------------------+-------------+\n",
      "|department_id|aisle_id|product_id|        product_name|               aisle|   department|\n",
      "+-------------+--------+----------+--------------------+--------------------+-------------+\n",
      "|           19|      61|         1|Chocolate Sandwic...|       cookies cakes|       snacks|\n",
      "|           13|     104|         2|    All-Seasons Salt|   spices seasonings|       pantry|\n",
      "|            7|      94|         3|Robust Golden Uns...|                 tea|    beverages|\n",
      "|            1|      38|         4|Smart Ones Classi...|        frozen meals|       frozen|\n",
      "|           13|       5|         5|Green Chile Anyti...|marinades meat pr...|       pantry|\n",
      "|           11|      11|         6|        Dry Nose Oil|    cold flu allergy|personal care|\n",
      "|            7|      98|         7|Pure Coconut Wate...|       juice nectars|    beverages|\n",
      "|            1|     116|         8|Cut Russet Potato...|      frozen produce|       frozen|\n",
      "|           16|     120|         9|Light Strawberry ...|              yogurt|   dairy eggs|\n",
      "|            7|     115|        10|Sparkling Orange ...|water seltzer spa...|    beverages|\n",
      "+-------------+--------+----------+--------------------+--------------------+-------------+\n",
      "only showing top 10 rows\n",
      "\n"
     ]
    }
   ],
   "source": [
    "#The first join will connect the products tables\n",
    "prod_full = products.join(aisles, on='aisle_id')\n",
    "prod_full = prod_full.join(dptmts, on='department_id')\n",
    "prod_full.show(10)"
   ]
  },
  {
   "cell_type": "code",
   "execution_count": 47,
   "metadata": {
    "collapsed": true,
    "scrolled": true
   },
   "outputs": [],
   "source": [
    "#The second join will connect the orders tables\n",
    "order_full = prod_in_orders.join(all_orders_NF, on='order_id')"
   ]
  },
  {
   "cell_type": "code",
   "execution_count": 48,
   "metadata": {},
   "outputs": [],
   "source": [
    "# The third join will connect products and orders\n",
    "order_prod_full = order_full.join(prod_full, on='product_id')"
   ]
  },
  {
   "cell_type": "code",
   "execution_count": 23,
   "metadata": {},
   "outputs": [
    {
     "name": "stdout",
     "output_type": "stream",
     "text": [
      "+---------------+-------+\n",
      "|     department|  count|\n",
      "+---------------+-------+\n",
      "|        produce|9479291|\n",
      "|     dairy eggs|5414016|\n",
      "|         snacks|2887550|\n",
      "|      beverages|2690129|\n",
      "|         frozen|2236432|\n",
      "|         pantry|1875577|\n",
      "|         bakery|1176787|\n",
      "|   canned goods|1068058|\n",
      "|           deli|1051249|\n",
      "|dry goods pasta| 866627|\n",
      "|      household| 738663|\n",
      "|      breakfast| 709569|\n",
      "|   meat seafood| 708931|\n",
      "|  personal care| 447123|\n",
      "|         babies| 423802|\n",
      "|  international| 269253|\n",
      "|        alcohol| 153696|\n",
      "|           pets|  97724|\n",
      "|        missing|  69145|\n",
      "|          other|  36291|\n",
      "+---------------+-------+\n",
      "only showing top 20 rows\n",
      "\n"
     ]
    }
   ],
   "source": [
    "#Let´s see which are the most relevant departments\n",
    "o = order_prod_full\n",
    "o = o.groupby('department').count()\n",
    "from pyspark.sql.functions import desc\n",
    "o.sort(desc(\"count\")).show()"
   ]
  },
  {
   "cell_type": "code",
   "execution_count": 49,
   "metadata": {},
   "outputs": [
    {
     "data": {
      "text/plain": [
       "['product_id',\n",
       " 'order_id',\n",
       " 'add_to_cart_order',\n",
       " 'reordered',\n",
       " 'user_id',\n",
       " 'eval_set',\n",
       " 'order_number',\n",
       " 'order_dow',\n",
       " 'order_hour_of_day',\n",
       " 'days_since_prior_order',\n",
       " 'dspo_cum_sum',\n",
       " 'department_id',\n",
       " 'aisle_id',\n",
       " 'product_name',\n",
       " 'aisle',\n",
       " 'department']"
      ]
     },
     "execution_count": 49,
     "metadata": {},
     "output_type": "execute_result"
    }
   ],
   "source": [
    "o = order_prod_full\n",
    "o.columns"
   ]
  },
  {
   "cell_type": "code",
   "execution_count": 26,
   "metadata": {},
   "outputs": [
    {
     "name": "stdout",
     "output_type": "stream",
     "text": [
      "+-------+----------+-----+\n",
      "|user_id|product_id|count|\n",
      "+-------+----------+-----+\n",
      "|  41356|     14366|   99|\n",
      "| 141736|     25133|   99|\n",
      "|  17997|      4210|   99|\n",
      "|  41356|     38652|   99|\n",
      "|  41356|      6583|   99|\n",
      "| 120897|     12013|   98|\n",
      "| 103593|     28204|   98|\n",
      "|  41356|     29671|   98|\n",
      "|  84478|     31981|   97|\n",
      "|  98085|       196|   97|\n",
      "|  99707|     24852|   97|\n",
      "|  99753|     27845|   96|\n",
      "| 141736|     14947|   96|\n",
      "|  69919|     24852|   96|\n",
      "| 103593|      4920|   95|\n",
      "| 140440|     18926|   95|\n",
      "| 123746|      1160|   95|\n",
      "|  99753|     38689|   95|\n",
      "|  76678|     19660|   95|\n",
      "|  36335|     11784|   95|\n",
      "+-------+----------+-----+\n",
      "only showing top 20 rows\n",
      "\n"
     ]
    }
   ],
   "source": [
    "o = o.groupby('user_id', 'product_id').count()\n",
    "from pyspark.sql.functions import desc\n",
    "o.sort(desc(\"count\")).show()"
   ]
  },
  {
   "cell_type": "code",
   "execution_count": 36,
   "metadata": {},
   "outputs": [
    {
     "name": "stdout",
     "output_type": "stream",
     "text": [
      "+-------+----------+-----+\n",
      "|user_id|product_id|count|\n",
      "+-------+----------+-----+\n",
      "|  36335|     26128|    1|\n",
      "|  36335|     18828|    4|\n",
      "|  36335|     27966|    5|\n",
      "|  36335|     36724|    2|\n",
      "|  36335|     38456|   12|\n",
      "|  36335|     47209|    3|\n",
      "|  36335|     13045|    7|\n",
      "|  36335|     40310|   14|\n",
      "|  36335|     40706|    1|\n",
      "|  36335|     11777|    3|\n",
      "|  36335|     18234|    1|\n",
      "|  36335|     21288|    1|\n",
      "|  36335|      2228|    1|\n",
      "|  36335|     39928|    1|\n",
      "|  36335|     46474|    1|\n",
      "|  36335|     35535|    1|\n",
      "|  36335|     12980|    3|\n",
      "|  36335|     14112|   10|\n",
      "|  36335|     18425|    1|\n",
      "|  36335|     13829|   35|\n",
      "|  36335|     16558|    1|\n",
      "|  36335|     14540|    5|\n",
      "|  36335|     12440|    1|\n",
      "|  36335|     29562|    1|\n",
      "|  36335|     43735|   13|\n",
      "|  36335|      9076|    2|\n",
      "|  36335|       212|   10|\n",
      "|  36335|     25588|   12|\n",
      "|  36335|     34969|    1|\n",
      "|  36335|     38739|    1|\n",
      "|  36335|      2597|    5|\n",
      "|  36335|     13675|    8|\n",
      "|  36335|     26104|    1|\n",
      "|  36335|     39097|    1|\n",
      "|  36335|     23554|    1|\n",
      "|  36335|     45948|    2|\n",
      "|  36335|     32950|    1|\n",
      "|  36335|     35803|    3|\n",
      "|  36335|     47547|    1|\n",
      "|  36335|     49683|   20|\n",
      "+-------+----------+-----+\n",
      "only showing top 40 rows\n",
      "\n"
     ]
    }
   ],
   "source": [
    "o[o.user_id == 36335].show(40)"
   ]
  },
  {
   "cell_type": "code",
   "execution_count": 50,
   "metadata": {},
   "outputs": [
    {
     "name": "stdout",
     "output_type": "stream",
     "text": [
      "+----------+--------+-----------------+---------+-------+--------+------------+---------+-----------------+----------------------+------------+-------------+--------+--------------------+--------------------+----------+\n",
      "|product_id|order_id|add_to_cart_order|reordered|user_id|eval_set|order_number|order_dow|order_hour_of_day|days_since_prior_order|dspo_cum_sum|department_id|aisle_id|        product_name|               aisle|department|\n",
      "+----------+--------+-----------------+---------+-------+--------+------------+---------+-----------------+----------------------+------------+-------------+--------+--------------------+--------------------+----------+\n",
      "|     40706| 2887146|                9|        1|  76678|   prior|          64|        6|               17|                   2.0|       210.0|            4|     123|Organic Grape Tom...|packaged vegetabl...|   produce|\n",
      "|     40706| 2882907|               18|        0|  76678|   prior|          35|        1|               15|                   2.0|       121.0|            4|     123|Organic Grape Tom...|packaged vegetabl...|   produce|\n",
      "|     40706| 2671179|               10|        1|  76678|   prior|          54|        2|               17|                   3.0|       178.0|            4|     123|Organic Grape Tom...|packaged vegetabl...|   produce|\n",
      "+----------+--------+-----------------+---------+-------+--------+------------+---------+-----------------+----------------------+------------+-------------+--------+--------------------+--------------------+----------+\n",
      "\n"
     ]
    }
   ],
   "source": [
    "order_prod_full[(order_prod_full.user_id == 76678) & (order_prod_full.product_id == 40706)].show()"
   ]
  },
  {
   "cell_type": "code",
   "execution_count": 54,
   "metadata": {},
   "outputs": [
    {
     "name": "stdout",
     "output_type": "stream",
     "text": [
      "+-------+--------+----------+-----+\n",
      "|user_id|order_id|product_id|count|\n",
      "+-------+--------+----------+-----+\n",
      "|  47136|  133160|       148|    1|\n",
      "|  12428|  210175|       148|    1|\n",
      "|  63587|  295286|       148|    1|\n",
      "| 158452|  407324|       148|    1|\n",
      "|  82360|  544414|       148|    1|\n",
      "| 157841|  602118|       148|    1|\n",
      "|   8196|  716590|       148|    1|\n",
      "|  30910|  730383|       148|    1|\n",
      "| 122073|  734099|       148|    1|\n",
      "| 145986| 1074455|       148|    1|\n",
      "|  71822| 1300552|       148|    1|\n",
      "|  86164| 1382485|       148|    1|\n",
      "| 147636| 1487488|       148|    1|\n",
      "|   4090| 1503403|       148|    1|\n",
      "| 115867| 1932914|       148|    1|\n",
      "| 110844| 2292741|       148|    1|\n",
      "|  56669| 2762741|       148|    1|\n",
      "|  12794| 2999975|       148|    1|\n",
      "| 121770| 3336747|       148|    1|\n",
      "|  38333|   85858|       148|    1|\n",
      "+-------+--------+----------+-----+\n",
      "only showing top 20 rows\n",
      "\n"
     ]
    }
   ],
   "source": [
    "freq = order_prod_full.groupby('user_id','order_id','product_id').count().show()"
   ]
  },
  {
   "cell_type": "code",
   "execution_count": 69,
   "metadata": {},
   "outputs": [],
   "source": [
    "test = order_prod_full\n",
    "windowval = Window.partitionBy('user_id','product_id').orderBy('order_number').rangeBetween(Window.unboundedPreceding, 0)\n",
    "test = test.withColumn('MIN_dspo_cum_sum', F.min('dspo_cum_sum').over(windowval))\n",
    "test = test.withColumn('MAX_dspo_cum_sum', F.max('dspo_cum_sum').over(windowval))\n",
    "test = test.withColumn('COUNT_dspo_cum_sum', F.count('dspo_cum_sum').over(windowval))"
   ]
  },
  {
   "cell_type": "code",
   "execution_count": 70,
   "metadata": {},
   "outputs": [],
   "source": [
    "test = test.withColumn('DIFF_dspo_cum_sum', test.MAX_dspo_cum_sum - test.MIN_dspo_cum_sum)"
   ]
  },
  {
   "cell_type": "code",
   "execution_count": 71,
   "metadata": {
    "collapsed": true
   },
   "outputs": [],
   "source": [
    "test = test.drop('MAX_dspo_cum_sum')\n",
    "test = test.drop('MIN_dspo_cum_sum')"
   ]
  },
  {
   "cell_type": "code",
   "execution_count": 72,
   "metadata": {
    "collapsed": true
   },
   "outputs": [],
   "source": [
    "test = test.withColumn('freq_user_prod', test.DIFF_dspo_cum_sum / (test.COUNT_dspo_cum_sum - 1))"
   ]
  },
  {
   "cell_type": "code",
   "execution_count": 74,
   "metadata": {
    "collapsed": true
   },
   "outputs": [],
   "source": [
    "test = test.withColumnRenamed('COUNT_dspo_cum_sum', 'count_user_prod')"
   ]
  },
  {
   "cell_type": "code",
   "execution_count": 73,
   "metadata": {},
   "outputs": [
    {
     "name": "stdout",
     "output_type": "stream",
     "text": [
      "+----------+--------+-----------------+---------+-------+--------+------------+---------+-----------------+----------------------+------------+-------------+--------+--------------------+------------------+----------+------------------+-----------------+------------------+\n",
      "|product_id|order_id|add_to_cart_order|reordered|user_id|eval_set|order_number|order_dow|order_hour_of_day|days_since_prior_order|dspo_cum_sum|department_id|aisle_id|        product_name|             aisle|department|COUNT_dspo_cum_sum|DIFF_dspo_cum_sum|    freq_user_prod|\n",
      "+----------+--------+-----------------+---------+-------+--------+------------+---------+-----------------+----------------------+------------+-------------+--------+--------------------+------------------+----------+------------------+-----------------+------------------+\n",
      "|     29894| 2984707|                7|        0|      7|   prior|          18|        0|                9|                   7.0|       193.0|           13|      17|Organic Dark Brow...|baking ingredients|    pantry|                 1|              0.0|              null|\n",
      "|     29993| 1695742|                2|        0|      7|   prior|           4|        2|               10|                   9.0|        69.0|           16|      84|Organic Low Fat C...|              milk|dairy eggs|                 1|              0.0|              null|\n",
      "|     29993| 2507052|                1|        1|      7|   prior|           9|        6|                7|                   4.0|       101.0|           16|      84|Organic Low Fat C...|              milk|dairy eggs|                 2|             32.0|              32.0|\n",
      "|     29993| 2452257|                2|        1|      7|   prior|          20|        3|                9|                   7.0|       203.0|           16|      84|Organic Low Fat C...|              milk|dairy eggs|                 3|            134.0|              67.0|\n",
      "|     23271| 2109666|               26|        0|     14|   prior|           9|        5|                9|                  30.0|       199.0|           13|      72|Tabasco Chipotle ...|        condiments|    pantry|                 1|              0.0|              null|\n",
      "|     34234| 1385564|                5|        0|     14|   prior|           4|        6|                8|                  20.0|        52.0|           16|      86|Grade AA Large Wh...|              eggs|dairy eggs|                 1|              0.0|              null|\n",
      "|     28577|  673583|               26|        0|     31|   prior|          12|        4|               12|                  10.0|        55.0|            7|      31|No Pulp Orange Juice|      refrigerated| beverages|                 1|              0.0|              null|\n",
      "|     28577| 2647083|               30|        1|     31|   prior|          16|        2|                8|                   8.0|        81.0|            7|      31|No Pulp Orange Juice|      refrigerated| beverages|                 2|             26.0|              26.0|\n",
      "|     34234| 2951746|               13|        0|     31|   prior|          14|        2|                9|                   6.0|        67.0|           16|      86|Grade AA Large Wh...|              eggs|dairy eggs|                 1|              0.0|              null|\n",
      "|     31528| 1740853|                2|        0|     37|   prior|          13|        6|               19|                  14.0|       151.0|           16|      21|Natural Emmentale...|   packaged cheese|dairy eggs|                 1|              0.0|              null|\n",
      "|      8638| 1244041|                3|        0|     38|   prior|           5|        0|               14|                  22.0|        89.0|            1|      37|Vanilla Milk Choc...|     ice cream ice|    frozen|                 1|              0.0|              null|\n",
      "|     26706| 2570028|                8|        0|     40|   prior|           1|        0|                9|                  null|        null|            1|      38|Chicken Pad Thai ...|      frozen meals|    frozen|                 0|             null|              null|\n",
      "|     40574| 2518161|                7|        0|     46|   prior|           5|        1|               17|                  30.0|        51.0|           14|     121|         Rice Cereal|            cereal| breakfast|                 1|              0.0|              null|\n",
      "|     40574|  821110|                7|        1|     46|   prior|           7|        1|               12|                  28.0|       107.0|           14|     121|         Rice Cereal|            cereal| breakfast|                 2|             56.0|              56.0|\n",
      "|     40574|  398975|                3|        1|     46|   prior|           8|        1|               12|                  21.0|       128.0|           14|     121|         Rice Cereal|            cereal| breakfast|                 3|             77.0|              38.5|\n",
      "|     40574| 3198849|                4|        1|     46|   prior|           9|        1|               16|                  14.0|       142.0|           14|     121|         Rice Cereal|            cereal| breakfast|                 4|             91.0|30.333333333333332|\n",
      "|     40574| 2998652|               11|        1|     46|   prior|          12|        0|               16|                  14.0|       169.0|           14|     121|         Rice Cereal|            cereal| breakfast|                 5|            118.0|              29.5|\n",
      "|       148|  500437|                9|        0|     49|   prior|           7|        2|               15|                  30.0|       169.0|            4|      24|          Nectarines|      fresh fruits|   produce|                 1|              0.0|              null|\n",
      "|     31528| 1673791|                3|        0|     50|   prior|           8|        6|               14|                   3.0|        52.0|           16|      21|Natural Emmentale...|   packaged cheese|dairy eggs|                 1|              0.0|              null|\n",
      "|     31528|  935755|                4|        1|     50|   prior|          11|        6|                9|                   4.0|        66.0|           16|      21|Natural Emmentale...|   packaged cheese|dairy eggs|                 2|             14.0|              14.0|\n",
      "+----------+--------+-----------------+---------+-------+--------+------------+---------+-----------------+----------------------+------------+-------------+--------+--------------------+------------------+----------+------------------+-----------------+------------------+\n",
      "only showing top 20 rows\n",
      "\n"
     ]
    }
   ],
   "source": [
    "test.show()"
   ]
  },
  {
   "cell_type": "code",
   "execution_count": 29,
   "metadata": {
    "collapsed": true
   },
   "outputs": [],
   "source": [
    "#write the file\n",
    "#o.coalesce(1).write.format(\"com.databricks.spark.csv\").option(\"header\", \"true\").save(\"user_aisle.csv\")"
   ]
  },
  {
   "cell_type": "code",
   "execution_count": 30,
   "metadata": {
    "collapsed": true
   },
   "outputs": [],
   "source": [
    "#write the file\n",
    "#r.coalesce(1).write.format(\"com.databricks.spark.csv\").option(\"header\", \"true\").save(\"user_department.csv\")"
   ]
  }
 ],
 "metadata": {
  "kernelspec": {
   "display_name": "Python 3",
   "language": "python",
   "name": "python3"
  },
  "language_info": {
   "codemirror_mode": {
    "name": "ipython",
    "version": 3
   },
   "file_extension": ".py",
   "mimetype": "text/x-python",
   "name": "python",
   "nbconvert_exporter": "python",
   "pygments_lexer": "ipython3",
   "version": "3.6.2"
  }
 },
 "nbformat": 4,
 "nbformat_minor": 2
}
