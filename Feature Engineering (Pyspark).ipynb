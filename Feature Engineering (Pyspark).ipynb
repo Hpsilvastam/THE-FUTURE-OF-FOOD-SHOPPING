{
 "cells": [
  {
   "cell_type": "code",
   "execution_count": 16,
   "metadata": {
    "collapsed": true
   },
   "outputs": [],
   "source": [
    "%matplotlib inline\n",
    "import pyspark.sql.functions as F"
   ]
  },
  {
   "cell_type": "code",
   "execution_count": 17,
   "metadata": {},
   "outputs": [],
   "source": [
    "aisles = spark.read \\\n",
    "    .options(header=True, inferSchema=True) \\\n",
    "    .csv(\"Instacart Kaggle/aisles.csv\")\n",
    "dptmts = spark.read \\\n",
    "    .options(header=True, inferSchema=True) \\\n",
    "    .csv(\"Instacart Kaggle/departments.csv\")\n",
    "prod_in_orders = spark.read \\\n",
    "    .options(header=True, inferSchema=True) \\\n",
    "    .csv(\"Instacart Kaggle/order_products__prior.csv\")\n",
    "all_orders = spark.read \\\n",
    "    .options(header=True, inferSchema=True) \\\n",
    "    .csv(\"Instacart Kaggle/orders.csv\")\n",
    "train = spark.read \\\n",
    "    .options(header=True, inferSchema=True) \\\n",
    "    .csv(\"Instacart Kaggle/order_products__train.csv\")\n",
    "products = spark.read \\\n",
    "    .options(header=True, inferSchema=True) \\\n",
    "    .csv(\"Instacart Kaggle/products.csv\")\n",
    "sample_sub = spark.read \\\n",
    "    .options(header=True, inferSchema=True) \\\n",
    "    .csv(\"Instacart Kaggle/sample_submission.csv\")"
   ]
  },
  {
   "cell_type": "markdown",
   "metadata": {},
   "source": [
    "### 1. Days since first order\n",
    "\n",
    "The idea here was to have a feature that count how many days has passed since the user first order."
   ]
  },
  {
   "cell_type": "code",
   "execution_count": 18,
   "metadata": {},
   "outputs": [
    {
     "name": "stdout",
     "output_type": "stream",
     "text": [
      "+--------+-------+--------+------------+---------+-----------------+----------------------+------------+\n",
      "|order_id|user_id|eval_set|order_number|order_dow|order_hour_of_day|days_since_prior_order|dspo_cum_sum|\n",
      "+--------+-------+--------+------------+---------+-----------------+----------------------+------------+\n",
      "| 3266887|    148|   prior|           1|        5|               16|                  null|        null|\n",
      "| 3169439|    148|   prior|           2|        1|                7|                   3.0|         3.0|\n",
      "| 2175302|    148|   prior|           3|        4|                5|                   3.0|         6.0|\n",
      "| 3221240|    148|   prior|           4|        6|               13|                   2.0|         8.0|\n",
      "|  415062|    148|   prior|           5|        2|               13|                   3.0|        11.0|\n",
      "| 1759549|    148|   prior|           6|        3|               12|                   1.0|        12.0|\n",
      "| 3300653|    148|   prior|           7|        6|               15|                  30.0|        42.0|\n",
      "| 3348216|    148|   train|           8|        5|               23|                  27.0|        69.0|\n",
      "|  323556|    463|   prior|           1|        2|               10|                  null|        null|\n",
      "| 2560493|    463|   prior|           2|        1|               13|                  13.0|        13.0|\n",
      "+--------+-------+--------+------------+---------+-----------------+----------------------+------------+\n",
      "only showing top 10 rows\n",
      "\n"
     ]
    }
   ],
   "source": [
    "from pyspark.sql import Window\n",
    "\n",
    "windowval = Window.partitionBy('user_id').orderBy('order_number').rangeBetween(Window.unboundedPreceding, 0)\n",
    "all_orders = all_orders.withColumn('dspo_cum_sum', F.sum('days_since_prior_order').over(windowval))\n",
    "all_orders.show(10)"
   ]
  },
  {
   "cell_type": "markdown",
   "metadata": {},
   "source": [
    "### 2. Frequency of products purchased by user\n",
    "\n",
    "Frequency in days of how often the user historicaly has purchased the product\n",
    "Along with the calculations I've included the **number of times the user has purchased the product**"
   ]
  },
  {
   "cell_type": "code",
   "execution_count": 19,
   "metadata": {},
   "outputs": [],
   "source": [
    "#The first join will connect the products tables\n",
    "prod_full = products.join(aisles, on='aisle_id')\n",
    "prod_full = prod_full.join(dptmts, on='department_id')\n",
    "#The second join will connect the orders tables\n",
    "order_full = prod_in_orders.join(all_orders, on='order_id')\n",
    "# The third join will connect products and orders\n",
    "order_prod_full = order_full.join(prod_full, on='product_id')"
   ]
  },
  {
   "cell_type": "code",
   "execution_count": 20,
   "metadata": {},
   "outputs": [],
   "source": [
    "from pyspark.sql import Window\n",
    "opf = order_prod_full\n",
    "windowval = Window.partitionBy('user_id','product_id').orderBy('order_number').rangeBetween(Window.unboundedPreceding, 0)\n",
    "opf = opf.withColumn('MIN_dspo_cum_sum', F.min('dspo_cum_sum').over(windowval))\n",
    "opf = opf.withColumn('MAX_dspo_cum_sum', F.max('dspo_cum_sum').over(windowval))\n",
    "opf = opf.withColumn('COUNT_dspo_cum_sum', F.count('dspo_cum_sum').over(windowval))"
   ]
  },
  {
   "cell_type": "code",
   "execution_count": 22,
   "metadata": {},
   "outputs": [],
   "source": [
    "opf = opf.withColumn('DIFF_dspo_cum_sum', opf.MAX_dspo_cum_sum - opf.MIN_dspo_cum_sum)"
   ]
  },
  {
   "cell_type": "code",
   "execution_count": 23,
   "metadata": {
    "collapsed": true
   },
   "outputs": [],
   "source": [
    "opf = opf.drop('MAX_dspo_cum_sum')\n",
    "opf = opf.drop('MIN_dspo_cum_sum')"
   ]
  },
  {
   "cell_type": "code",
   "execution_count": 25,
   "metadata": {},
   "outputs": [],
   "source": [
    "opf = opf.withColumn('freq_user_prod', opf.DIFF_dspo_cum_sum / (opf.COUNT_dspo_cum_sum - 1))"
   ]
  },
  {
   "cell_type": "code",
   "execution_count": 26,
   "metadata": {
    "collapsed": true
   },
   "outputs": [],
   "source": [
    "opf = opf.withColumnRenamed('COUNT_dspo_cum_sum', 'count_user_prod')"
   ]
  },
  {
   "cell_type": "code",
   "execution_count": 27,
   "metadata": {},
   "outputs": [
    {
     "name": "stdout",
     "output_type": "stream",
     "text": [
      "+----------+--------+-----------------+---------+-------+--------+------------+---------+-----------------+----------------------+------------+-------------+--------+--------------------+------------------+----------+---------------+-----------------+------------------+\n",
      "|product_id|order_id|add_to_cart_order|reordered|user_id|eval_set|order_number|order_dow|order_hour_of_day|days_since_prior_order|dspo_cum_sum|department_id|aisle_id|        product_name|             aisle|department|count_user_prod|DIFF_dspo_cum_sum|    freq_user_prod|\n",
      "+----------+--------+-----------------+---------+-------+--------+------------+---------+-----------------+----------------------+------------+-------------+--------+--------------------+------------------+----------+---------------+-----------------+------------------+\n",
      "|     29894| 2984707|                7|        0|      7|   prior|          18|        0|                9|                   7.0|       193.0|           13|      17|Organic Dark Brow...|baking ingredients|    pantry|              1|              0.0|              null|\n",
      "|     29993| 1695742|                2|        0|      7|   prior|           4|        2|               10|                   9.0|        69.0|           16|      84|Organic Low Fat C...|              milk|dairy eggs|              1|              0.0|              null|\n",
      "|     29993| 2507052|                1|        1|      7|   prior|           9|        6|                7|                   4.0|       101.0|           16|      84|Organic Low Fat C...|              milk|dairy eggs|              2|             32.0|              32.0|\n",
      "|     29993| 2452257|                2|        1|      7|   prior|          20|        3|                9|                   7.0|       203.0|           16|      84|Organic Low Fat C...|              milk|dairy eggs|              3|            134.0|              67.0|\n",
      "|     23271| 2109666|               26|        0|     14|   prior|           9|        5|                9|                  30.0|       199.0|           13|      72|Tabasco Chipotle ...|        condiments|    pantry|              1|              0.0|              null|\n",
      "|     34234| 1385564|                5|        0|     14|   prior|           4|        6|                8|                  20.0|        52.0|           16|      86|Grade AA Large Wh...|              eggs|dairy eggs|              1|              0.0|              null|\n",
      "|     28577|  673583|               26|        0|     31|   prior|          12|        4|               12|                  10.0|        55.0|            7|      31|No Pulp Orange Juice|      refrigerated| beverages|              1|              0.0|              null|\n",
      "|     28577| 2647083|               30|        1|     31|   prior|          16|        2|                8|                   8.0|        81.0|            7|      31|No Pulp Orange Juice|      refrigerated| beverages|              2|             26.0|              26.0|\n",
      "|     34234| 2951746|               13|        0|     31|   prior|          14|        2|                9|                   6.0|        67.0|           16|      86|Grade AA Large Wh...|              eggs|dairy eggs|              1|              0.0|              null|\n",
      "|     31528| 1740853|                2|        0|     37|   prior|          13|        6|               19|                  14.0|       151.0|           16|      21|Natural Emmentale...|   packaged cheese|dairy eggs|              1|              0.0|              null|\n",
      "|      8638| 1244041|                3|        0|     38|   prior|           5|        0|               14|                  22.0|        89.0|            1|      37|Vanilla Milk Choc...|     ice cream ice|    frozen|              1|              0.0|              null|\n",
      "|     26706| 2570028|                8|        0|     40|   prior|           1|        0|                9|                  null|        null|            1|      38|Chicken Pad Thai ...|      frozen meals|    frozen|              0|             null|              null|\n",
      "|     40574| 2518161|                7|        0|     46|   prior|           5|        1|               17|                  30.0|        51.0|           14|     121|         Rice Cereal|            cereal| breakfast|              1|              0.0|              null|\n",
      "|     40574|  821110|                7|        1|     46|   prior|           7|        1|               12|                  28.0|       107.0|           14|     121|         Rice Cereal|            cereal| breakfast|              2|             56.0|              56.0|\n",
      "|     40574|  398975|                3|        1|     46|   prior|           8|        1|               12|                  21.0|       128.0|           14|     121|         Rice Cereal|            cereal| breakfast|              3|             77.0|              38.5|\n",
      "|     40574| 3198849|                4|        1|     46|   prior|           9|        1|               16|                  14.0|       142.0|           14|     121|         Rice Cereal|            cereal| breakfast|              4|             91.0|30.333333333333332|\n",
      "|     40574| 2998652|               11|        1|     46|   prior|          12|        0|               16|                  14.0|       169.0|           14|     121|         Rice Cereal|            cereal| breakfast|              5|            118.0|              29.5|\n",
      "|       148|  500437|                9|        0|     49|   prior|           7|        2|               15|                  30.0|       169.0|            4|      24|          Nectarines|      fresh fruits|   produce|              1|              0.0|              null|\n",
      "|     31528| 1673791|                3|        0|     50|   prior|           8|        6|               14|                   3.0|        52.0|           16|      21|Natural Emmentale...|   packaged cheese|dairy eggs|              1|              0.0|              null|\n",
      "|     31528|  935755|                4|        1|     50|   prior|          11|        6|                9|                   4.0|        66.0|           16|      21|Natural Emmentale...|   packaged cheese|dairy eggs|              2|             14.0|              14.0|\n",
      "+----------+--------+-----------------+---------+-------+--------+------------+---------+-----------------+----------------------+------------+-------------+--------+--------------------+------------------+----------+---------------+-----------------+------------------+\n",
      "only showing top 20 rows\n",
      "\n"
     ]
    }
   ],
   "source": [
    "opf.show()"
   ]
  }
 ],
 "metadata": {
  "kernelspec": {
   "display_name": "Python 3",
   "language": "python",
   "name": "python3"
  },
  "language_info": {
   "codemirror_mode": {
    "name": "ipython",
    "version": 3
   },
   "file_extension": ".py",
   "mimetype": "text/x-python",
   "name": "python",
   "nbconvert_exporter": "python",
   "pygments_lexer": "ipython3",
   "version": "3.6.2"
  }
 },
 "nbformat": 4,
 "nbformat_minor": 2
}
