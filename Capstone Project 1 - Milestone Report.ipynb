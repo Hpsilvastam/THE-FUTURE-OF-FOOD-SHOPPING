{
 "cells": [
  {
   "cell_type": "markdown",
   "metadata": {},
   "source": [
    "# Capstone Project 1 - Milestone Report\n",
    "\n",
    "## Learning Objectives\n",
    "\n",
    "Write a draft of your Capstone project 1 milestone report with the following included:\n",
    "\n",
    "1. Define the problem\n",
    "2. Identify your client\n",
    "3. Describe your data set, and how you cleaned/wrangled it\n",
    "4. List other potential data sets you could use\n",
    "5. Explain your initial findings\n",
    "6. Share the Capstone Project 1 code and milestone report related to Github repository\n",
    "\n",
    "Prior Knowledge Recap\n",
    "\n",
    "You have proposed a project, collected a data set, wrangled and cleaned up the data, and explored it with descriptive + inferential statistics techniques."
   ]
  },
  {
   "cell_type": "markdown",
   "metadata": {},
   "source": [
    "## 1.Define the problem\n",
    "\n",
    "\n",
    "Whether you shop from meticulously planned grocery lists or let whimsy guide your grazing, our unique food rituals define who we are. Instacart, a grocery ordering and delivery app, aims to make it easy to fill your refrigerator and pantry with your personal favorites and staples when you need them. After selecting products through the Instacart app, personal shoppers review your order and do the in-store shopping and delivery for you.\n",
    "\n",
    "Instacart’s data science team plays a big part in providing this delightful shopping experience. Currently they use transactional data to develop models that predict which products a user will buy again, try for the first time, or add to their cart next during a session. Recently, Instacart open sourced this data - see their blog post on 3 Million Instacart Orders, Open Sourced.\n",
    "\n",
    "In this competition, Instacart is challenging the Kaggle community to use this anonymized data on customer orders over time to predict which previously purchased products will be in a user’s next order. They’re not only looking for the best model, Instacart’s also looking for machine learning engineers to grow their team."
   ]
  },
  {
   "cell_type": "markdown",
   "metadata": {},
   "source": [
    "## 2.Identify your client\n",
    "\n",
    "\n",
    "As it is a past Kaggle competition my clients are Instacart, who is looking to improve their model on predicting which products a user will buy. And I also included my contacts in the food industry, as I'm sharing my findings with them through LinkedIn articles. I believe there is a lot of knowledge that could benefit this community."
   ]
  },
  {
   "cell_type": "markdown",
   "metadata": {},
   "source": [
    "## 3.Describe your data set, and how you cleaned/wrangled it\n",
    "\n",
    "\n",
    "This data is a relational set of files describing customers' orders over time. It's a total of 6 files.\n",
    "Each entity (customer, product, order, aisle, etc.) has an associated unique id. Most of the files and variable names are self-explanatory.\n",
    "\n",
    "For the data wrangling I'll use pandas in iPython.\n",
    "\n",
    "So for every dataset I started by: \n",
    "\tread the csv file\n",
    "\tcheck unicode\n",
    "It all loaded easily as expected\n",
    "\n",
    "Next for every dataset I ran df.info() so I could find out the types and have an idea of missing values.\n",
    "\n",
    "Aisles, Departments, Train and Products didn't have any missing value.\n",
    "\n",
    "I found missing values in the dataset Orders. In the column days_since_prior_order.\n",
    "Looking closely I've notested that the missing values were related to the first user buy. Since there were no prior days on the first purchase.\n",
    "The options of filling with values, dropping or interpolate aren't suitable in my opinion. So I decide to leave them for later decision according to the analysis to be performed.\n",
    "\n",
    "Didn't find outliers in the data.\n",
    "\n",
    "**Conclusion as this files were provided by Instacart for a kaggle competetion the data is already cleaned and wrangled.**\n"
   ]
  },
  {
   "cell_type": "markdown",
   "metadata": {},
   "source": [
    "## 4.List other potential data sets you could use\n",
    "\n",
    "\n",
    "Data of online food groceries could be of great value for further exploration and insights"
   ]
  },
  {
   "cell_type": "markdown",
   "metadata": {},
   "source": [
    "## 5.Explain your initial findings\n",
    "\n",
    "### Feature Engineering\n",
    "\n",
    "This problem of predicting a buyers purchase involves creating a lot of new features. So in the next cells I´ll demonstrate the logic and how the new features were created for this problem. This is the list of new features created.\n",
    "\n",
    "1. Driver: First added product to cart that was purchased previously\n",
    "2. Clusters formed resulting from strong ties between products\n",
    "3. Days since first order per user (Feature Engineering (Pyspark).ipynb)\n",
    "4. Frequency of products purchase per user (Feature Engineering (Pyspark).ipynb)\n",
    "\n",
    "Below are the coding for item 1 and 2, the features corresponding to 3 and 4 were created using pyspark and are demonstrated in Feature Engineering (Pyspark).ipynb in my github"
   ]
  },
  {
   "cell_type": "code",
   "execution_count": 1,
   "metadata": {
    "collapsed": true,
    "scrolled": true
   },
   "outputs": [],
   "source": [
    "%matplotlib inline\n",
    "import pandas as pd\n",
    "import numpy as np\n",
    "import matplotlib.pyplot as plt"
   ]
  },
  {
   "cell_type": "code",
   "execution_count": 7,
   "metadata": {
    "collapsed": true,
    "scrolled": true
   },
   "outputs": [],
   "source": [
    "#aisles = pd.read_csv('Instacart Kaggle/aisles.csv')\n",
    "#dptmts = pd.read_csv('Instacart Kaggle/departments.csv')\n",
    "order_pdt_prior = pd.read_csv('Instacart Kaggle/order_products__prior.csv')\n",
    "all_orders = pd.read_csv('Instacart Kaggle/orders.csv')\n",
    "#train = pd.read_csv('Instacart Kaggle/order_products__train.csv')\n",
    "products = pd.read_csv('Instacart Kaggle/products.csv')\n",
    "#sample_sub = pd.read_csv('Instacart Kaggle/sample_submission.csv')"
   ]
  },
  {
   "cell_type": "code",
   "execution_count": 4,
   "metadata": {},
   "outputs": [
    {
     "data": {
      "text/html": [
       "<div>\n",
       "<style>\n",
       "    .dataframe thead tr:only-child th {\n",
       "        text-align: right;\n",
       "    }\n",
       "\n",
       "    .dataframe thead th {\n",
       "        text-align: left;\n",
       "    }\n",
       "\n",
       "    .dataframe tbody tr th {\n",
       "        vertical-align: top;\n",
       "    }\n",
       "</style>\n",
       "<table border=\"1\" class=\"dataframe\">\n",
       "  <thead>\n",
       "    <tr style=\"text-align: right;\">\n",
       "      <th></th>\n",
       "      <th>order_id</th>\n",
       "      <th>product_id</th>\n",
       "      <th>add_to_cart_order</th>\n",
       "      <th>reordered</th>\n",
       "      <th>driver</th>\n",
       "    </tr>\n",
       "  </thead>\n",
       "  <tbody>\n",
       "    <tr>\n",
       "      <th>0</th>\n",
       "      <td>2</td>\n",
       "      <td>33120</td>\n",
       "      <td>1</td>\n",
       "      <td>1</td>\n",
       "      <td>1</td>\n",
       "    </tr>\n",
       "    <tr>\n",
       "      <th>1</th>\n",
       "      <td>2</td>\n",
       "      <td>28985</td>\n",
       "      <td>2</td>\n",
       "      <td>1</td>\n",
       "      <td>0</td>\n",
       "    </tr>\n",
       "    <tr>\n",
       "      <th>2</th>\n",
       "      <td>2</td>\n",
       "      <td>9327</td>\n",
       "      <td>3</td>\n",
       "      <td>0</td>\n",
       "      <td>0</td>\n",
       "    </tr>\n",
       "    <tr>\n",
       "      <th>3</th>\n",
       "      <td>2</td>\n",
       "      <td>45918</td>\n",
       "      <td>4</td>\n",
       "      <td>1</td>\n",
       "      <td>0</td>\n",
       "    </tr>\n",
       "    <tr>\n",
       "      <th>4</th>\n",
       "      <td>2</td>\n",
       "      <td>30035</td>\n",
       "      <td>5</td>\n",
       "      <td>0</td>\n",
       "      <td>0</td>\n",
       "    </tr>\n",
       "  </tbody>\n",
       "</table>\n",
       "</div>"
      ],
      "text/plain": [
       "   order_id  product_id  add_to_cart_order  reordered  driver\n",
       "0         2       33120                  1          1       1\n",
       "1         2       28985                  2          1       0\n",
       "2         2        9327                  3          0       0\n",
       "3         2       45918                  4          1       0\n",
       "4         2       30035                  5          0       0"
      ]
     },
     "execution_count": 4,
     "metadata": {},
     "output_type": "execute_result"
    }
   ],
   "source": [
    "order_pdt_prior['driver'] = np.where(((order_pdt_prior['add_to_cart_order'] == 1) & (order_pdt_prior['reordered'] == 1)), 1, 0)\n",
    "order_pdt_prior.head()"
   ]
  },
  {
   "cell_type": "code",
   "execution_count": 6,
   "metadata": {},
   "outputs": [
    {
     "data": {
      "text/html": [
       "<div>\n",
       "<style>\n",
       "    .dataframe thead tr:only-child th {\n",
       "        text-align: right;\n",
       "    }\n",
       "\n",
       "    .dataframe thead th {\n",
       "        text-align: left;\n",
       "    }\n",
       "\n",
       "    .dataframe tbody tr th {\n",
       "        vertical-align: top;\n",
       "    }\n",
       "</style>\n",
       "<table border=\"1\" class=\"dataframe\">\n",
       "  <thead>\n",
       "    <tr style=\"text-align: right;\">\n",
       "      <th></th>\n",
       "      <th>product_id</th>\n",
       "      <th>Degree</th>\n",
       "    </tr>\n",
       "    <tr>\n",
       "      <th>modularity_class</th>\n",
       "      <th></th>\n",
       "      <th></th>\n",
       "    </tr>\n",
       "  </thead>\n",
       "  <tbody>\n",
       "    <tr>\n",
       "      <th>0</th>\n",
       "      <td>390</td>\n",
       "      <td>390</td>\n",
       "    </tr>\n",
       "    <tr>\n",
       "      <th>1</th>\n",
       "      <td>2682</td>\n",
       "      <td>2682</td>\n",
       "    </tr>\n",
       "  </tbody>\n",
       "</table>\n",
       "</div>"
      ],
      "text/plain": [
       "                  product_id  Degree\n",
       "modularity_class                    \n",
       "0                        390     390\n",
       "1                       2682    2682"
      ]
     },
     "execution_count": 6,
     "metadata": {},
     "output_type": "execute_result"
    }
   ],
   "source": [
    "# the file was created in gephi using the projected network of user product\n",
    "# not all products have a register, but the main items purchased are labeled\n",
    "# for degree its the centrality degree of the product in the projected network\n",
    "# for modularity class, 0 correspond to products related to social events\n",
    "# and 1 correspond to products related to personal wellness\n",
    "clusters = pd.read_csv('Instacart Kaggle/modularity_class_user_product.csv')\n",
    "clusters = clusters.drop(['Label', 'timeset', 'd0'], axis=1)\n",
    "clusters = clusters.drop([2394, 2943, 2993], axis = 0)\n",
    "clusters = clusters.drop([1646, 1719, 2820], axis = 0)\n",
    "clusters = clusters.rename(columns = {'Id': 'product_id'})\n",
    "clusters.groupby('modularity_class').count()"
   ]
  },
  {
   "cell_type": "code",
   "execution_count": 16,
   "metadata": {},
   "outputs": [
    {
     "data": {
      "text/html": [
       "<div>\n",
       "<style>\n",
       "    .dataframe thead tr:only-child th {\n",
       "        text-align: right;\n",
       "    }\n",
       "\n",
       "    .dataframe thead th {\n",
       "        text-align: left;\n",
       "    }\n",
       "\n",
       "    .dataframe tbody tr th {\n",
       "        vertical-align: top;\n",
       "    }\n",
       "</style>\n",
       "<table border=\"1\" class=\"dataframe\">\n",
       "  <thead>\n",
       "    <tr style=\"text-align: right;\">\n",
       "      <th></th>\n",
       "      <th>product_id</th>\n",
       "      <th>product_name</th>\n",
       "      <th>aisle_id</th>\n",
       "      <th>department_id</th>\n",
       "      <th>Degree</th>\n",
       "      <th>modularity_class</th>\n",
       "    </tr>\n",
       "  </thead>\n",
       "  <tbody>\n",
       "    <tr>\n",
       "      <th>0</th>\n",
       "      <td>1</td>\n",
       "      <td>Chocolate Sandwich Cookies</td>\n",
       "      <td>61</td>\n",
       "      <td>19</td>\n",
       "      <td>6.0</td>\n",
       "      <td>1.0</td>\n",
       "    </tr>\n",
       "    <tr>\n",
       "      <th>1</th>\n",
       "      <td>2</td>\n",
       "      <td>All-Seasons Salt</td>\n",
       "      <td>104</td>\n",
       "      <td>13</td>\n",
       "      <td>NaN</td>\n",
       "      <td>NaN</td>\n",
       "    </tr>\n",
       "    <tr>\n",
       "      <th>2</th>\n",
       "      <td>3</td>\n",
       "      <td>Robust Golden Unsweetened Oolong Tea</td>\n",
       "      <td>94</td>\n",
       "      <td>7</td>\n",
       "      <td>NaN</td>\n",
       "      <td>NaN</td>\n",
       "    </tr>\n",
       "    <tr>\n",
       "      <th>3</th>\n",
       "      <td>4</td>\n",
       "      <td>Smart Ones Classic Favorites Mini Rigatoni Wit...</td>\n",
       "      <td>38</td>\n",
       "      <td>1</td>\n",
       "      <td>NaN</td>\n",
       "      <td>NaN</td>\n",
       "    </tr>\n",
       "    <tr>\n",
       "      <th>4</th>\n",
       "      <td>5</td>\n",
       "      <td>Green Chile Anytime Sauce</td>\n",
       "      <td>5</td>\n",
       "      <td>13</td>\n",
       "      <td>NaN</td>\n",
       "      <td>NaN</td>\n",
       "    </tr>\n",
       "  </tbody>\n",
       "</table>\n",
       "</div>"
      ],
      "text/plain": [
       "   product_id                                       product_name  aisle_id  \\\n",
       "0           1                         Chocolate Sandwich Cookies        61   \n",
       "1           2                                   All-Seasons Salt       104   \n",
       "2           3               Robust Golden Unsweetened Oolong Tea        94   \n",
       "3           4  Smart Ones Classic Favorites Mini Rigatoni Wit...        38   \n",
       "4           5                          Green Chile Anytime Sauce         5   \n",
       "\n",
       "   department_id  Degree  modularity_class  \n",
       "0             19     6.0               1.0  \n",
       "1             13     NaN               NaN  \n",
       "2              7     NaN               NaN  \n",
       "3              1     NaN               NaN  \n",
       "4             13     NaN               NaN  "
      ]
     },
     "execution_count": 16,
     "metadata": {},
     "output_type": "execute_result"
    }
   ],
   "source": [
    "products = products.merge(clusters, on='product_id', how='outer')\n",
    "products.head()"
   ]
  },
  {
   "cell_type": "markdown",
   "metadata": {},
   "source": [
    "### Inferential Statistics\n",
    "\n",
    "Groceries shopping is highly affected by time, so I´ve experiment some hypothesis testing to understand better how is the data affected.\n",
    "\n",
    "Here are the questions raised:\n",
    "\n",
    "1. The number of items per order is statistically different across days of the week?\n",
    "2. The number of items per order is statistically different across hours of the day?\n",
    "3. Is there a significant difference in proportions of \"% social in basket\" between weekdays and weekends?"
   ]
  },
  {
   "cell_type": "markdown",
   "metadata": {},
   "source": [
    "#### Preliminary observations\n",
    "\n",
    "By taking a look at the variables two stand out for me: order_dow & order_hour_of_day\n",
    "Lets see some charts on them."
   ]
  },
  {
   "cell_type": "code",
   "execution_count": 3,
   "metadata": {},
   "outputs": [
    {
     "data": {
      "text/plain": [
       "<matplotlib.text.Text at 0xdc00251cf8>"
      ]
     },
     "execution_count": 3,
     "metadata": {},
     "output_type": "execute_result"
    },
    {
     "data": {
      "image/png": "[encoded data removed]",
      "text/plain": [
       "<matplotlib.figure.Figure at 0xdc7964c940>"
      ]
     },
     "metadata": {},
     "output_type": "display_data"
    }
   ],
   "source": [
    "plt.figure(figsize=(10,6))\n",
    "sns.countplot(x='order_dow', data= all_orders, color='r')\n",
    "plt.title('Frequency of order by day of the week')\n",
    "plt.xlabel('Days of the Week')\n",
    "plt.ylabel('Number of Orders')"
   ]
  },
  {
   "cell_type": "code",
   "execution_count": 4,
   "metadata": {},
   "outputs": [
    {
     "data": {
      "text/plain": [
       "<matplotlib.text.Text at 0xdc02080e48>"
      ]
     },
     "execution_count": 4,
     "metadata": {},
     "output_type": "execute_result"
    },
    {
     "data": {
      "image/png": "[encoded data removed]",
      "text/plain": [
       "<matplotlib.figure.Figure at 0xdc002782b0>"
      ]
     },
     "metadata": {},
     "output_type": "display_data"
    }
   ],
   "source": [
    "plt.figure(figsize=(10,6))\n",
    "sns.countplot(x='order_hour_of_day', data= all_orders, color= 'y')\n",
    "plt.title('Frequency of order by hour of the day')\n",
    "plt.xlabel('Hours of the day')\n",
    "plt.ylabel('Number of Orders')"
   ]
  },
  {
   "cell_type": "code",
   "execution_count": 5,
   "metadata": {
    "collapsed": true
   },
   "outputs": [],
   "source": [
    "o = order_pdt_prior\n",
    "o = o.drop('product_id', axis=1)\n",
    "o = o.drop('reordered', axis=1)\n",
    "o = o.groupby('order_id').max()\n",
    "o = o.rename(columns = {'add_to_cart_order': 'n_items'})\n",
    "o = o.reset_index()\n",
    "a = all_orders\n",
    "a = a.drop(['user_id', 'eval_set', 'order_number'], axis=1)\n",
    "oa = pd.merge(o , a, on='order_id')"
   ]
  },
  {
   "cell_type": "code",
   "execution_count": 6,
   "metadata": {
    "collapsed": true
   },
   "outputs": [],
   "source": [
    "dow_0 = oa[oa.order_dow == 0]\n",
    "dow_1 = oa[oa.order_dow == 1]\n",
    "dow_2 = oa[oa.order_dow == 2]\n",
    "dow_3 = oa[oa.order_dow == 3]\n",
    "dow_4 = oa[oa.order_dow == 4]\n",
    "dow_5 = oa[oa.order_dow == 5]\n",
    "dow_6 = oa[oa.order_dow == 6]"
   ]
  },
  {
   "cell_type": "code",
   "execution_count": 7,
   "metadata": {
    "collapsed": true
   },
   "outputs": [],
   "source": [
    "dow_0 = dow_0.n_items\n",
    "dow_1 = dow_1.n_items\n",
    "dow_2 = dow_2.n_items\n",
    "dow_3 = dow_3.n_items\n",
    "dow_4 = dow_4.n_items\n",
    "dow_5 = dow_5.n_items\n",
    "dow_6 = dow_6.n_items"
   ]
  },
  {
   "cell_type": "code",
   "execution_count": 8,
   "metadata": {},
   "outputs": [
    {
     "data": {
      "text/plain": [
       "<matplotlib.axes._subplots.AxesSubplot at 0xdc74ae73c8>"
      ]
     },
     "execution_count": 8,
     "metadata": {},
     "output_type": "execute_result"
    },
    {
     "data": {
      "image/png": "[encoded data removed]",
      "text/plain": [
       "<matplotlib.figure.Figure at 0xdc74ae70b8>"
      ]
     },
     "metadata": {},
     "output_type": "display_data"
    }
   ],
   "source": [
    "plt.figure(figsize=(12,8))\n",
    "sns.boxplot(x='order_dow', y= 'n_items', data=oa)"
   ]
  },
  {
   "cell_type": "code",
   "execution_count": 9,
   "metadata": {
    "collapsed": true
   },
   "outputs": [],
   "source": [
    "hod_0 = oa[oa.order_hour_of_day == 0]\n",
    "hod_1 = oa[oa.order_hour_of_day == 1]\n",
    "hod_2 = oa[oa.order_hour_of_day == 2]\n",
    "hod_3 = oa[oa.order_hour_of_day == 3]\n",
    "hod_4 = oa[oa.order_hour_of_day == 4]\n",
    "hod_5 = oa[oa.order_hour_of_day == 5]\n",
    "hod_6 = oa[oa.order_hour_of_day == 6]\n",
    "hod_7 = oa[oa.order_hour_of_day == 7]\n",
    "hod_8 = oa[oa.order_hour_of_day == 8]\n",
    "hod_9 = oa[oa.order_hour_of_day == 9]\n",
    "hod_10 = oa[oa.order_hour_of_day == 10]\n",
    "hod_11 = oa[oa.order_hour_of_day == 11]\n",
    "hod_12 = oa[oa.order_hour_of_day == 12]\n",
    "hod_13 = oa[oa.order_hour_of_day == 13]\n",
    "hod_14 = oa[oa.order_hour_of_day == 14]\n",
    "hod_15 = oa[oa.order_hour_of_day == 15]\n",
    "hod_16 = oa[oa.order_hour_of_day == 16]\n",
    "hod_17 = oa[oa.order_hour_of_day == 17]\n",
    "hod_18 = oa[oa.order_hour_of_day == 18]\n",
    "hod_19 = oa[oa.order_hour_of_day == 19]\n",
    "hod_20 = oa[oa.order_hour_of_day == 20]\n",
    "hod_21 = oa[oa.order_hour_of_day == 21]\n",
    "hod_22 = oa[oa.order_hour_of_day == 22]\n",
    "hod_23 = oa[oa.order_hour_of_day == 23]"
   ]
  },
  {
   "cell_type": "code",
   "execution_count": 10,
   "metadata": {
    "collapsed": true
   },
   "outputs": [],
   "source": [
    "hod_0 = hod_0.n_items\n",
    "hod_1 = hod_1.n_items\n",
    "hod_2 = hod_2.n_items\n",
    "hod_3 = hod_3.n_items\n",
    "hod_4 = hod_4.n_items\n",
    "hod_5 = hod_5.n_items\n",
    "hod_6 = hod_6.n_items\n",
    "hod_7 = hod_7.n_items\n",
    "hod_8 = hod_8.n_items\n",
    "hod_9 = hod_9.n_items\n",
    "hod_10 = hod_10.n_items\n",
    "hod_11 = hod_11.n_items\n",
    "hod_12 = hod_12.n_items\n",
    "hod_13 = hod_13.n_items\n",
    "hod_14 = hod_14.n_items\n",
    "hod_15 = hod_15.n_items\n",
    "hod_16 = hod_16.n_items\n",
    "hod_17 = hod_17.n_items\n",
    "hod_18 = hod_18.n_items\n",
    "hod_19 = hod_19.n_items\n",
    "hod_20 = hod_20.n_items\n",
    "hod_21 = hod_21.n_items\n",
    "hod_22 = hod_22.n_items\n",
    "hod_23 = hod_23.n_items"
   ]
  },
  {
   "cell_type": "code",
   "execution_count": 11,
   "metadata": {},
   "outputs": [
    {
     "data": {
      "text/plain": [
       "<matplotlib.axes._subplots.AxesSubplot at 0xdc2a283c18>"
      ]
     },
     "execution_count": 11,
     "metadata": {},
     "output_type": "execute_result"
    },
    {
     "data": {
      "image/png": "[encoded data removed]",
      "text/plain": [
       "<matplotlib.figure.Figure at 0xdc2a283be0>"
      ]
     },
     "metadata": {},
     "output_type": "display_data"
    }
   ],
   "source": [
    "plt.figure(figsize=(16,8))\n",
    "sns.boxplot(x='order_hour_of_day', y= 'n_items', data=oa)"
   ]
  },
  {
   "cell_type": "markdown",
   "metadata": {},
   "source": [
    "#### 1. The number of items per order is statistically different across days of the week?\n",
    "\n",
    "#### 2. The number of items per order is statistically different across hours of the day?\n",
    "\n",
    "Definition of tests:\n",
    "\n",
    "Anova\n",
    "\n",
    "Set up tests:\n",
    "\n",
    "(1) select n_items_order in every weekday -> run stats.f_oneway -> analyze p-value\n",
    "(2) select n_items_order in every hour of day -> run stats.f_oneway -> analyze p-value\n",
    "\n",
    "Null Hypothesis:\n",
    "\n",
    "(1) Mean dow0 = Mean dow_1 = Mean dow_2 = Mean dow_3 = Mean dow_4 = Mean dow_5 = Mean dow_6\n",
    "\n",
    "(2) Similar to above, all means are of hour of day (hod) are equal"
   ]
  },
  {
   "cell_type": "code",
   "execution_count": 12,
   "metadata": {},
   "outputs": [
    {
     "data": {
      "text/plain": [
       "F_onewayResult(statistic=4015.6412134991238, pvalue=0.0)"
      ]
     },
     "execution_count": 12,
     "metadata": {},
     "output_type": "execute_result"
    }
   ],
   "source": [
    "import scipy.stats as stats\n",
    "stats.f_oneway(dow_0, dow_1, dow_2, dow_3, dow_4, dow_5, dow_6)"
   ]
  },
  {
   "cell_type": "code",
   "execution_count": 13,
   "metadata": {},
   "outputs": [
    {
     "data": {
      "text/plain": [
       "F_onewayResult(statistic=188.35913046033031, pvalue=0.0)"
      ]
     },
     "execution_count": 13,
     "metadata": {},
     "output_type": "execute_result"
    }
   ],
   "source": [
    "import scipy.stats as stats\n",
    "stats.f_oneway(hod_0, hod_1, hod_2, hod_3, hod_4, hod_5, hod_6, hod_7, hod_8, hod_9, hod_10, hod_11, hod_12,\\\n",
    "               hod_13, hod_14, hod_15, hod_16, hod_17, hod_18, hod_19, hod_20, hod_21, hod_22, hod_23)"
   ]
  },
  {
   "cell_type": "markdown",
   "metadata": {},
   "source": [
    "Explain results:\n",
    "\n",
    "(1) we reject the null hypothesis where the means of every day of the week was equal in number of items per order, as the P-value is equal to 0. So, every day of the week does not have the same mean of number of items in per order.\n",
    "\n",
    "(2) we reject the null hypothesis where the means of every hour of the day was equal in number of items per order, as the P-value is equal to 0. So, every hour of the day does not have the same mean of number of items in per order."
   ]
  },
  {
   "cell_type": "markdown",
   "metadata": {},
   "source": [
    "#### 3. Is there a significant difference in proportions of \"% social in basket\" between weekdays and weekends?\n",
    "\n",
    "During the Exploratory Data Analysis I've found a cluster of products related to Social Events (plates, organic avocado, diet ginger soda, etc), you can see how I got to this finding on my EDA notebook.\n",
    "\n",
    "So the idea here is to respond this question:\n",
    "\n",
    "  -Is there a significant difference in proportions of \"% social in basket\" between weekdays and weekends?\n",
    "\n",
    "Definition of test:\n",
    "\n",
    "  -Difference in proportions\n",
    "\n",
    "Set up tests:\n",
    "\n",
    "  -de_para product_id e social events -> criar metrica % social in order -> import numpy as np & from statsmodels.stats.proportion import proportions_ztest"
   ]
  },
  {
   "cell_type": "code",
   "execution_count": 14,
   "metadata": {},
   "outputs": [
    {
     "data": {
      "text/html": [
       "<div>\n",
       "<style>\n",
       "    .dataframe thead tr:only-child th {\n",
       "        text-align: right;\n",
       "    }\n",
       "\n",
       "    .dataframe thead th {\n",
       "        text-align: left;\n",
       "    }\n",
       "\n",
       "    .dataframe tbody tr th {\n",
       "        vertical-align: top;\n",
       "    }\n",
       "</style>\n",
       "<table border=\"1\" class=\"dataframe\">\n",
       "  <thead>\n",
       "    <tr style=\"text-align: right;\">\n",
       "      <th></th>\n",
       "      <th>order_id</th>\n",
       "      <th>product_id</th>\n",
       "      <th>add_to_cart_order</th>\n",
       "      <th>reordered</th>\n",
       "    </tr>\n",
       "  </thead>\n",
       "  <tbody>\n",
       "    <tr>\n",
       "      <th>7</th>\n",
       "      <td>2</td>\n",
       "      <td>1819</td>\n",
       "      <td>8</td>\n",
       "      <td>1</td>\n",
       "    </tr>\n",
       "    <tr>\n",
       "      <th>184</th>\n",
       "      <td>21</td>\n",
       "      <td>33106</td>\n",
       "      <td>2</td>\n",
       "      <td>1</td>\n",
       "    </tr>\n",
       "    <tr>\n",
       "      <th>226</th>\n",
       "      <td>25</td>\n",
       "      <td>39046</td>\n",
       "      <td>8</td>\n",
       "      <td>0</td>\n",
       "    </tr>\n",
       "    <tr>\n",
       "      <th>231</th>\n",
       "      <td>25</td>\n",
       "      <td>37449</td>\n",
       "      <td>13</td>\n",
       "      <td>0</td>\n",
       "    </tr>\n",
       "    <tr>\n",
       "      <th>326</th>\n",
       "      <td>37</td>\n",
       "      <td>33059</td>\n",
       "      <td>2</td>\n",
       "      <td>0</td>\n",
       "    </tr>\n",
       "  </tbody>\n",
       "</table>\n",
       "</div>"
      ],
      "text/plain": [
       "     order_id  product_id  add_to_cart_order  reordered\n",
       "7           2        1819                  8          1\n",
       "184        21       33106                  2          1\n",
       "226        25       39046                  8          0\n",
       "231        25       37449                 13          0\n",
       "326        37       33059                  2          0"
      ]
     },
     "execution_count": 14,
     "metadata": {},
     "output_type": "execute_result"
    }
   ],
   "source": [
    "social = clusters[clusters.modularity_class == 0]\n",
    "social = social.product_id\n",
    "test = order_pdt_prior[order_pdt_prior['product_id'].isin(social)]\n",
    "test.head()"
   ]
  },
  {
   "cell_type": "code",
   "execution_count": 15,
   "metadata": {},
   "outputs": [
    {
     "data": {
      "text/plain": [
       "<matplotlib.text.Text at 0xdc0e1a1e80>"
      ]
     },
     "execution_count": 15,
     "metadata": {},
     "output_type": "execute_result"
    },
    {
     "data": {
      "image/png": "[encoded data removed]",
      "text/plain": [
       "<matplotlib.figure.Figure at 0xdc0e173978>"
      ]
     },
     "metadata": {},
     "output_type": "display_data"
    }
   ],
   "source": [
    "orders_w_social = pd.unique(test.order_id)\n",
    "orders_w_social_df = all_orders[all_orders['order_id'].isin(orders_w_social)]\n",
    "plt.figure(figsize=(10,6))\n",
    "sns.countplot(x='order_dow', data= orders_w_social_df, color='g')\n",
    "plt.title('Social in Basket - Frequency of order by day of the week')\n",
    "plt.xlabel('Days of the Week')\n",
    "plt.ylabel('Number of Orders')"
   ]
  },
  {
   "cell_type": "markdown",
   "metadata": {},
   "source": [
    "##### Hypothesis Test\n",
    "\n",
    "Null Hypothesis:\n",
    "\n",
    "P1 : the proportion of orders cointaining social event's products on weekends\n",
    "P2 : the proportion of orders cointaining social event's products on weekdays\n",
    "\n",
    "P1 = P2\n",
    "\n",
    "Alternative Hypothesis:\n",
    "P1 != P2\n",
    "\n",
    "For this analysis, the significance level is 0.05. The test method is a two-proportion z-test.\n",
    "\n",
    "p1: success on weekends\n",
    "n1: number observations on weekends\n",
    "p2: success on weekdays\n",
    "n2: number observations on weekdays\n",
    "\n",
    "p = (p1 * n1 + p2 * n2) / (n1 + n2)\n",
    "\n",
    "SE = sqrt{ p * ( 1 - p ) * [ (1/n1) + (1/n2) ] }\n"
   ]
  },
  {
   "cell_type": "code",
   "execution_count": 16,
   "metadata": {},
   "outputs": [
    {
     "name": "stderr",
     "output_type": "stream",
     "text": [
      "C:\\Users\\LUCILA\\Anaconda3\\lib\\site-packages\\statsmodels\\compat\\pandas.py:56: FutureWarning: The pandas.core.datetools module is deprecated and will be removed in a future version. Please use the pandas.tseries module instead.\n",
      "  from pandas.core import datetools\n"
     ]
    },
    {
     "data": {
      "text/plain": [
       "6.2131086359043612e-52"
      ]
     },
     "execution_count": 16,
     "metadata": {},
     "output_type": "execute_result"
    }
   ],
   "source": [
    "#p1: success on weekends\n",
    "p1 = len(orders_w_social_df.loc[(orders_w_social_df.order_dow == 0) | (orders_w_social_df.order_dow == 1)])\n",
    "#n1: number observations on weekends\n",
    "n1 = len(all_orders.loc[(all_orders.order_dow == 0) | (all_orders.order_dow == 1)])\n",
    "#p2: success on weekdays\n",
    "p2 = len(orders_w_social_df.loc[(orders_w_social_df.order_dow != 0) & (orders_w_social_df.order_dow != 1)])\n",
    "#n2: number observations on weekdays\n",
    "n2 = len(all_orders.loc[(all_orders.order_dow != 0) & (all_orders.order_dow != 1)])\n",
    "import statsmodels.api as sm\n",
    "zscore, pvalue = sm.stats.proportions_ztest([p1, p2], [n1, n2])\n",
    "pvalue"
   ]
  },
  {
   "cell_type": "code",
   "execution_count": 17,
   "metadata": {},
   "outputs": [
    {
     "data": {
      "text/plain": [
       "False"
      ]
     },
     "execution_count": 17,
     "metadata": {},
     "output_type": "execute_result"
    }
   ],
   "source": [
    "from scipy.stats import norm\n",
    "critical_value = norm.ppf(1-(0.05/2))\n",
    "zscore < critical_value"
   ]
  },
  {
   "cell_type": "markdown",
   "metadata": {},
   "source": [
    "Conclusion\n",
    "\n",
    "Since the z-score of 15.16 exceeds the critical value of 1.96, we reject the null hypothesis that the difference between the two proportions is no different from zero. "
   ]
  }
 ],
 "metadata": {
  "kernelspec": {
   "display_name": "Python 3",
   "language": "python",
   "name": "python3"
  },
  "language_info": {
   "codemirror_mode": {
    "name": "ipython",
    "version": 3
   },
   "file_extension": ".py",
   "mimetype": "text/x-python",
   "name": "python",
   "nbconvert_exporter": "python",
   "pygments_lexer": "ipython3",
   "version": "3.6.2"
  }
 },
 "nbformat": 4,
 "nbformat_minor": 2
}
