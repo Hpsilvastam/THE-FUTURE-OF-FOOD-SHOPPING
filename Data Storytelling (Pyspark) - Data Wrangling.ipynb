{
 "cells": [
  {
   "cell_type": "code",
   "execution_count": 1,
   "metadata": {
    "collapsed": true
   },
   "outputs": [],
   "source": [
    "#%matplotlib inline\n",
    "#import pandas as pd\n",
    "#import numpy as np\n",
    "#import matplotlib.pyplot as plt\n",
    "##“The Instacart Online Grocery Shopping Dataset 2017”, Accessed from https://www.instacart.com/datasets/grocery-shopping-2017 on <09-16-2017>\n",
    "\n",
    "import pyspark.sql.functions as F"
   ]
  },
  {
   "cell_type": "markdown",
   "metadata": {},
   "source": [
    "This Dataset is from the Instacart Kaggle Competition. The challenge is to use this anonymized data on customer orders over time to predict which previously purchased products will be in a user’s next order. \n",
    "\n",
    "It was informed that this dataset is a relational set of 6 files describing customers' orders over time. \n",
    "\n",
    "We will start by reading all of them:"
   ]
  },
  {
   "cell_type": "code",
   "execution_count": 2,
   "metadata": {},
   "outputs": [
    {
     "name": "stdout",
     "output_type": "stream",
     "text": [
      "+--------+--------------------+\n",
      "|aisle_id|               aisle|\n",
      "+--------+--------------------+\n",
      "|       1|prepared soups sa...|\n",
      "|       2|   specialty cheeses|\n",
      "|       3| energy granola bars|\n",
      "|       4|       instant foods|\n",
      "|       5|marinades meat pr...|\n",
      "|       6|               other|\n",
      "|       7|       packaged meat|\n",
      "|       8|     bakery desserts|\n",
      "|       9|         pasta sauce|\n",
      "|      10|    kitchen supplies|\n",
      "|      11|    cold flu allergy|\n",
      "|      12|         fresh pasta|\n",
      "|      13|      prepared meals|\n",
      "|      14|tofu meat alterna...|\n",
      "|      15|    packaged seafood|\n",
      "|      16|         fresh herbs|\n",
      "|      17|  baking ingredients|\n",
      "|      18|bulk dried fruits...|\n",
      "|      19|       oils vinegars|\n",
      "|      20|        oral hygiene|\n",
      "+--------+--------------------+\n",
      "only showing top 20 rows\n",
      "\n"
     ]
    }
   ],
   "source": [
    "aisles = spark.read \\\n",
    "    .options(header=True, inferSchema=True) \\\n",
    "    .csv(\"Instacart Kaggle/aisles.csv\")\n",
    "aisles.show()"
   ]
  },
  {
   "cell_type": "code",
   "execution_count": 3,
   "metadata": {},
   "outputs": [
    {
     "name": "stdout",
     "output_type": "stream",
     "text": [
      "+-------------+---------------+\n",
      "|department_id|     department|\n",
      "+-------------+---------------+\n",
      "|            1|         frozen|\n",
      "|            2|          other|\n",
      "|            3|         bakery|\n",
      "|            4|        produce|\n",
      "|            5|        alcohol|\n",
      "|            6|  international|\n",
      "|            7|      beverages|\n",
      "|            8|           pets|\n",
      "|            9|dry goods pasta|\n",
      "|           10|           bulk|\n",
      "|           11|  personal care|\n",
      "|           12|   meat seafood|\n",
      "|           13|         pantry|\n",
      "|           14|      breakfast|\n",
      "|           15|   canned goods|\n",
      "|           16|     dairy eggs|\n",
      "|           17|      household|\n",
      "|           18|         babies|\n",
      "|           19|         snacks|\n",
      "|           20|           deli|\n",
      "+-------------+---------------+\n",
      "only showing top 20 rows\n",
      "\n"
     ]
    }
   ],
   "source": [
    "dptmts = spark.read \\\n",
    "    .options(header=True, inferSchema=True) \\\n",
    "    .csv(\"Instacart Kaggle/departments.csv\")\n",
    "dptmts.show()"
   ]
  },
  {
   "cell_type": "code",
   "execution_count": 4,
   "metadata": {},
   "outputs": [
    {
     "name": "stdout",
     "output_type": "stream",
     "text": [
      "+--------+----------+-----------------+---------+\n",
      "|order_id|product_id|add_to_cart_order|reordered|\n",
      "+--------+----------+-----------------+---------+\n",
      "|       2|     33120|                1|        1|\n",
      "|       2|     28985|                2|        1|\n",
      "|       2|      9327|                3|        0|\n",
      "|       2|     45918|                4|        1|\n",
      "|       2|     30035|                5|        0|\n",
      "|       2|     17794|                6|        1|\n",
      "|       2|     40141|                7|        1|\n",
      "|       2|      1819|                8|        1|\n",
      "|       2|     43668|                9|        0|\n",
      "|       3|     33754|                1|        1|\n",
      "|       3|     24838|                2|        1|\n",
      "|       3|     17704|                3|        1|\n",
      "|       3|     21903|                4|        1|\n",
      "|       3|     17668|                5|        1|\n",
      "|       3|     46667|                6|        1|\n",
      "|       3|     17461|                7|        1|\n",
      "|       3|     32665|                8|        1|\n",
      "|       4|     46842|                1|        0|\n",
      "|       4|     26434|                2|        1|\n",
      "|       4|     39758|                3|        1|\n",
      "+--------+----------+-----------------+---------+\n",
      "only showing top 20 rows\n",
      "\n"
     ]
    }
   ],
   "source": [
    "prod_in_orders = spark.read \\\n",
    "    .options(header=True, inferSchema=True) \\\n",
    "    .csv(\"Instacart Kaggle/order_products__prior.csv\")\n",
    "prod_in_orders.show()"
   ]
  },
  {
   "cell_type": "code",
   "execution_count": 5,
   "metadata": {},
   "outputs": [
    {
     "name": "stdout",
     "output_type": "stream",
     "text": [
      "+--------+-------+--------+------------+---------+-----------------+----------------------+\n",
      "|order_id|user_id|eval_set|order_number|order_dow|order_hour_of_day|days_since_prior_order|\n",
      "+--------+-------+--------+------------+---------+-----------------+----------------------+\n",
      "| 2539329|      1|   prior|           1|        2|                8|                  null|\n",
      "| 2398795|      1|   prior|           2|        3|                7|                  15.0|\n",
      "|  473747|      1|   prior|           3|        3|               12|                  21.0|\n",
      "| 2254736|      1|   prior|           4|        4|                7|                  29.0|\n",
      "|  431534|      1|   prior|           5|        4|               15|                  28.0|\n",
      "| 3367565|      1|   prior|           6|        2|                7|                  19.0|\n",
      "|  550135|      1|   prior|           7|        1|                9|                  20.0|\n",
      "| 3108588|      1|   prior|           8|        1|               14|                  14.0|\n",
      "| 2295261|      1|   prior|           9|        1|               16|                   0.0|\n",
      "| 2550362|      1|   prior|          10|        4|                8|                  30.0|\n",
      "| 1187899|      1|   train|          11|        4|                8|                  14.0|\n",
      "| 2168274|      2|   prior|           1|        2|               11|                  null|\n",
      "| 1501582|      2|   prior|           2|        5|               10|                  10.0|\n",
      "| 1901567|      2|   prior|           3|        1|               10|                   3.0|\n",
      "|  738281|      2|   prior|           4|        2|               10|                   8.0|\n",
      "| 1673511|      2|   prior|           5|        3|               11|                   8.0|\n",
      "| 1199898|      2|   prior|           6|        2|                9|                  13.0|\n",
      "| 3194192|      2|   prior|           7|        2|               12|                  14.0|\n",
      "|  788338|      2|   prior|           8|        1|               15|                  27.0|\n",
      "| 1718559|      2|   prior|           9|        2|                9|                   8.0|\n",
      "+--------+-------+--------+------------+---------+-----------------+----------------------+\n",
      "only showing top 20 rows\n",
      "\n"
     ]
    }
   ],
   "source": [
    "all_orders = spark.read \\\n",
    "    .options(header=True, inferSchema=True) \\\n",
    "    .csv(\"Instacart Kaggle/orders.csv\")\n",
    "all_orders.show()"
   ]
  },
  {
   "cell_type": "code",
   "execution_count": 6,
   "metadata": {},
   "outputs": [
    {
     "name": "stdout",
     "output_type": "stream",
     "text": [
      "+--------+----------+-----------------+---------+\n",
      "|order_id|product_id|add_to_cart_order|reordered|\n",
      "+--------+----------+-----------------+---------+\n",
      "|       1|     49302|                1|        1|\n",
      "|       1|     11109|                2|        1|\n",
      "|       1|     10246|                3|        0|\n",
      "|       1|     49683|                4|        0|\n",
      "|       1|     43633|                5|        1|\n",
      "|       1|     13176|                6|        0|\n",
      "|       1|     47209|                7|        0|\n",
      "|       1|     22035|                8|        1|\n",
      "|      36|     39612|                1|        0|\n",
      "|      36|     19660|                2|        1|\n",
      "|      36|     49235|                3|        0|\n",
      "|      36|     43086|                4|        1|\n",
      "|      36|     46620|                5|        1|\n",
      "|      36|     34497|                6|        1|\n",
      "|      36|     48679|                7|        1|\n",
      "|      36|     46979|                8|        1|\n",
      "|      38|     11913|                1|        0|\n",
      "|      38|     18159|                2|        0|\n",
      "|      38|      4461|                3|        0|\n",
      "|      38|     21616|                4|        1|\n",
      "+--------+----------+-----------------+---------+\n",
      "only showing top 20 rows\n",
      "\n"
     ]
    }
   ],
   "source": [
    "train = spark.read \\\n",
    "    .options(header=True, inferSchema=True) \\\n",
    "    .csv(\"Instacart Kaggle/order_products__train.csv\")\n",
    "train.show()"
   ]
  },
  {
   "cell_type": "code",
   "execution_count": 7,
   "metadata": {},
   "outputs": [
    {
     "name": "stdout",
     "output_type": "stream",
     "text": [
      "+----------+--------------------+--------+-------------+\n",
      "|product_id|        product_name|aisle_id|department_id|\n",
      "+----------+--------------------+--------+-------------+\n",
      "|         1|Chocolate Sandwic...|      61|           19|\n",
      "|         2|    All-Seasons Salt|     104|           13|\n",
      "|         3|Robust Golden Uns...|      94|            7|\n",
      "|         4|Smart Ones Classi...|      38|            1|\n",
      "|         5|Green Chile Anyti...|       5|           13|\n",
      "|         6|        Dry Nose Oil|      11|           11|\n",
      "|         7|Pure Coconut Wate...|      98|            7|\n",
      "|         8|Cut Russet Potato...|     116|            1|\n",
      "|         9|Light Strawberry ...|     120|           16|\n",
      "|        10|Sparkling Orange ...|     115|            7|\n",
      "|        11|   Peach Mango Juice|      31|            7|\n",
      "|        12|Chocolate Fudge L...|     119|            1|\n",
      "|        13|   Saline Nasal Mist|      11|           11|\n",
      "|        14|Fresh Scent Dishw...|      74|           17|\n",
      "|        15|Overnight Diapers...|      56|           18|\n",
      "|        16|Mint Chocolate Fl...|     103|           19|\n",
      "|        17|   Rendered Duck Fat|      35|           12|\n",
      "|        18|Pizza for One Sup...|      79|            1|\n",
      "|        19|Gluten Free Quino...|      63|            9|\n",
      "|        20|Pomegranate Cranb...|      98|            7|\n",
      "+----------+--------------------+--------+-------------+\n",
      "only showing top 20 rows\n",
      "\n"
     ]
    }
   ],
   "source": [
    "products = spark.read \\\n",
    "    .options(header=True, inferSchema=True) \\\n",
    "    .csv(\"Instacart Kaggle/products.csv\")\n",
    "products.show()"
   ]
  },
  {
   "cell_type": "code",
   "execution_count": 8,
   "metadata": {},
   "outputs": [
    {
     "name": "stdout",
     "output_type": "stream",
     "text": [
      "+--------+-----------+\n",
      "|order_id|   products|\n",
      "+--------+-----------+\n",
      "|      17|39276 29259|\n",
      "|      34|39276 29259|\n",
      "|     137|39276 29259|\n",
      "|     182|39276 29259|\n",
      "|     257|39276 29259|\n",
      "|     313|39276 29259|\n",
      "|     353|39276 29259|\n",
      "|     386|39276 29259|\n",
      "|     414|39276 29259|\n",
      "|     418|39276 29259|\n",
      "|     437|39276 29259|\n",
      "|     452|39276 29259|\n",
      "|     474|39276 29259|\n",
      "|     492|39276 29259|\n",
      "|     497|39276 29259|\n",
      "|     513|39276 29259|\n",
      "|     517|39276 29259|\n",
      "|     604|39276 29259|\n",
      "|     680|39276 29259|\n",
      "|     758|39276 29259|\n",
      "+--------+-----------+\n",
      "only showing top 20 rows\n",
      "\n"
     ]
    }
   ],
   "source": [
    "sample_sub = spark.read \\\n",
    "    .options(header=True, inferSchema=True) \\\n",
    "    .csv(\"Instacart Kaggle/sample_submission.csv\")\n",
    "sample_sub.show()"
   ]
  },
  {
   "cell_type": "markdown",
   "metadata": {},
   "source": [
    "That was smooth!!! \n",
    "\n",
    "Taking a quick look we can have an idea what the data is about.\n",
    "\n",
    "Are the columns names consistents?\n",
    "Are there any missing values?"
   ]
  },
  {
   "cell_type": "code",
   "execution_count": 9,
   "metadata": {},
   "outputs": [
    {
     "data": {
      "text/plain": [
       "[('aisle_id', 'int'), ('aisle', 'string')]"
      ]
     },
     "execution_count": 9,
     "metadata": {},
     "output_type": "execute_result"
    }
   ],
   "source": [
    "aisles.dtypes"
   ]
  },
  {
   "cell_type": "code",
   "execution_count": 10,
   "metadata": {},
   "outputs": [
    {
     "name": "stdout",
     "output_type": "stream",
     "text": [
      "+-------+-----------------+--------------------+\n",
      "|summary|         aisle_id|               aisle|\n",
      "+-------+-----------------+--------------------+\n",
      "|  count|              134|                 134|\n",
      "|   mean|             67.5|                null|\n",
      "| stddev|38.82653731663435|                null|\n",
      "|    min|                1|air fresheners ca...|\n",
      "|    max|              134|              yogurt|\n",
      "+-------+-----------------+--------------------+\n",
      "\n"
     ]
    }
   ],
   "source": [
    "aisles.describe().show()"
   ]
  },
  {
   "cell_type": "code",
   "execution_count": 11,
   "metadata": {},
   "outputs": [
    {
     "data": {
      "text/plain": [
       "[('department_id', 'int'), ('department', 'string')]"
      ]
     },
     "execution_count": 11,
     "metadata": {},
     "output_type": "execute_result"
    }
   ],
   "source": [
    "dptmts.dtypes"
   ]
  },
  {
   "cell_type": "code",
   "execution_count": 12,
   "metadata": {},
   "outputs": [
    {
     "name": "stdout",
     "output_type": "stream",
     "text": [
      "+-------+------------------+----------+\n",
      "|summary|     department_id|department|\n",
      "+-------+------------------+----------+\n",
      "|  count|                21|        21|\n",
      "|   mean|              11.0|      null|\n",
      "| stddev|6.2048368229954285|      null|\n",
      "|    min|                 1|   alcohol|\n",
      "|    max|                21|    snacks|\n",
      "+-------+------------------+----------+\n",
      "\n"
     ]
    }
   ],
   "source": [
    "dptmts.describe().show()"
   ]
  },
  {
   "cell_type": "code",
   "execution_count": 13,
   "metadata": {},
   "outputs": [
    {
     "data": {
      "text/plain": [
       "[('order_id', 'int'),\n",
       " ('product_id', 'int'),\n",
       " ('add_to_cart_order', 'int'),\n",
       " ('reordered', 'int')]"
      ]
     },
     "execution_count": 13,
     "metadata": {},
     "output_type": "execute_result"
    }
   ],
   "source": [
    "prod_in_orders.dtypes"
   ]
  },
  {
   "cell_type": "code",
   "execution_count": 14,
   "metadata": {},
   "outputs": [
    {
     "name": "stdout",
     "output_type": "stream",
     "text": [
      "+-------+------------------+------------------+-----------------+-------------------+\n",
      "|summary|          order_id|        product_id|add_to_cart_order|          reordered|\n",
      "+-------+------------------+------------------+-----------------+-------------------+\n",
      "|  count|          32434489|          32434489|         32434489|           32434489|\n",
      "|   mean|1710748.5189427834|25576.337535424096|8.351075517175559| 0.5896974667922161|\n",
      "| stddev|  987300.696452965|14096.689090257634|7.126671161204477|0.49188857672328484|\n",
      "|    min|                 2|                 1|                1|                  0|\n",
      "|    max|           3421083|             49688|              145|                  1|\n",
      "+-------+------------------+------------------+-----------------+-------------------+\n",
      "\n"
     ]
    }
   ],
   "source": [
    "prod_in_orders.describe().show()"
   ]
  },
  {
   "cell_type": "code",
   "execution_count": 15,
   "metadata": {},
   "outputs": [
    {
     "data": {
      "text/plain": [
       "[('product_id', 'int'),\n",
       " ('product_name', 'string'),\n",
       " ('aisle_id', 'string'),\n",
       " ('department_id', 'string')]"
      ]
     },
     "execution_count": 15,
     "metadata": {},
     "output_type": "execute_result"
    }
   ],
   "source": [
    "products.dtypes"
   ]
  },
  {
   "cell_type": "code",
   "execution_count": 16,
   "metadata": {},
   "outputs": [
    {
     "name": "stdout",
     "output_type": "stream",
     "text": [
      "+-------+------------------+--------------------+-----------------+------------------+\n",
      "|summary|        product_id|        product_name|         aisle_id|     department_id|\n",
      "+-------+------------------+--------------------+-----------------+------------------+\n",
      "|  count|             49688|               49688|            49688|             49688|\n",
      "|   mean|           24844.5|              1493.0|67.76919516171232|11.728580916537524|\n",
      "| stddev|14343.834424588147|   620.4329133758138|38.31645086851397| 5.850420587359203|\n",
      "|    min|                 1|\"\"\"Constant Comme...|          Blunted|              Red\"|\n",
      "|    max|             49688|with a Splash of ...|               99|                 9|\n",
      "+-------+------------------+--------------------+-----------------+------------------+\n",
      "\n"
     ]
    }
   ],
   "source": [
    "products.describe().show()"
   ]
  },
  {
   "cell_type": "code",
   "execution_count": 17,
   "metadata": {},
   "outputs": [
    {
     "data": {
      "text/plain": [
       "[('order_id', 'int'),\n",
       " ('user_id', 'int'),\n",
       " ('eval_set', 'string'),\n",
       " ('order_number', 'int'),\n",
       " ('order_dow', 'int'),\n",
       " ('order_hour_of_day', 'int'),\n",
       " ('days_since_prior_order', 'double')]"
      ]
     },
     "execution_count": 17,
     "metadata": {},
     "output_type": "execute_result"
    }
   ],
   "source": [
    "all_orders.dtypes"
   ]
  },
  {
   "cell_type": "code",
   "execution_count": 18,
   "metadata": {},
   "outputs": [
    {
     "name": "stdout",
     "output_type": "stream",
     "text": [
      "+-------+-----------------+------------------+--------+------------------+------------------+-----------------+----------------------+\n",
      "|summary|         order_id|           user_id|eval_set|      order_number|         order_dow|order_hour_of_day|days_since_prior_order|\n",
      "+-------+-----------------+------------------+--------+------------------+------------------+-----------------+----------------------+\n",
      "|  count|          3421083|           3421083| 3421083|           3421083|           3421083|          3421083|               3214874|\n",
      "|   mean|        1710542.0|102978.20805926077|    null|17.154857979183785|2.7762191095626734|13.45201534134074|    11.114836226863012|\n",
      "| stddev|987581.7398225827| 59533.71779350369|    null|17.733164470966642|2.0468291939879717|4.226088402102022|      9.20673651753377|\n",
      "|    min|                1|                 1|   prior|                 1|                 0|                0|                   0.0|\n",
      "|    max|          3421083|            206209|   train|               100|                 6|               23|                  30.0|\n",
      "+-------+-----------------+------------------+--------+------------------+------------------+-----------------+----------------------+\n",
      "\n"
     ]
    }
   ],
   "source": [
    "all_orders.describe().show()"
   ]
  },
  {
   "cell_type": "code",
   "execution_count": 19,
   "metadata": {},
   "outputs": [
    {
     "data": {
      "text/plain": [
       "[('order_id', 'int'),\n",
       " ('product_id', 'int'),\n",
       " ('add_to_cart_order', 'int'),\n",
       " ('reordered', 'int')]"
      ]
     },
     "execution_count": 19,
     "metadata": {},
     "output_type": "execute_result"
    }
   ],
   "source": [
    "train.dtypes"
   ]
  },
  {
   "cell_type": "raw",
   "metadata": {},
   "source": [
    "This gave us a better understanding of how the data is divided.\n",
    "\n",
    "Let´s move on to join the datasets!"
   ]
  },
  {
   "cell_type": "code",
   "execution_count": 20,
   "metadata": {},
   "outputs": [
    {
     "name": "stdout",
     "output_type": "stream",
     "text": [
      "+-------------+--------+----------+--------------------+--------------------+-------------+\n",
      "|department_id|aisle_id|product_id|        product_name|               aisle|   department|\n",
      "+-------------+--------+----------+--------------------+--------------------+-------------+\n",
      "|           19|      61|         1|Chocolate Sandwic...|       cookies cakes|       snacks|\n",
      "|           13|     104|         2|    All-Seasons Salt|   spices seasonings|       pantry|\n",
      "|            7|      94|         3|Robust Golden Uns...|                 tea|    beverages|\n",
      "|            1|      38|         4|Smart Ones Classi...|        frozen meals|       frozen|\n",
      "|           13|       5|         5|Green Chile Anyti...|marinades meat pr...|       pantry|\n",
      "|           11|      11|         6|        Dry Nose Oil|    cold flu allergy|personal care|\n",
      "|            7|      98|         7|Pure Coconut Wate...|       juice nectars|    beverages|\n",
      "|            1|     116|         8|Cut Russet Potato...|      frozen produce|       frozen|\n",
      "|           16|     120|         9|Light Strawberry ...|              yogurt|   dairy eggs|\n",
      "|            7|     115|        10|Sparkling Orange ...|water seltzer spa...|    beverages|\n",
      "+-------------+--------+----------+--------------------+--------------------+-------------+\n",
      "only showing top 10 rows\n",
      "\n"
     ]
    }
   ],
   "source": [
    "#The first join will connect the products tables\n",
    "prod_full = products.join(aisles, on='aisle_id')\n",
    "prod_full = prod_full.join(dptmts, on='department_id')\n",
    "prod_full.show(10)"
   ]
  },
  {
   "cell_type": "code",
   "execution_count": 21,
   "metadata": {
    "collapsed": true,
    "scrolled": true
   },
   "outputs": [],
   "source": [
    "#The second join will connect the orders tables\n",
    "order_full = prod_in_orders.join(all_orders, on='order_id')"
   ]
  },
  {
   "cell_type": "code",
   "execution_count": 22,
   "metadata": {},
   "outputs": [
    {
     "name": "stdout",
     "output_type": "stream",
     "text": [
      "+-------+------------------+------------------+-----------------+------------------+------------------+--------+------------------+------------------+------------------+----------------------+-----------------+------------------+--------------------+--------------------+----------+\n",
      "|summary|        product_id|          order_id|add_to_cart_order|         reordered|           user_id|eval_set|      order_number|         order_dow| order_hour_of_day|days_since_prior_order|    department_id|          aisle_id|        product_name|               aisle|department|\n",
      "+-------+------------------+------------------+-----------------+------------------+------------------+--------+------------------+------------------+------------------+----------------------+-----------------+------------------+--------------------+--------------------+----------+\n",
      "|  count|          32434486|          32434486|         32434486|          32434486|          32434486|32434486|          32434486|          32434486|          32434486|              30356418|         32434486|          32434486|            32434486|            32434486|  32434486|\n",
      "|   mean|25576.339270645447|1710748.5254316656|8.351075703804895|0.5896975213357782|102937.24249275909|    null| 17.14204960732228| 2.738817535138371|13.424976982832408|    11.104074993301252|9.921905498980314| 71.21430227073739|   847.6481012658228|                null|      null|\n",
      "| stddev|14096.688587542749| 987300.7043548608| 7.12667142832069|0.4918885667770755| 59466.47876093693|    null|17.535040178662754|2.0900491164289443| 4.246364695561563|     8.778914429571586|6.281155491011758|38.203024747066046|   197.8307747720088|                null|      null|\n",
      "|    min|                 1|                 2|                1|                 0|                 1|   prior|                 1|                 0|                 0|                   0.0|                1|                 1|\"\"\"Constant Comme...|air fresheners ca...|   alcohol|\n",
      "|    max|             49688|           3421083|              145|                 1|            206209|   prior|                99|                 6|                23|                  30.0|                9|                99|with a Splash of ...|              yogurt|    snacks|\n",
      "+-------+------------------+------------------+-----------------+------------------+------------------+--------+------------------+------------------+------------------+----------------------+-----------------+------------------+--------------------+--------------------+----------+\n",
      "\n"
     ]
    }
   ],
   "source": [
    "# The third join will connect products and orders\n",
    "order_prod_full = order_full.join(prod_full, on='product_id')\n",
    "order_prod_full.describe().show(5)"
   ]
  },
  {
   "cell_type": "code",
   "execution_count": 23,
   "metadata": {},
   "outputs": [
    {
     "name": "stdout",
     "output_type": "stream",
     "text": [
      "+---------------+-------+\n",
      "|     department|  count|\n",
      "+---------------+-------+\n",
      "|        produce|9479291|\n",
      "|     dairy eggs|5414016|\n",
      "|         snacks|2887550|\n",
      "|      beverages|2690129|\n",
      "|         frozen|2236432|\n",
      "|         pantry|1875577|\n",
      "|         bakery|1176787|\n",
      "|   canned goods|1068058|\n",
      "|           deli|1051249|\n",
      "|dry goods pasta| 866627|\n",
      "|      household| 738663|\n",
      "|      breakfast| 709569|\n",
      "|   meat seafood| 708931|\n",
      "|  personal care| 447123|\n",
      "|         babies| 423802|\n",
      "|  international| 269253|\n",
      "|        alcohol| 153696|\n",
      "|           pets|  97724|\n",
      "|        missing|  69145|\n",
      "|          other|  36291|\n",
      "+---------------+-------+\n",
      "only showing top 20 rows\n",
      "\n"
     ]
    }
   ],
   "source": [
    "#Let´s see which are the most relevant departments\n",
    "o = order_prod_full\n",
    "o = o.groupby('department').count()\n",
    "from pyspark.sql.functions import desc\n",
    "o.sort(desc(\"count\")).show()"
   ]
  },
  {
   "cell_type": "code",
   "execution_count": 24,
   "metadata": {
    "collapsed": true
   },
   "outputs": [],
   "source": [
    "o.d = o.sort(desc(\"count\"))"
   ]
  },
  {
   "cell_type": "markdown",
   "metadata": {},
   "source": [
    "#Preparar os dados em dataframes para gerar os grafos: user_id & department_id; user_id & aisle_id; user_id & product_id"
   ]
  },
  {
   "cell_type": "code",
   "execution_count": 25,
   "metadata": {},
   "outputs": [
    {
     "name": "stdout",
     "output_type": "stream",
     "text": [
      "+-----------------+---------+-------+--------+------------+----------------------+--------+\n",
      "|add_to_cart_order|reordered|user_id|eval_set|order_number|days_since_prior_order|aisle_id|\n",
      "+-----------------+---------+-------+--------+------------+----------------------+--------+\n",
      "|               26|        0|  47136|   prior|           3|                  30.0|      24|\n",
      "|               15|        1|  12428|   prior|          14|                   7.0|      24|\n",
      "|               10|        0|  63587|   prior|           1|                  null|      24|\n",
      "|               11|        0| 158452|   prior|          11|                  13.0|      24|\n",
      "+-----------------+---------+-------+--------+------------+----------------------+--------+\n",
      "only showing top 4 rows\n",
      "\n"
     ]
    }
   ],
   "source": [
    "#drop columns para ficar apenas aisle e user\n",
    "o = order_prod_full\n",
    "o = o.drop('product_id')\n",
    "o = o.drop('order_id')\n",
    "o = o.drop('order_dow')\n",
    "o = o.drop('order_hour_of_day')\n",
    "o = o.drop('department_id')\n",
    "o = o.drop('product_name')\n",
    "o = o.drop('aisle')\n",
    "o = o.drop('department')\n",
    "o.show(4)"
   ]
  },
  {
   "cell_type": "code",
   "execution_count": 26,
   "metadata": {},
   "outputs": [
    {
     "name": "stdout",
     "output_type": "stream",
     "text": [
      "+-----------------+---------+-------+--------+------------+----------------------+-------------+\n",
      "|add_to_cart_order|reordered|user_id|eval_set|order_number|days_since_prior_order|department_id|\n",
      "+-----------------+---------+-------+--------+------------+----------------------+-------------+\n",
      "|               26|        0|  47136|   prior|           3|                  30.0|            4|\n",
      "|               15|        1|  12428|   prior|          14|                   7.0|            4|\n",
      "|               10|        0|  63587|   prior|           1|                  null|            4|\n",
      "|               11|        0| 158452|   prior|          11|                  13.0|            4|\n",
      "+-----------------+---------+-------+--------+------------+----------------------+-------------+\n",
      "only showing top 4 rows\n",
      "\n"
     ]
    }
   ],
   "source": [
    "#drop columns pra ficar apenas departments e user\n",
    "r = order_prod_full\n",
    "r = r.drop('product_id')\n",
    "r = r.drop('order_id')\n",
    "r = r.drop('order_dow')\n",
    "r = r.drop('order_hour_of_day')\n",
    "r = r.drop('aisle_id')\n",
    "r = r.drop('product_name')\n",
    "r = r.drop('aisle')\n",
    "r = r.drop('department')\n",
    "r.show(4)"
   ]
  },
  {
   "cell_type": "code",
   "execution_count": 27,
   "metadata": {},
   "outputs": [
    {
     "name": "stdout",
     "output_type": "stream",
     "text": [
      "+-------+-----------------+-----------------+------------------+\n",
      "|summary|          user_id|         aisle_id|             count|\n",
      "+-------+-----------------+-----------------+------------------+\n",
      "|  count|          5729249|          5729249|           5729249|\n",
      "|   mean|103040.3949648549|70.60027832618202|  5.66121074507322|\n",
      "| stddev|59464.05655130876|38.16683566799095|12.135918176971554|\n",
      "|    min|                1|                1|                 1|\n",
      "|    max|           206209|               99|              1522|\n",
      "+-------+-----------------+-----------------+------------------+\n",
      "\n"
     ]
    }
   ],
   "source": [
    "o = o.groupby(['user_id', 'aisle_id']).count()\n",
    "o.describe().show()"
   ]
  },
  {
   "cell_type": "code",
   "execution_count": 28,
   "metadata": {},
   "outputs": [
    {
     "name": "stdout",
     "output_type": "stream",
     "text": [
      "+-------+-----------------+------------------+------------------+\n",
      "|summary|          user_id|     department_id|             count|\n",
      "+-------+-----------------+------------------+------------------+\n",
      "|  count|          2232789|           2232789|           2232789|\n",
      "|   mean|103057.9642895052|11.145940794226414| 14.52644472899141|\n",
      "| stddev|59504.68954829935| 6.033196795119511|31.551505253745397|\n",
      "|    min|                1|                 1|                 1|\n",
      "|    max|           206209|                 9|              1559|\n",
      "+-------+-----------------+------------------+------------------+\n",
      "\n"
     ]
    }
   ],
   "source": [
    "r = r.groupby(['user_id', 'department_id']).count()\n",
    "r.describe().show()"
   ]
  },
  {
   "cell_type": "code",
   "execution_count": 29,
   "metadata": {
    "collapsed": true
   },
   "outputs": [],
   "source": [
    "o.coalesce(1).write.format(\"com.databricks.spark.csv\").option(\"header\", \"true\").save(\"user_aisle.csv\")"
   ]
  },
  {
   "cell_type": "code",
   "execution_count": 30,
   "metadata": {
    "collapsed": true
   },
   "outputs": [],
   "source": [
    "r.coalesce(1).write.format(\"com.databricks.spark.csv\").option(\"header\", \"true\").save(\"user_department.csv\")"
   ]
  }
 ],
 "metadata": {
  "kernelspec": {
   "display_name": "Python 3",
   "language": "python",
   "name": "python3"
  },
  "language_info": {
   "codemirror_mode": {
    "name": "ipython",
    "version": 3
   },
   "file_extension": ".py",
   "mimetype": "text/x-python",
   "name": "python",
   "nbconvert_exporter": "python",
   "pygments_lexer": "ipython3",
   "version": "3.6.2"
  }
 },
 "nbformat": 4,
 "nbformat_minor": 2
}
