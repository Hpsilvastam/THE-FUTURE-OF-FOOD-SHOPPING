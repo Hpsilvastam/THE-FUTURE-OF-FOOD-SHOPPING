{
 "cells": [
  {
   "cell_type": "code",
   "execution_count": 1,
   "metadata": {},
   "outputs": [
    {
     "name": "stderr",
     "output_type": "stream",
     "text": [
      "C:\\Users\\Usuario\\Anaconda3\\lib\\site-packages\\sklearn\\cross_validation.py:41: DeprecationWarning: This module was deprecated in version 0.18 in favor of the model_selection module into which all the refactored classes and functions are moved. Also note that the interface of the new CV iterators are different from that of this module. This module will be removed in 0.20.\n",
      "  \"This module will be removed in 0.20.\", DeprecationWarning)\n",
      "C:\\Users\\Usuario\\Anaconda3\\lib\\site-packages\\sklearn\\grid_search.py:42: DeprecationWarning: This module was deprecated in version 0.18 in favor of the model_selection module into which all the refactored classes and functions are moved. This module will be removed in 0.20.\n",
      "  DeprecationWarning)\n"
     ]
    }
   ],
   "source": [
    "#Import libraries:\n",
    "import pandas as pd\n",
    "import random\n",
    "import numpy as np\n",
    "import xgboost as xgb\n",
    "from xgboost.sklearn import XGBClassifier\n",
    "from sklearn import cross_validation, metrics   #Additional scklearn functions\n",
    "from sklearn.grid_search import GridSearchCV   #Perforing grid search\n",
    "\n",
    "import matplotlib.pylab as plt\n",
    "%matplotlib inline\n",
    "from matplotlib.pylab import rcParams\n",
    "rcParams['figure.figsize'] = 12, 4"
   ]
  },
  {
   "cell_type": "code",
   "execution_count": 2,
   "metadata": {
    "collapsed": true
   },
   "outputs": [],
   "source": [
    "train = pd.read_csv(\"D:/DADOS USUARIO/Documents/springboard/capstone project/Instacart Kaggle/train.csv\", header=0)"
   ]
  },
  {
   "cell_type": "code",
   "execution_count": 3,
   "metadata": {
    "collapsed": true
   },
   "outputs": [],
   "source": [
    "train = train.reset_index()"
   ]
  },
  {
   "cell_type": "code",
   "execution_count": 4,
   "metadata": {},
   "outputs": [
    {
     "name": "stdout",
     "output_type": "stream",
     "text": [
      "<class 'pandas.core.frame.DataFrame'>\n",
      "RangeIndex: 20592325 entries, 0 to 20592324\n",
      "Data columns (total 24 columns):\n",
      "index                              int64\n",
      "order_number                       int64\n",
      "prod_user_times                    int64\n",
      "n_times_prod_ordered               int64\n",
      "n_times_prod_reordered             int64\n",
      "count_order_id                     int64\n",
      "min_order_number                   int64\n",
      "max_order_number                   int64\n",
      "mean_add_to_cart_order             float64\n",
      "times_prod_ordered                 int64\n",
      "prod_reorder_probability           float64\n",
      "prod_reorder_times                 float64\n",
      "prod_reorder_ratio                 float64\n",
      "user_mean_days_since_prior         float64\n",
      "user_orders                        int64\n",
      "user_period                        float64\n",
      "user_total_prod                    int64\n",
      "user_reorder_ratio                 float64\n",
      "distinct                           int64\n",
      "user_average_basket                float64\n",
      "up_order_rate                      float64\n",
      "up_orders_since_last_order         int64\n",
      "up_order_rate_since_first_order    float64\n",
      "reordered                          int64\n",
      "dtypes: float64(10), int64(14)\n",
      "memory usage: 3.7 GB\n"
     ]
    }
   ],
   "source": [
    "train.info()"
   ]
  },
  {
   "cell_type": "code",
   "execution_count": 5,
   "metadata": {},
   "outputs": [
    {
     "name": "stdout",
     "output_type": "stream",
     "text": [
      "<class 'pandas.core.frame.DataFrame'>\n",
      "Int64Index: 205923 entries, 18267516 to 8352522\n",
      "Data columns (total 24 columns):\n",
      "index                              205923 non-null int64\n",
      "order_number                       205923 non-null int64\n",
      "prod_user_times                    205923 non-null int64\n",
      "n_times_prod_ordered               205923 non-null int64\n",
      "n_times_prod_reordered             205923 non-null int64\n",
      "count_order_id                     205923 non-null int64\n",
      "min_order_number                   205923 non-null int64\n",
      "max_order_number                   205923 non-null int64\n",
      "mean_add_to_cart_order             205923 non-null float64\n",
      "times_prod_ordered                 205923 non-null int64\n",
      "prod_reorder_probability           205923 non-null float64\n",
      "prod_reorder_times                 205923 non-null float64\n",
      "prod_reorder_ratio                 205923 non-null float64\n",
      "user_mean_days_since_prior         205923 non-null float64\n",
      "user_orders                        205923 non-null int64\n",
      "user_period                        205923 non-null float64\n",
      "user_total_prod                    205923 non-null int64\n",
      "user_reorder_ratio                 205923 non-null float64\n",
      "distinct                           205923 non-null int64\n",
      "user_average_basket                205923 non-null float64\n",
      "up_order_rate                      205923 non-null float64\n",
      "up_orders_since_last_order         205923 non-null int64\n",
      "up_order_rate_since_first_order    205923 non-null float64\n",
      "reordered                          205923 non-null int64\n",
      "dtypes: float64(10), int64(14)\n",
      "memory usage: 39.3 MB\n"
     ]
    }
   ],
   "source": [
    "#due to memory error i´ll reduce the train data in 50%\n",
    "train = train.sample(frac=0.01)\n",
    "train.info()"
   ]
  },
  {
   "cell_type": "code",
   "execution_count": 6,
   "metadata": {
    "collapsed": true
   },
   "outputs": [],
   "source": [
    "target = 'reordered'\n",
    "IDcol = 'index'"
   ]
  },
  {
   "cell_type": "code",
   "execution_count": 7,
   "metadata": {
    "collapsed": true
   },
   "outputs": [],
   "source": [
    "def modelfit(alg, dtrain, predictors,useTrainCV=True, cv_folds=5, early_stopping_rounds=50):\n",
    "    \n",
    "    if useTrainCV:\n",
    "        xgb_param = alg.get_xgb_params()\n",
    "        xgtrain = xgb.DMatrix(dtrain[predictors].values, label=dtrain[target].values)\n",
    "        cvresult = xgb.cv(xgb_param, xgtrain, num_boost_round=alg.get_params()['n_estimators'], nfold=cv_folds,\n",
    "            metrics='auc', early_stopping_rounds=early_stopping_rounds)\n",
    "        alg.set_params(n_estimators=cvresult)\n",
    "    \n",
    "    #Fit the algorithm on the data\n",
    "    alg.fit(dtrain[predictors], dtrain['reordered'], eval_metric='auc')\n",
    "        \n",
    "    #Predict training set:\n",
    "    dtrain_predictions = alg.predict(dtrain[predictors])\n",
    "    dtrain_predprob = alg.predict_proba(dtrain[predictors])[:,1]\n",
    "        \n",
    "    #Print model report:\n",
    "    print(\"\\nModel Report\")\n",
    "    print(\"Accuracy : %.4g\" % metrics.accuracy_score(dtrain['reordered'].values, dtrain_predictions))\n",
    "    print(\"AUC Score (Train): %f\" % metrics.roc_auc_score(dtrain['reordered'], dtrain_predprob))\n",
    "    print(cvresult)##add this because the funtion was not returning the best estimator\n",
    "    \n",
    "    feat_imp = pd.Series(alg._Booster.get_fscore()).sort_values(ascending=False)\n",
    "    feat_imp.plot(kind='bar', title='Feature Importances')\n",
    "    plt.ylabel('Feature Importance Score')\n"
   ]
  },
  {
   "cell_type": "code",
   "execution_count": 8,
   "metadata": {},
   "outputs": [
    {
     "ename": "TypeError",
     "evalue": "'DataFrame' object cannot be interpreted as an integer",
     "output_type": "error",
     "traceback": [
      "\u001b[1;31m---------------------------------------------------------------------------\u001b[0m",
      "\u001b[1;31mTypeError\u001b[0m                                 Traceback (most recent call last)",
      "\u001b[1;32m<ipython-input-8-ccd14f89bc7c>\u001b[0m in \u001b[0;36m<module>\u001b[1;34m()\u001b[0m\n\u001b[0;32m     13\u001b[0m  \u001b[0mscale_pos_weight\u001b[0m\u001b[1;33m=\u001b[0m\u001b[1;36m1\u001b[0m\u001b[1;33m,\u001b[0m\u001b[1;33m\u001b[0m\u001b[0m\n\u001b[0;32m     14\u001b[0m  seed=27)\n\u001b[1;32m---> 15\u001b[1;33m \u001b[0mmodelfit\u001b[0m\u001b[1;33m(\u001b[0m\u001b[0mxgb1\u001b[0m\u001b[1;33m,\u001b[0m \u001b[0mtrain\u001b[0m\u001b[1;33m,\u001b[0m \u001b[0mpredictors\u001b[0m\u001b[1;33m)\u001b[0m\u001b[1;33m\u001b[0m\u001b[0m\n\u001b[0m",
      "\u001b[1;32m<ipython-input-7-4cbdfcb71ed2>\u001b[0m in \u001b[0;36mmodelfit\u001b[1;34m(alg, dtrain, predictors, useTrainCV, cv_folds, early_stopping_rounds)\u001b[0m\n\u001b[0;32m      9\u001b[0m \u001b[1;33m\u001b[0m\u001b[0m\n\u001b[0;32m     10\u001b[0m     \u001b[1;31m#Fit the algorithm on the data\u001b[0m\u001b[1;33m\u001b[0m\u001b[1;33m\u001b[0m\u001b[0m\n\u001b[1;32m---> 11\u001b[1;33m     \u001b[0malg\u001b[0m\u001b[1;33m.\u001b[0m\u001b[0mfit\u001b[0m\u001b[1;33m(\u001b[0m\u001b[0mdtrain\u001b[0m\u001b[1;33m[\u001b[0m\u001b[0mpredictors\u001b[0m\u001b[1;33m]\u001b[0m\u001b[1;33m,\u001b[0m \u001b[0mdtrain\u001b[0m\u001b[1;33m[\u001b[0m\u001b[1;34m'reordered'\u001b[0m\u001b[1;33m]\u001b[0m\u001b[1;33m,\u001b[0m \u001b[0meval_metric\u001b[0m\u001b[1;33m=\u001b[0m\u001b[1;34m'auc'\u001b[0m\u001b[1;33m)\u001b[0m\u001b[1;33m\u001b[0m\u001b[0m\n\u001b[0m\u001b[0;32m     12\u001b[0m \u001b[1;33m\u001b[0m\u001b[0m\n\u001b[0;32m     13\u001b[0m     \u001b[1;31m#Predict training set:\u001b[0m\u001b[1;33m\u001b[0m\u001b[1;33m\u001b[0m\u001b[0m\n",
      "\u001b[1;32m~\\Anaconda3\\lib\\site-packages\\xgboost\\sklearn.py\u001b[0m in \u001b[0;36mfit\u001b[1;34m(self, X, y, sample_weight, eval_set, eval_metric, early_stopping_rounds, verbose, xgb_model)\u001b[0m\n\u001b[0;32m    504\u001b[0m                               \u001b[0mearly_stopping_rounds\u001b[0m\u001b[1;33m=\u001b[0m\u001b[0mearly_stopping_rounds\u001b[0m\u001b[1;33m,\u001b[0m\u001b[1;33m\u001b[0m\u001b[0m\n\u001b[0;32m    505\u001b[0m                               \u001b[0mevals_result\u001b[0m\u001b[1;33m=\u001b[0m\u001b[0mevals_result\u001b[0m\u001b[1;33m,\u001b[0m \u001b[0mobj\u001b[0m\u001b[1;33m=\u001b[0m\u001b[0mobj\u001b[0m\u001b[1;33m,\u001b[0m \u001b[0mfeval\u001b[0m\u001b[1;33m=\u001b[0m\u001b[0mfeval\u001b[0m\u001b[1;33m,\u001b[0m\u001b[1;33m\u001b[0m\u001b[0m\n\u001b[1;32m--> 506\u001b[1;33m                               verbose_eval=verbose, xgb_model=None)\n\u001b[0m\u001b[0;32m    507\u001b[0m \u001b[1;33m\u001b[0m\u001b[0m\n\u001b[0;32m    508\u001b[0m         \u001b[0mself\u001b[0m\u001b[1;33m.\u001b[0m\u001b[0mobjective\u001b[0m \u001b[1;33m=\u001b[0m \u001b[0mxgb_options\u001b[0m\u001b[1;33m[\u001b[0m\u001b[1;34m\"objective\"\u001b[0m\u001b[1;33m]\u001b[0m\u001b[1;33m\u001b[0m\u001b[0m\n",
      "\u001b[1;32m~\\Anaconda3\\lib\\site-packages\\xgboost\\training.py\u001b[0m in \u001b[0;36mtrain\u001b[1;34m(params, dtrain, num_boost_round, evals, obj, feval, maximize, early_stopping_rounds, evals_result, verbose_eval, xgb_model, callbacks, learning_rates)\u001b[0m\n\u001b[0;32m    202\u001b[0m                            \u001b[0mevals\u001b[0m\u001b[1;33m=\u001b[0m\u001b[0mevals\u001b[0m\u001b[1;33m,\u001b[0m\u001b[1;33m\u001b[0m\u001b[0m\n\u001b[0;32m    203\u001b[0m                            \u001b[0mobj\u001b[0m\u001b[1;33m=\u001b[0m\u001b[0mobj\u001b[0m\u001b[1;33m,\u001b[0m \u001b[0mfeval\u001b[0m\u001b[1;33m=\u001b[0m\u001b[0mfeval\u001b[0m\u001b[1;33m,\u001b[0m\u001b[1;33m\u001b[0m\u001b[0m\n\u001b[1;32m--> 204\u001b[1;33m                            xgb_model=xgb_model, callbacks=callbacks)\n\u001b[0m\u001b[0;32m    205\u001b[0m \u001b[1;33m\u001b[0m\u001b[0m\n\u001b[0;32m    206\u001b[0m \u001b[1;33m\u001b[0m\u001b[0m\n",
      "\u001b[1;32m~\\Anaconda3\\lib\\site-packages\\xgboost\\training.py\u001b[0m in \u001b[0;36m_train_internal\u001b[1;34m(params, dtrain, num_boost_round, evals, obj, feval, xgb_model, callbacks)\u001b[0m\n\u001b[0;32m     60\u001b[0m         cb for cb in callbacks if not cb.__dict__.get('before_iteration', False)]\n\u001b[0;32m     61\u001b[0m \u001b[1;33m\u001b[0m\u001b[0m\n\u001b[1;32m---> 62\u001b[1;33m     \u001b[1;32mfor\u001b[0m \u001b[0mi\u001b[0m \u001b[1;32min\u001b[0m \u001b[0mrange\u001b[0m\u001b[1;33m(\u001b[0m\u001b[0mstart_iteration\u001b[0m\u001b[1;33m,\u001b[0m \u001b[0mnum_boost_round\u001b[0m\u001b[1;33m)\u001b[0m\u001b[1;33m:\u001b[0m\u001b[1;33m\u001b[0m\u001b[0m\n\u001b[0m\u001b[0;32m     63\u001b[0m         \u001b[1;32mfor\u001b[0m \u001b[0mcb\u001b[0m \u001b[1;32min\u001b[0m \u001b[0mcallbacks_before_iter\u001b[0m\u001b[1;33m:\u001b[0m\u001b[1;33m\u001b[0m\u001b[0m\n\u001b[0;32m     64\u001b[0m             cb(CallbackEnv(model=bst,\n",
      "\u001b[1;31mTypeError\u001b[0m: 'DataFrame' object cannot be interpreted as an integer"
     ]
    }
   ],
   "source": [
    "#Choose all predictors except target & IDcols\n",
    "predictors = [x for x in train.columns if x not in [target, IDcol]]\n",
    "xgb1 = XGBClassifier(\n",
    " learning_rate =0.3,\n",
    " n_estimators=1000,\n",
    " max_depth=5,\n",
    " min_child_weight=1,\n",
    " gamma=0,\n",
    " subsample=0.8,\n",
    " colsample_bytree=0.8,\n",
    " objective= 'binary:logistic',\n",
    " nthread=4,\n",
    " scale_pos_weight=1,\n",
    " seed=27)\n",
    "modelfit(xgb1, train, predictors)"
   ]
  },
  {
   "cell_type": "code",
   "execution_count": null,
   "metadata": {
    "collapsed": true
   },
   "outputs": [],
   "source": [
    "param_test1 = {\n",
    " 'max_depth':range(3,10,2),\n",
    " 'min_child_weight':range(1,6,2)\n",
    "}\n",
    "gsearch1 = GridSearchCV(estimator = XGBClassifier( learning_rate =0.3, n_estimators=140, max_depth=5,\n",
    " min_child_weight=1, gamma=0, subsample=0.8, colsample_bytree=0.8,\n",
    " objective= 'binary:logistic', nthread=4, scale_pos_weight=1, seed=27), \n",
    " param_grid = param_test1, scoring='roc_auc',n_jobs=4,iid=False, cv=5)\n",
    "gsearch1.fit(train[predictors],train[target])\n",
    "gsearch1.grid_scores_, gsearch1.best_params_, gsearch1.best_score_\n"
   ]
  },
  {
   "cell_type": "code",
   "execution_count": 30,
   "metadata": {},
   "outputs": [
    {
     "ename": "NameError",
     "evalue": "name 'cvresult' is not defined",
     "output_type": "error",
     "traceback": [
      "\u001b[1;31m---------------------------------------------------------------------------\u001b[0m",
      "\u001b[1;31mNameError\u001b[0m                                 Traceback (most recent call last)",
      "\u001b[1;32m<ipython-input-30-238c3e6131de>\u001b[0m in \u001b[0;36m<module>\u001b[1;34m()\u001b[0m\n\u001b[1;32m----> 1\u001b[1;33m \u001b[0mcvresult\u001b[0m\u001b[1;33m\u001b[0m\u001b[0m\n\u001b[0m",
      "\u001b[1;31mNameError\u001b[0m: name 'cvresult' is not defined"
     ]
    }
   ],
   "source": [
    "cvresult"
   ]
  },
  {
   "cell_type": "code",
   "execution_count": 49,
   "metadata": {},
   "outputs": [
    {
     "name": "stdout",
     "output_type": "stream",
     "text": [
      "\n",
      "The following command must be run outside of the IPython shell:\n",
      "\n",
      "    $ pip install coveralls --use-mirrors\n",
      "\n",
      "The Python package manager (pip) can only be used from outside of IPython.\n",
      "Please reissue the `pip` command in a separate terminal or command prompt.\n",
      "\n",
      "See the Python documentation for more informations on how to install packages:\n",
      "\n",
      "    https://docs.python.org/3/installing/\n"
     ]
    }
   ],
   "source": [
    "pip install coveralls --use-mirrors"
   ]
  },
  {
   "cell_type": "code",
   "execution_count": null,
   "metadata": {
    "collapsed": true
   },
   "outputs": [],
   "source": []
  },
  {
   "cell_type": "code",
   "execution_count": null,
   "metadata": {
    "collapsed": true
   },
   "outputs": [],
   "source": []
  },
  {
   "cell_type": "code",
   "execution_count": null,
   "metadata": {
    "collapsed": true
   },
   "outputs": [],
   "source": []
  },
  {
   "cell_type": "code",
   "execution_count": null,
   "metadata": {
    "collapsed": true
   },
   "outputs": [],
   "source": []
  },
  {
   "cell_type": "code",
   "execution_count": null,
   "metadata": {
    "collapsed": true
   },
   "outputs": [],
   "source": []
  },
  {
   "cell_type": "code",
   "execution_count": null,
   "metadata": {
    "collapsed": true
   },
   "outputs": [],
   "source": []
  },
  {
   "cell_type": "code",
   "execution_count": null,
   "metadata": {
    "collapsed": true
   },
   "outputs": [],
   "source": []
  },
  {
   "cell_type": "code",
   "execution_count": null,
   "metadata": {
    "collapsed": true
   },
   "outputs": [],
   "source": []
  },
  {
   "cell_type": "code",
   "execution_count": null,
   "metadata": {
    "collapsed": true
   },
   "outputs": [],
   "source": []
  },
  {
   "cell_type": "code",
   "execution_count": null,
   "metadata": {
    "collapsed": true
   },
   "outputs": [],
   "source": []
  },
  {
   "cell_type": "code",
   "execution_count": null,
   "metadata": {
    "collapsed": true
   },
   "outputs": [],
   "source": []
  },
  {
   "cell_type": "code",
   "execution_count": null,
   "metadata": {
    "collapsed": true
   },
   "outputs": [],
   "source": []
  },
  {
   "cell_type": "code",
   "execution_count": null,
   "metadata": {
    "collapsed": true
   },
   "outputs": [],
   "source": []
  },
  {
   "cell_type": "code",
   "execution_count": 3,
   "metadata": {
    "collapsed": true
   },
   "outputs": [],
   "source": [
    "columns_train = list(range(23))"
   ]
  },
  {
   "cell_type": "code",
   "execution_count": 5,
   "metadata": {
    "collapsed": true
   },
   "outputs": [],
   "source": [
    "train.columns = columns_train"
   ]
  },
  {
   "cell_type": "code",
   "execution_count": 9,
   "metadata": {
    "collapsed": true
   },
   "outputs": [],
   "source": [
    "# split data into X and y\n",
    "X_train = train.iloc[:,0:22]\n",
    "y_train = train.iloc[:,22]"
   ]
  },
  {
   "cell_type": "code",
   "execution_count": 12,
   "metadata": {},
   "outputs": [
    {
     "data": {
      "text/html": [
       "<div>\n",
       "<style>\n",
       "    .dataframe thead tr:only-child th {\n",
       "        text-align: right;\n",
       "    }\n",
       "\n",
       "    .dataframe thead th {\n",
       "        text-align: left;\n",
       "    }\n",
       "\n",
       "    .dataframe tbody tr th {\n",
       "        vertical-align: top;\n",
       "    }\n",
       "</style>\n",
       "<table border=\"1\" class=\"dataframe\">\n",
       "  <thead>\n",
       "    <tr style=\"text-align: right;\">\n",
       "      <th></th>\n",
       "      <th>0</th>\n",
       "      <th>1</th>\n",
       "      <th>2</th>\n",
       "      <th>3</th>\n",
       "      <th>4</th>\n",
       "      <th>5</th>\n",
       "      <th>6</th>\n",
       "      <th>7</th>\n",
       "      <th>8</th>\n",
       "      <th>9</th>\n",
       "      <th>...</th>\n",
       "      <th>12</th>\n",
       "      <th>13</th>\n",
       "      <th>14</th>\n",
       "      <th>15</th>\n",
       "      <th>16</th>\n",
       "      <th>17</th>\n",
       "      <th>18</th>\n",
       "      <th>19</th>\n",
       "      <th>20</th>\n",
       "      <th>21</th>\n",
       "    </tr>\n",
       "  </thead>\n",
       "  <tbody>\n",
       "    <tr>\n",
       "      <th>0</th>\n",
       "      <td>1</td>\n",
       "      <td>1</td>\n",
       "      <td>2452</td>\n",
       "      <td>1615</td>\n",
       "      <td>280530</td>\n",
       "      <td>1</td>\n",
       "      <td>1</td>\n",
       "      <td>21.0</td>\n",
       "      <td>2452</td>\n",
       "      <td>1.087216</td>\n",
       "      <td>...</td>\n",
       "      <td>18.000000</td>\n",
       "      <td>3</td>\n",
       "      <td>36.0</td>\n",
       "      <td>76</td>\n",
       "      <td>0.141732</td>\n",
       "      <td>58</td>\n",
       "      <td>25.333333</td>\n",
       "      <td>93510.000000</td>\n",
       "      <td>2</td>\n",
       "      <td>93510.000000</td>\n",
       "    </tr>\n",
       "    <tr>\n",
       "      <th>1</th>\n",
       "      <td>7</td>\n",
       "      <td>1</td>\n",
       "      <td>35633</td>\n",
       "      <td>27749</td>\n",
       "      <td>2505309</td>\n",
       "      <td>7</td>\n",
       "      <td>7</td>\n",
       "      <td>23.0</td>\n",
       "      <td>35633</td>\n",
       "      <td>1.162354</td>\n",
       "      <td>...</td>\n",
       "      <td>22.083333</td>\n",
       "      <td>13</td>\n",
       "      <td>265.0</td>\n",
       "      <td>210</td>\n",
       "      <td>0.044099</td>\n",
       "      <td>142</td>\n",
       "      <td>16.153846</td>\n",
       "      <td>192716.076923</td>\n",
       "      <td>6</td>\n",
       "      <td>357901.285714</td>\n",
       "    </tr>\n",
       "    <tr>\n",
       "      <th>2</th>\n",
       "      <td>7</td>\n",
       "      <td>1</td>\n",
       "      <td>2272</td>\n",
       "      <td>1220</td>\n",
       "      <td>1771198</td>\n",
       "      <td>7</td>\n",
       "      <td>7</td>\n",
       "      <td>7.0</td>\n",
       "      <td>2272</td>\n",
       "      <td>0.792776</td>\n",
       "      <td>...</td>\n",
       "      <td>4.437500</td>\n",
       "      <td>81</td>\n",
       "      <td>355.0</td>\n",
       "      <td>768</td>\n",
       "      <td>0.015543</td>\n",
       "      <td>220</td>\n",
       "      <td>9.481481</td>\n",
       "      <td>21866.641975</td>\n",
       "      <td>74</td>\n",
       "      <td>23615.973333</td>\n",
       "    </tr>\n",
       "    <tr>\n",
       "      <th>3</th>\n",
       "      <td>5</td>\n",
       "      <td>1</td>\n",
       "      <td>8010</td>\n",
       "      <td>4530</td>\n",
       "      <td>795223</td>\n",
       "      <td>5</td>\n",
       "      <td>8</td>\n",
       "      <td>13.0</td>\n",
       "      <td>8010</td>\n",
       "      <td>0.769540</td>\n",
       "      <td>...</td>\n",
       "      <td>21.000000</td>\n",
       "      <td>12</td>\n",
       "      <td>231.0</td>\n",
       "      <td>195</td>\n",
       "      <td>0.087921</td>\n",
       "      <td>88</td>\n",
       "      <td>16.250000</td>\n",
       "      <td>66268.583333</td>\n",
       "      <td>4</td>\n",
       "      <td>99402.875000</td>\n",
       "    </tr>\n",
       "    <tr>\n",
       "      <th>4</th>\n",
       "      <td>7</td>\n",
       "      <td>2</td>\n",
       "      <td>8010</td>\n",
       "      <td>4530</td>\n",
       "      <td>795223</td>\n",
       "      <td>5</td>\n",
       "      <td>8</td>\n",
       "      <td>13.0</td>\n",
       "      <td>8010</td>\n",
       "      <td>0.769540</td>\n",
       "      <td>...</td>\n",
       "      <td>21.000000</td>\n",
       "      <td>12</td>\n",
       "      <td>231.0</td>\n",
       "      <td>195</td>\n",
       "      <td>0.087921</td>\n",
       "      <td>88</td>\n",
       "      <td>16.250000</td>\n",
       "      <td>66268.583333</td>\n",
       "      <td>4</td>\n",
       "      <td>99402.875000</td>\n",
       "    </tr>\n",
       "  </tbody>\n",
       "</table>\n",
       "<p>5 rows × 22 columns</p>\n",
       "</div>"
      ],
      "text/plain": [
       "   0   1      2      3        4   5   6     7      8         9   \\\n",
       "0   1   1   2452   1615   280530   1   1  21.0   2452  1.087216   \n",
       "1   7   1  35633  27749  2505309   7   7  23.0  35633  1.162354   \n",
       "2   7   1   2272   1220  1771198   7   7   7.0   2272  0.792776   \n",
       "3   5   1   8010   4530   795223   5   8  13.0   8010  0.769540   \n",
       "4   7   2   8010   4530   795223   5   8  13.0   8010  0.769540   \n",
       "\n",
       "       ...               12  13     14   15        16   17         18  \\\n",
       "0      ...        18.000000   3   36.0   76  0.141732   58  25.333333   \n",
       "1      ...        22.083333  13  265.0  210  0.044099  142  16.153846   \n",
       "2      ...         4.437500  81  355.0  768  0.015543  220   9.481481   \n",
       "3      ...        21.000000  12  231.0  195  0.087921   88  16.250000   \n",
       "4      ...        21.000000  12  231.0  195  0.087921   88  16.250000   \n",
       "\n",
       "              19  20             21  \n",
       "0   93510.000000   2   93510.000000  \n",
       "1  192716.076923   6  357901.285714  \n",
       "2   21866.641975  74   23615.973333  \n",
       "3   66268.583333   4   99402.875000  \n",
       "4   66268.583333   4   99402.875000  \n",
       "\n",
       "[5 rows x 22 columns]"
      ]
     },
     "execution_count": 12,
     "metadata": {},
     "output_type": "execute_result"
    }
   ],
   "source": [
    "X_train.head()"
   ]
  },
  {
   "cell_type": "code",
   "execution_count": 13,
   "metadata": {
    "collapsed": true
   },
   "outputs": [],
   "source": [
    "#parameters for the model\n",
    "param = {'max_depth': 6, \\\n",
    "         'eta': 0.1, \\\n",
    "         'objective': \"reg:logistic\",\\\n",
    "         \"eval_metric\" : \"logloss\", \\\n",
    "         \"min_child_weight\" : 10, \\\n",
    "         \"gamma\" : 0.70, \\\n",
    "         \"subsample\" : 0.76, \\\n",
    "         \"colsample_bytree\" : 0.95, \\\n",
    "         \"alpha\" : 2e-05, \\\n",
    "         \"lambda\" : 10}\n",
    "num_round = 80"
   ]
  },
  {
   "cell_type": "code",
   "execution_count": 14,
   "metadata": {
    "collapsed": true
   },
   "outputs": [],
   "source": [
    "dtrain = xgb.DMatrix(X_train, label=y_train)\n",
    "algo = xgb.train(param, dtrain, num_round)"
   ]
  },
  {
   "cell_type": "code",
   "execution_count": 18,
   "metadata": {
    "collapsed": true
   },
   "outputs": [],
   "source": [
    "# make predictions for test data\n",
    "dtest = xgb.DMatrix(X_test)\n",
    "preds = algo.predict(dtest)"
   ]
  },
  {
   "cell_type": "code",
   "execution_count": 19,
   "metadata": {
    "collapsed": true
   },
   "outputs": [],
   "source": [
    "test['reordered'] = (preds > 0.21) * 1"
   ]
  },
  {
   "cell_type": "code",
   "execution_count": 20,
   "metadata": {
    "collapsed": true
   },
   "outputs": [],
   "source": [
    "cols = ['product_id','order_number','prod_user_times','n_times_prod_ordered','n_times_prod_reordered','count_order_id','min_order_number','max_order_number','mean_add_to_cart_order','times_prod_ordered','prod_reorder_probability','prod_reorder_times','prod_reorder_ratio','user_mean_days_since_prior','user_orders','user_period','user_total_prod','user_reorder_ratio','distinct','user_average_basket','order_id','up_order_rate','up_orders_since_last_order','up_order_rate_since_first_order','reordered']\n",
    "test.columns = cols"
   ]
  },
  {
   "cell_type": "code",
   "execution_count": 21,
   "metadata": {},
   "outputs": [
    {
     "data": {
      "text/html": [
       "<div>\n",
       "<style>\n",
       "    .dataframe thead tr:only-child th {\n",
       "        text-align: right;\n",
       "    }\n",
       "\n",
       "    .dataframe thead th {\n",
       "        text-align: left;\n",
       "    }\n",
       "\n",
       "    .dataframe tbody tr th {\n",
       "        vertical-align: top;\n",
       "    }\n",
       "</style>\n",
       "<table border=\"1\" class=\"dataframe\">\n",
       "  <thead>\n",
       "    <tr style=\"text-align: right;\">\n",
       "      <th></th>\n",
       "      <th>product_id</th>\n",
       "      <th>order_number</th>\n",
       "      <th>prod_user_times</th>\n",
       "      <th>n_times_prod_ordered</th>\n",
       "      <th>n_times_prod_reordered</th>\n",
       "      <th>count_order_id</th>\n",
       "      <th>min_order_number</th>\n",
       "      <th>max_order_number</th>\n",
       "      <th>mean_add_to_cart_order</th>\n",
       "      <th>times_prod_ordered</th>\n",
       "      <th>...</th>\n",
       "      <th>user_period</th>\n",
       "      <th>user_total_prod</th>\n",
       "      <th>user_reorder_ratio</th>\n",
       "      <th>distinct</th>\n",
       "      <th>user_average_basket</th>\n",
       "      <th>order_id</th>\n",
       "      <th>up_order_rate</th>\n",
       "      <th>up_orders_since_last_order</th>\n",
       "      <th>up_order_rate_since_first_order</th>\n",
       "      <th>reordered</th>\n",
       "    </tr>\n",
       "  </thead>\n",
       "  <tbody>\n",
       "    <tr>\n",
       "      <th>0</th>\n",
       "      <td>48171</td>\n",
       "      <td>3</td>\n",
       "      <td>1</td>\n",
       "      <td>6925</td>\n",
       "      <td>3552</td>\n",
       "      <td>1491849</td>\n",
       "      <td>3</td>\n",
       "      <td>3</td>\n",
       "      <td>12.0</td>\n",
       "      <td>6925</td>\n",
       "      <td>...</td>\n",
       "      <td>109.0</td>\n",
       "      <td>70</td>\n",
       "      <td>0.110599</td>\n",
       "      <td>46</td>\n",
       "      <td>11.666667</td>\n",
       "      <td>1416320</td>\n",
       "      <td>248641.500000</td>\n",
       "      <td>3</td>\n",
       "      <td>372962.25</td>\n",
       "      <td>0</td>\n",
       "    </tr>\n",
       "    <tr>\n",
       "      <th>1</th>\n",
       "      <td>5209</td>\n",
       "      <td>1</td>\n",
       "      <td>1</td>\n",
       "      <td>17</td>\n",
       "      <td>6</td>\n",
       "      <td>1321974</td>\n",
       "      <td>1</td>\n",
       "      <td>6</td>\n",
       "      <td>10.5</td>\n",
       "      <td>17</td>\n",
       "      <td>...</td>\n",
       "      <td>76.0</td>\n",
       "      <td>204</td>\n",
       "      <td>0.075855</td>\n",
       "      <td>133</td>\n",
       "      <td>22.666667</td>\n",
       "      <td>1735923</td>\n",
       "      <td>146886.000000</td>\n",
       "      <td>3</td>\n",
       "      <td>146886.00</td>\n",
       "      <td>0</td>\n",
       "    </tr>\n",
       "    <tr>\n",
       "      <th>2</th>\n",
       "      <td>5209</td>\n",
       "      <td>6</td>\n",
       "      <td>2</td>\n",
       "      <td>17</td>\n",
       "      <td>6</td>\n",
       "      <td>1321974</td>\n",
       "      <td>1</td>\n",
       "      <td>6</td>\n",
       "      <td>10.5</td>\n",
       "      <td>17</td>\n",
       "      <td>...</td>\n",
       "      <td>76.0</td>\n",
       "      <td>204</td>\n",
       "      <td>0.075855</td>\n",
       "      <td>133</td>\n",
       "      <td>22.666667</td>\n",
       "      <td>1735923</td>\n",
       "      <td>146886.000000</td>\n",
       "      <td>3</td>\n",
       "      <td>146886.00</td>\n",
       "      <td>0</td>\n",
       "    </tr>\n",
       "    <tr>\n",
       "      <th>3</th>\n",
       "      <td>42625</td>\n",
       "      <td>5</td>\n",
       "      <td>1</td>\n",
       "      <td>13378</td>\n",
       "      <td>5865</td>\n",
       "      <td>1830981</td>\n",
       "      <td>5</td>\n",
       "      <td>6</td>\n",
       "      <td>16.5</td>\n",
       "      <td>13378</td>\n",
       "      <td>...</td>\n",
       "      <td>171.0</td>\n",
       "      <td>184</td>\n",
       "      <td>0.110199</td>\n",
       "      <td>90</td>\n",
       "      <td>20.444444</td>\n",
       "      <td>707453</td>\n",
       "      <td>203442.333333</td>\n",
       "      <td>3</td>\n",
       "      <td>366196.20</td>\n",
       "      <td>0</td>\n",
       "    </tr>\n",
       "    <tr>\n",
       "      <th>4</th>\n",
       "      <td>42625</td>\n",
       "      <td>6</td>\n",
       "      <td>2</td>\n",
       "      <td>13378</td>\n",
       "      <td>5865</td>\n",
       "      <td>1830981</td>\n",
       "      <td>5</td>\n",
       "      <td>6</td>\n",
       "      <td>16.5</td>\n",
       "      <td>13378</td>\n",
       "      <td>...</td>\n",
       "      <td>171.0</td>\n",
       "      <td>184</td>\n",
       "      <td>0.110199</td>\n",
       "      <td>90</td>\n",
       "      <td>20.444444</td>\n",
       "      <td>707453</td>\n",
       "      <td>203442.333333</td>\n",
       "      <td>3</td>\n",
       "      <td>366196.20</td>\n",
       "      <td>0</td>\n",
       "    </tr>\n",
       "  </tbody>\n",
       "</table>\n",
       "<p>5 rows × 25 columns</p>\n",
       "</div>"
      ],
      "text/plain": [
       "   product_id  order_number  prod_user_times  n_times_prod_ordered  \\\n",
       "0       48171             3                1                  6925   \n",
       "1        5209             1                1                    17   \n",
       "2        5209             6                2                    17   \n",
       "3       42625             5                1                 13378   \n",
       "4       42625             6                2                 13378   \n",
       "\n",
       "   n_times_prod_reordered  count_order_id  min_order_number  max_order_number  \\\n",
       "0                    3552         1491849                 3                 3   \n",
       "1                       6         1321974                 1                 6   \n",
       "2                       6         1321974                 1                 6   \n",
       "3                    5865         1830981                 5                 6   \n",
       "4                    5865         1830981                 5                 6   \n",
       "\n",
       "   mean_add_to_cart_order  times_prod_ordered    ...      user_period  \\\n",
       "0                    12.0                6925    ...            109.0   \n",
       "1                    10.5                  17    ...             76.0   \n",
       "2                    10.5                  17    ...             76.0   \n",
       "3                    16.5               13378    ...            171.0   \n",
       "4                    16.5               13378    ...            171.0   \n",
       "\n",
       "   user_total_prod  user_reorder_ratio  distinct  user_average_basket  \\\n",
       "0               70            0.110599        46            11.666667   \n",
       "1              204            0.075855       133            22.666667   \n",
       "2              204            0.075855       133            22.666667   \n",
       "3              184            0.110199        90            20.444444   \n",
       "4              184            0.110199        90            20.444444   \n",
       "\n",
       "   order_id  up_order_rate  up_orders_since_last_order  \\\n",
       "0   1416320  248641.500000                           3   \n",
       "1   1735923  146886.000000                           3   \n",
       "2   1735923  146886.000000                           3   \n",
       "3    707453  203442.333333                           3   \n",
       "4    707453  203442.333333                           3   \n",
       "\n",
       "   up_order_rate_since_first_order  reordered  \n",
       "0                        372962.25          0  \n",
       "1                        146886.00          0  \n",
       "2                        146886.00          0  \n",
       "3                        366196.20          0  \n",
       "4                        366196.20          0  \n",
       "\n",
       "[5 rows x 25 columns]"
      ]
     },
     "execution_count": 21,
     "metadata": {},
     "output_type": "execute_result"
    }
   ],
   "source": [
    "test.head()"
   ]
  },
  {
   "cell_type": "markdown",
   "metadata": {},
   "source": [
    "# Submission file"
   ]
  },
  {
   "cell_type": "code",
   "execution_count": 16,
   "metadata": {
    "collapsed": true
   },
   "outputs": [],
   "source": [
    "#remove order_id and product_id\n",
    "X_test = test.drop([test.columns[0], test.columns[20]], axis=1)\n",
    "columns_test = list(range(22))\n",
    "X_test.columns = columns_test\n",
    "X_test.head()"
   ]
  },
  {
   "cell_type": "code",
   "execution_count": 3,
   "metadata": {
    "collapsed": true
   },
   "outputs": [],
   "source": [
    "test = pd.read_csv(\"D:/DADOS USUARIO/Documents/springboard/capstone project/Instacart Kaggle/test.csv\", header=0)"
   ]
  },
  {
   "cell_type": "code",
   "execution_count": 22,
   "metadata": {
    "collapsed": true
   },
   "outputs": [],
   "source": [
    "t = test.loc[:,['order_id','product_id', 'reordered']]"
   ]
  },
  {
   "cell_type": "code",
   "execution_count": 23,
   "metadata": {
    "collapsed": true
   },
   "outputs": [],
   "source": [
    "t = t[t.reordered == 1]\n",
    "t = t.drop('reordered', axis=1)\n",
    "t['product_id'] = t.product_id.astype(str)"
   ]
  },
  {
   "cell_type": "code",
   "execution_count": 24,
   "metadata": {
    "collapsed": true
   },
   "outputs": [],
   "source": [
    "t = t.groupby('order_id').agg(lambda x: ' '.join(set(x)))"
   ]
  },
  {
   "cell_type": "code",
   "execution_count": 25,
   "metadata": {
    "collapsed": true,
    "scrolled": true
   },
   "outputs": [],
   "source": [
    "t = t.reset_index()\n",
    "t = t.rename(index=str, columns={\"product_id\": \"products\"})"
   ]
  },
  {
   "cell_type": "code",
   "execution_count": 27,
   "metadata": {
    "collapsed": true
   },
   "outputs": [],
   "source": [
    "test_orders = pd.read_csv(\"D:/DADOS USUARIO/Documents/springboard/capstone project/Instacart Kaggle/orders.csv\")\n",
    "test_orders = test_orders[test_orders.eval_set == 'test']"
   ]
  },
  {
   "cell_type": "code",
   "execution_count": 28,
   "metadata": {
    "collapsed": true
   },
   "outputs": [],
   "source": [
    "order_id = pd.Series(test.order_id.unique())\n",
    "order_id = test_orders[~test_orders.order_id.isin(t.order_id)]\n",
    "miss = pd.DataFrame({'order_id': order_id.order_id,\n",
    "                    'products': \"None\"})"
   ]
  },
  {
   "cell_type": "code",
   "execution_count": 29,
   "metadata": {
    "collapsed": true
   },
   "outputs": [],
   "source": [
    "submission = t.append(miss)"
   ]
  },
  {
   "cell_type": "code",
   "execution_count": 30,
   "metadata": {
    "collapsed": true
   },
   "outputs": [],
   "source": [
    "submission = submission.set_index('order_id')"
   ]
  },
  {
   "cell_type": "code",
   "execution_count": 31,
   "metadata": {
    "scrolled": true
   },
   "outputs": [
    {
     "data": {
      "text/html": [
       "<div>\n",
       "<style>\n",
       "    .dataframe thead tr:only-child th {\n",
       "        text-align: right;\n",
       "    }\n",
       "\n",
       "    .dataframe thead th {\n",
       "        text-align: left;\n",
       "    }\n",
       "\n",
       "    .dataframe tbody tr th {\n",
       "        vertical-align: top;\n",
       "    }\n",
       "</style>\n",
       "<table border=\"1\" class=\"dataframe\">\n",
       "  <thead>\n",
       "    <tr style=\"text-align: right;\">\n",
       "      <th></th>\n",
       "      <th>products</th>\n",
       "    </tr>\n",
       "    <tr>\n",
       "      <th>order_id</th>\n",
       "      <th></th>\n",
       "    </tr>\n",
       "  </thead>\n",
       "  <tbody>\n",
       "    <tr>\n",
       "      <th>17</th>\n",
       "      <td>39275 38777 21463 13107</td>\n",
       "    </tr>\n",
       "    <tr>\n",
       "      <th>34</th>\n",
       "      <td>39180 44663 47766 2596 43504 21137 16083 39475...</td>\n",
       "    </tr>\n",
       "    <tr>\n",
       "      <th>137</th>\n",
       "      <td>29594 23794 24852 41787 5134 44422 2326 25890 ...</td>\n",
       "    </tr>\n",
       "    <tr>\n",
       "      <th>182</th>\n",
       "      <td>47672 5479 39322 11520 13629 26128 31737 8021 ...</td>\n",
       "    </tr>\n",
       "    <tr>\n",
       "      <th>257</th>\n",
       "      <td>27966 12456 24852 29837 13870 49235 21137 2203...</td>\n",
       "    </tr>\n",
       "    <tr>\n",
       "      <th>313</th>\n",
       "      <td>30391 46906 13198 47626 12779 45007 28535 3496...</td>\n",
       "    </tr>\n",
       "    <tr>\n",
       "      <th>353</th>\n",
       "      <td>21137 35561 33000 40688</td>\n",
       "    </tr>\n",
       "    <tr>\n",
       "      <th>386</th>\n",
       "      <td>25513 45066 21479 37935 4920 2326 30450 40759 ...</td>\n",
       "    </tr>\n",
       "    <tr>\n",
       "      <th>414</th>\n",
       "      <td>27705 14947 48988 36865 33320 21709 31730 4463...</td>\n",
       "    </tr>\n",
       "    <tr>\n",
       "      <th>418</th>\n",
       "      <td>1503 5262 38694 47766 40268 41950 13702 30489</td>\n",
       "    </tr>\n",
       "    <tr>\n",
       "      <th>437</th>\n",
       "      <td>27966 36865 26790 10132 1463 4589 22825 16797 ...</td>\n",
       "    </tr>\n",
       "    <tr>\n",
       "      <th>452</th>\n",
       "      <td>47672 43504 13166 19019 4421 2923 4656 25122 4...</td>\n",
       "    </tr>\n",
       "    <tr>\n",
       "      <th>474</th>\n",
       "      <td>None</td>\n",
       "    </tr>\n",
       "    <tr>\n",
       "      <th>492</th>\n",
       "      <td>24499 49475 25146 31195 7088 26604 27323 11109...</td>\n",
       "    </tr>\n",
       "    <tr>\n",
       "      <th>497</th>\n",
       "      <td>31964 39947 1831 13176 36316 27275</td>\n",
       "    </tr>\n",
       "    <tr>\n",
       "      <th>513</th>\n",
       "      <td>None</td>\n",
       "    </tr>\n",
       "    <tr>\n",
       "      <th>517</th>\n",
       "      <td>24184 20574 13198 38293 25890 26604 31371 4752...</td>\n",
       "    </tr>\n",
       "    <tr>\n",
       "      <th>604</th>\n",
       "      <td>24852 19660 13176 16797 12099 28745</td>\n",
       "    </tr>\n",
       "    <tr>\n",
       "      <th>680</th>\n",
       "      <td>30353 47977 7743 7693 30441 14836 11908 27275</td>\n",
       "    </tr>\n",
       "    <tr>\n",
       "      <th>758</th>\n",
       "      <td>19660 651</td>\n",
       "    </tr>\n",
       "    <tr>\n",
       "      <th>759</th>\n",
       "      <td>34841 24852 47766 449 39527 4290 5612 14444 15...</td>\n",
       "    </tr>\n",
       "    <tr>\n",
       "      <th>887</th>\n",
       "      <td>18615 24852 41665 49683 41290 28993 9595 21137...</td>\n",
       "    </tr>\n",
       "    <tr>\n",
       "      <th>1161</th>\n",
       "      <td>22935 33198 47626 20608 43772 44142 26209</td>\n",
       "    </tr>\n",
       "    <tr>\n",
       "      <th>1195</th>\n",
       "      <td>2707 22275 13870</td>\n",
       "    </tr>\n",
       "    <tr>\n",
       "      <th>1304</th>\n",
       "      <td>17122 24852 42265 42585 45066 14218 23909 2710...</td>\n",
       "    </tr>\n",
       "    <tr>\n",
       "      <th>1408</th>\n",
       "      <td>1158 32857 2091 46676 47626 32433 39928 9076 4...</td>\n",
       "    </tr>\n",
       "    <tr>\n",
       "      <th>1513</th>\n",
       "      <td>16556 5385 26250 29373</td>\n",
       "    </tr>\n",
       "    <tr>\n",
       "      <th>1564</th>\n",
       "      <td>None</td>\n",
       "    </tr>\n",
       "    <tr>\n",
       "      <th>1727</th>\n",
       "      <td>4210 28710 40310 12218</td>\n",
       "    </tr>\n",
       "    <tr>\n",
       "      <th>1789</th>\n",
       "      <td>None</td>\n",
       "    </tr>\n",
       "    <tr>\n",
       "      <th>...</th>\n",
       "      <td>...</td>\n",
       "    </tr>\n",
       "    <tr>\n",
       "      <th>3419522</th>\n",
       "      <td>None</td>\n",
       "    </tr>\n",
       "    <tr>\n",
       "      <th>3419568</th>\n",
       "      <td>6184 196 31651 47402</td>\n",
       "    </tr>\n",
       "    <tr>\n",
       "      <th>3419574</th>\n",
       "      <td>35527 49235</td>\n",
       "    </tr>\n",
       "    <tr>\n",
       "      <th>3419600</th>\n",
       "      <td>13996 40910 3098 2086</td>\n",
       "    </tr>\n",
       "    <tr>\n",
       "      <th>3419623</th>\n",
       "      <td>24964 49236 4461</td>\n",
       "    </tr>\n",
       "    <tr>\n",
       "      <th>3419726</th>\n",
       "      <td>39877 43961 49412 2781 38944 26165 46616 20995</td>\n",
       "    </tr>\n",
       "    <tr>\n",
       "      <th>3419729</th>\n",
       "      <td>39581</td>\n",
       "    </tr>\n",
       "    <tr>\n",
       "      <th>3419732</th>\n",
       "      <td>28769 30391 13045 43504 4957 19366 39275 22825...</td>\n",
       "    </tr>\n",
       "    <tr>\n",
       "      <th>3419743</th>\n",
       "      <td>37710 38928 44172 42265 8013 11759 45051 26914...</td>\n",
       "    </tr>\n",
       "    <tr>\n",
       "      <th>3419832</th>\n",
       "      <td>22281 45747 49236 24852 27966 38694 11712 5450...</td>\n",
       "    </tr>\n",
       "    <tr>\n",
       "      <th>3419878</th>\n",
       "      <td>21903 38480 30391 47766 21137 35221 30776 5212...</td>\n",
       "    </tr>\n",
       "    <tr>\n",
       "      <th>3419910</th>\n",
       "      <td>27966 32429 27360 37927 5385 15872</td>\n",
       "    </tr>\n",
       "    <tr>\n",
       "      <th>3419934</th>\n",
       "      <td>26209 47626 25146 27845</td>\n",
       "    </tr>\n",
       "    <tr>\n",
       "      <th>3420147</th>\n",
       "      <td>25771 15290 5025 19030</td>\n",
       "    </tr>\n",
       "    <tr>\n",
       "      <th>3420168</th>\n",
       "      <td>18370 38383 40706 25466 12341 44625 35921 1883...</td>\n",
       "    </tr>\n",
       "    <tr>\n",
       "      <th>3420237</th>\n",
       "      <td>26706 19354 27423 40174 44949 21137 5451 32433...</td>\n",
       "    </tr>\n",
       "    <tr>\n",
       "      <th>3420327</th>\n",
       "      <td>1940 5077 9076 34234 18362 43772 16797 36988 4...</td>\n",
       "    </tr>\n",
       "    <tr>\n",
       "      <th>3420360</th>\n",
       "      <td>21903 9430 1158 18352 27695 48679 40545 8859 4...</td>\n",
       "    </tr>\n",
       "    <tr>\n",
       "      <th>3420390</th>\n",
       "      <td>21436 10765 7308 31717 47209 25890 13176 30830...</td>\n",
       "    </tr>\n",
       "    <tr>\n",
       "      <th>3420443</th>\n",
       "      <td>21982 4920 31342 24852 48628 44422 47144 27966...</td>\n",
       "    </tr>\n",
       "    <tr>\n",
       "      <th>3420449</th>\n",
       "      <td>37687 8048 33768</td>\n",
       "    </tr>\n",
       "    <tr>\n",
       "      <th>3420544</th>\n",
       "      <td>28577 13083 25466 5782 34027 47141 17334 47248...</td>\n",
       "    </tr>\n",
       "    <tr>\n",
       "      <th>3420569</th>\n",
       "      <td>16759 46667 26384 47766</td>\n",
       "    </tr>\n",
       "    <tr>\n",
       "      <th>3420651</th>\n",
       "      <td>35628 13870 49175 42701 39928 8021 5612 22035 ...</td>\n",
       "    </tr>\n",
       "    <tr>\n",
       "      <th>3420702</th>\n",
       "      <td>5803 20073 24852 5077 2525 41885 9018 10305</td>\n",
       "    </tr>\n",
       "    <tr>\n",
       "      <th>3420740</th>\n",
       "      <td>1158 34429 49005 39146 48070 16291 47621 18362...</td>\n",
       "    </tr>\n",
       "    <tr>\n",
       "      <th>3420877</th>\n",
       "      <td>6567 12238 47209 13176 49111 17652 42450 31766...</td>\n",
       "    </tr>\n",
       "    <tr>\n",
       "      <th>3420888</th>\n",
       "      <td>22935 46906 47766 42123 20542 44632 43961 1088...</td>\n",
       "    </tr>\n",
       "    <tr>\n",
       "      <th>3420989</th>\n",
       "      <td>45866 42450 47766 46676 35004 13517 5134 21616...</td>\n",
       "    </tr>\n",
       "    <tr>\n",
       "      <th>3421054</th>\n",
       "      <td>24852 13493 38448 31231 15802 13375 18426 11123</td>\n",
       "    </tr>\n",
       "  </tbody>\n",
       "</table>\n",
       "<p>75000 rows × 1 columns</p>\n",
       "</div>"
      ],
      "text/plain": [
       "                                                   products\n",
       "order_id                                                   \n",
       "17                                  39275 38777 21463 13107\n",
       "34        39180 44663 47766 2596 43504 21137 16083 39475...\n",
       "137       29594 23794 24852 41787 5134 44422 2326 25890 ...\n",
       "182       47672 5479 39322 11520 13629 26128 31737 8021 ...\n",
       "257       27966 12456 24852 29837 13870 49235 21137 2203...\n",
       "313       30391 46906 13198 47626 12779 45007 28535 3496...\n",
       "353                                 21137 35561 33000 40688\n",
       "386       25513 45066 21479 37935 4920 2326 30450 40759 ...\n",
       "414       27705 14947 48988 36865 33320 21709 31730 4463...\n",
       "418           1503 5262 38694 47766 40268 41950 13702 30489\n",
       "437       27966 36865 26790 10132 1463 4589 22825 16797 ...\n",
       "452       47672 43504 13166 19019 4421 2923 4656 25122 4...\n",
       "474                                                    None\n",
       "492       24499 49475 25146 31195 7088 26604 27323 11109...\n",
       "497                      31964 39947 1831 13176 36316 27275\n",
       "513                                                    None\n",
       "517       24184 20574 13198 38293 25890 26604 31371 4752...\n",
       "604                     24852 19660 13176 16797 12099 28745\n",
       "680           30353 47977 7743 7693 30441 14836 11908 27275\n",
       "758                                               19660 651\n",
       "759       34841 24852 47766 449 39527 4290 5612 14444 15...\n",
       "887       18615 24852 41665 49683 41290 28993 9595 21137...\n",
       "1161              22935 33198 47626 20608 43772 44142 26209\n",
       "1195                                       2707 22275 13870\n",
       "1304      17122 24852 42265 42585 45066 14218 23909 2710...\n",
       "1408      1158 32857 2091 46676 47626 32433 39928 9076 4...\n",
       "1513                                 16556 5385 26250 29373\n",
       "1564                                                   None\n",
       "1727                                 4210 28710 40310 12218\n",
       "1789                                                   None\n",
       "...                                                     ...\n",
       "3419522                                                None\n",
       "3419568                                6184 196 31651 47402\n",
       "3419574                                         35527 49235\n",
       "3419600                               13996 40910 3098 2086\n",
       "3419623                                    24964 49236 4461\n",
       "3419726      39877 43961 49412 2781 38944 26165 46616 20995\n",
       "3419729                                               39581\n",
       "3419732   28769 30391 13045 43504 4957 19366 39275 22825...\n",
       "3419743   37710 38928 44172 42265 8013 11759 45051 26914...\n",
       "3419832   22281 45747 49236 24852 27966 38694 11712 5450...\n",
       "3419878   21903 38480 30391 47766 21137 35221 30776 5212...\n",
       "3419910                  27966 32429 27360 37927 5385 15872\n",
       "3419934                             26209 47626 25146 27845\n",
       "3420147                              25771 15290 5025 19030\n",
       "3420168   18370 38383 40706 25466 12341 44625 35921 1883...\n",
       "3420237   26706 19354 27423 40174 44949 21137 5451 32433...\n",
       "3420327   1940 5077 9076 34234 18362 43772 16797 36988 4...\n",
       "3420360   21903 9430 1158 18352 27695 48679 40545 8859 4...\n",
       "3420390   21436 10765 7308 31717 47209 25890 13176 30830...\n",
       "3420443   21982 4920 31342 24852 48628 44422 47144 27966...\n",
       "3420449                                    37687 8048 33768\n",
       "3420544   28577 13083 25466 5782 34027 47141 17334 47248...\n",
       "3420569                             16759 46667 26384 47766\n",
       "3420651   35628 13870 49175 42701 39928 8021 5612 22035 ...\n",
       "3420702         5803 20073 24852 5077 2525 41885 9018 10305\n",
       "3420740   1158 34429 49005 39146 48070 16291 47621 18362...\n",
       "3420877   6567 12238 47209 13176 49111 17652 42450 31766...\n",
       "3420888   22935 46906 47766 42123 20542 44632 43961 1088...\n",
       "3420989   45866 42450 47766 46676 35004 13517 5134 21616...\n",
       "3421054     24852 13493 38448 31231 15802 13375 18426 11123\n",
       "\n",
       "[75000 rows x 1 columns]"
      ]
     },
     "execution_count": 31,
     "metadata": {},
     "output_type": "execute_result"
    }
   ],
   "source": [
    "submission.sort_index()"
   ]
  },
  {
   "cell_type": "code",
   "execution_count": 32,
   "metadata": {
    "collapsed": true,
    "scrolled": true
   },
   "outputs": [],
   "source": [
    "submission.to_csv('submission.csv')"
   ]
  }
 ],
 "metadata": {
  "kernelspec": {
   "display_name": "Python 3",
   "language": "python",
   "name": "python3"
  },
  "language_info": {
   "codemirror_mode": {
    "name": "ipython",
    "version": 3
   },
   "file_extension": ".py",
   "mimetype": "text/x-python",
   "name": "python",
   "nbconvert_exporter": "python",
   "pygments_lexer": "ipython3",
   "version": "3.6.3"
  }
 },
 "nbformat": 4,
 "nbformat_minor": 2
}
