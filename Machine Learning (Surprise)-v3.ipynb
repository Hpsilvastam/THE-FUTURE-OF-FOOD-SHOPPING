{
 "cells": [
  {
   "cell_type": "code",
   "execution_count": 1,
   "metadata": {
    "collapsed": true
   },
   "outputs": [],
   "source": [
    "import pandas as pd\n",
    "import numpy as np\n",
    "import matplotlib.pyplot as plt\n",
    "%matplotlib inline\n",
    "import seaborn as sns"
   ]
  },
  {
   "cell_type": "code",
   "execution_count": 2,
   "metadata": {
    "collapsed": true
   },
   "outputs": [],
   "source": [
    "df = pd.read_csv('Instacart Kaggle/opf2.csv')"
   ]
  },
  {
   "cell_type": "code",
   "execution_count": 3,
   "metadata": {
    "collapsed": true
   },
   "outputs": [],
   "source": [
    "df = df.rename(columns = {\"avg(flex_freq_1)\": 'avg_flex_freq'})\n",
    "df = df.rename(columns = {\"stddev_pop(flex_freq_2)\": 'stddev_flex_freq'})"
   ]
  },
  {
   "cell_type": "code",
   "execution_count": 4,
   "metadata": {
    "collapsed": true
   },
   "outputs": [],
   "source": [
    "df = df.rename(columns = {\"max(count_user_prod)\": 'count_user_prod'})"
   ]
  },
  {
   "cell_type": "code",
   "execution_count": 5,
   "metadata": {
    "collapsed": true
   },
   "outputs": [],
   "source": [
    "df.product_id = df.product_id.astype(np.int32)\n",
    "df.user_id = df.user_id.astype(np.int32)\n",
    "df.count_user_prod = df.count_user_prod.astype(np.int32)\n",
    "df.avg_flex_freq = np.around(df.avg_flex_freq, decimals=1)\n",
    "df.stddev_flex_freq = np.around(df.stddev_flex_freq, decimals=1)"
   ]
  },
  {
   "cell_type": "code",
   "execution_count": 6,
   "metadata": {
    "collapsed": true
   },
   "outputs": [],
   "source": [
    "df['cv'] = df.stddev_flex_freq/df.avg_flex_freq"
   ]
  },
  {
   "cell_type": "code",
   "execution_count": 7,
   "metadata": {
    "collapsed": true
   },
   "outputs": [],
   "source": [
    "df = df.dropna(how='any',axis=0)"
   ]
  },
  {
   "cell_type": "code",
   "execution_count": 8,
   "metadata": {
    "collapsed": true
   },
   "outputs": [],
   "source": [
    "df.cv = np.around(df.cv, decimals=2)"
   ]
  },
  {
   "cell_type": "code",
   "execution_count": 9,
   "metadata": {
    "collapsed": true
   },
   "outputs": [],
   "source": [
    "df = df[df > 0]\n",
    "df = df[df.cv < 1]"
   ]
  },
  {
   "cell_type": "code",
   "execution_count": 10,
   "metadata": {
    "collapsed": true
   },
   "outputs": [],
   "source": [
    "df = df.reset_index(drop=True)"
   ]
  },
  {
   "cell_type": "code",
   "execution_count": 11,
   "metadata": {},
   "outputs": [
    {
     "data": {
      "text/html": [
       "<div>\n",
       "<style>\n",
       "    .dataframe thead tr:only-child th {\n",
       "        text-align: right;\n",
       "    }\n",
       "\n",
       "    .dataframe thead th {\n",
       "        text-align: left;\n",
       "    }\n",
       "\n",
       "    .dataframe tbody tr th {\n",
       "        vertical-align: top;\n",
       "    }\n",
       "</style>\n",
       "<table border=\"1\" class=\"dataframe\">\n",
       "  <thead>\n",
       "    <tr style=\"text-align: right;\">\n",
       "      <th></th>\n",
       "      <th>user_id</th>\n",
       "      <th>product_id</th>\n",
       "      <th>count_user_prod</th>\n",
       "      <th>avg_flex_freq</th>\n",
       "      <th>stddev_flex_freq</th>\n",
       "      <th>cv</th>\n",
       "    </tr>\n",
       "  </thead>\n",
       "  <tbody>\n",
       "    <tr>\n",
       "      <th>0</th>\n",
       "      <td>7</td>\n",
       "      <td>29993</td>\n",
       "      <td>3</td>\n",
       "      <td>41.5</td>\n",
       "      <td>9.5</td>\n",
       "      <td>0.23</td>\n",
       "    </tr>\n",
       "    <tr>\n",
       "      <th>1</th>\n",
       "      <td>50</td>\n",
       "      <td>31528</td>\n",
       "      <td>3</td>\n",
       "      <td>29.0</td>\n",
       "      <td>15.0</td>\n",
       "      <td>0.52</td>\n",
       "    </tr>\n",
       "    <tr>\n",
       "      <th>2</th>\n",
       "      <td>71</td>\n",
       "      <td>6336</td>\n",
       "      <td>6</td>\n",
       "      <td>16.2</td>\n",
       "      <td>7.8</td>\n",
       "      <td>0.48</td>\n",
       "    </tr>\n",
       "    <tr>\n",
       "      <th>3</th>\n",
       "      <td>91</td>\n",
       "      <td>8638</td>\n",
       "      <td>4</td>\n",
       "      <td>6.3</td>\n",
       "      <td>5.5</td>\n",
       "      <td>0.87</td>\n",
       "    </tr>\n",
       "    <tr>\n",
       "      <th>4</th>\n",
       "      <td>197</td>\n",
       "      <td>3918</td>\n",
       "      <td>4</td>\n",
       "      <td>3.9</td>\n",
       "      <td>2.9</td>\n",
       "      <td>0.74</td>\n",
       "    </tr>\n",
       "  </tbody>\n",
       "</table>\n",
       "</div>"
      ],
      "text/plain": [
       "   user_id  product_id  count_user_prod  avg_flex_freq  stddev_flex_freq    cv\n",
       "0        7       29993                3           41.5               9.5  0.23\n",
       "1       50       31528                3           29.0              15.0  0.52\n",
       "2       71        6336                6           16.2               7.8  0.48\n",
       "3       91        8638                4            6.3               5.5  0.87\n",
       "4      197        3918                4            3.9               2.9  0.74"
      ]
     },
     "execution_count": 11,
     "metadata": {},
     "output_type": "execute_result"
    }
   ],
   "source": [
    "df.head()"
   ]
  },
  {
   "cell_type": "code",
   "execution_count": 12,
   "metadata": {},
   "outputs": [
    {
     "name": "stdout",
     "output_type": "stream",
     "text": [
      "<class 'pandas.core.frame.DataFrame'>\n",
      "RangeIndex: 2179894 entries, 0 to 2179893\n",
      "Data columns (total 6 columns):\n",
      "user_id             int32\n",
      "product_id          int32\n",
      "count_user_prod     int32\n",
      "avg_flex_freq       float64\n",
      "stddev_flex_freq    float64\n",
      "cv                  float64\n",
      "dtypes: float64(3), int32(3)\n",
      "memory usage: 74.8 MB\n"
     ]
    }
   ],
   "source": [
    "df.info()"
   ]
  },
  {
   "cell_type": "code",
   "execution_count": 13,
   "metadata": {},
   "outputs": [
    {
     "data": {
      "text/html": [
       "<div>\n",
       "<style>\n",
       "    .dataframe thead tr:only-child th {\n",
       "        text-align: right;\n",
       "    }\n",
       "\n",
       "    .dataframe thead th {\n",
       "        text-align: left;\n",
       "    }\n",
       "\n",
       "    .dataframe tbody tr th {\n",
       "        vertical-align: top;\n",
       "    }\n",
       "</style>\n",
       "<table border=\"1\" class=\"dataframe\">\n",
       "  <thead>\n",
       "    <tr style=\"text-align: right;\">\n",
       "      <th></th>\n",
       "      <th>user_id</th>\n",
       "      <th>product_id</th>\n",
       "      <th>count_user_prod</th>\n",
       "      <th>avg_flex_freq</th>\n",
       "      <th>stddev_flex_freq</th>\n",
       "      <th>cv</th>\n",
       "    </tr>\n",
       "  </thead>\n",
       "  <tbody>\n",
       "    <tr>\n",
       "      <th>count</th>\n",
       "      <td>2.179894e+06</td>\n",
       "      <td>2.179894e+06</td>\n",
       "      <td>2.179894e+06</td>\n",
       "      <td>2.179894e+06</td>\n",
       "      <td>2.179894e+06</td>\n",
       "      <td>2.179894e+06</td>\n",
       "    </tr>\n",
       "    <tr>\n",
       "      <th>mean</th>\n",
       "      <td>1.029019e+05</td>\n",
       "      <td>2.569642e+04</td>\n",
       "      <td>4.826255e+00</td>\n",
       "      <td>2.214366e+01</td>\n",
       "      <td>1.250650e+01</td>\n",
       "      <td>5.654440e-01</td>\n",
       "    </tr>\n",
       "    <tr>\n",
       "      <th>std</th>\n",
       "      <td>5.945206e+04</td>\n",
       "      <td>1.411804e+04</td>\n",
       "      <td>2.724840e+00</td>\n",
       "      <td>2.117468e+01</td>\n",
       "      <td>1.560151e+01</td>\n",
       "      <td>2.519110e-01</td>\n",
       "    </tr>\n",
       "    <tr>\n",
       "      <th>min</th>\n",
       "      <td>1.000000e+00</td>\n",
       "      <td>1.000000e+00</td>\n",
       "      <td>3.000000e+00</td>\n",
       "      <td>3.000000e-01</td>\n",
       "      <td>1.000000e-01</td>\n",
       "      <td>1.000000e-02</td>\n",
       "    </tr>\n",
       "    <tr>\n",
       "      <th>25%</th>\n",
       "      <td>5.147500e+04</td>\n",
       "      <td>1.365500e+04</td>\n",
       "      <td>3.000000e+00</td>\n",
       "      <td>8.100000e+00</td>\n",
       "      <td>3.500000e+00</td>\n",
       "      <td>3.800000e-01</td>\n",
       "    </tr>\n",
       "    <tr>\n",
       "      <th>50%</th>\n",
       "      <td>1.025420e+05</td>\n",
       "      <td>2.564000e+04</td>\n",
       "      <td>4.000000e+00</td>\n",
       "      <td>1.520000e+01</td>\n",
       "      <td>7.500000e+00</td>\n",
       "      <td>5.900000e-01</td>\n",
       "    </tr>\n",
       "    <tr>\n",
       "      <th>75%</th>\n",
       "      <td>1.544170e+05</td>\n",
       "      <td>3.822600e+04</td>\n",
       "      <td>5.000000e+00</td>\n",
       "      <td>2.820000e+01</td>\n",
       "      <td>1.480000e+01</td>\n",
       "      <td>7.700000e-01</td>\n",
       "    </tr>\n",
       "    <tr>\n",
       "      <th>max</th>\n",
       "      <td>2.062090e+05</td>\n",
       "      <td>4.968800e+04</td>\n",
       "      <td>5.000000e+01</td>\n",
       "      <td>1.798000e+02</td>\n",
       "      <td>1.772000e+02</td>\n",
       "      <td>9.900000e-01</td>\n",
       "    </tr>\n",
       "  </tbody>\n",
       "</table>\n",
       "</div>"
      ],
      "text/plain": [
       "            user_id    product_id  count_user_prod  avg_flex_freq  \\\n",
       "count  2.179894e+06  2.179894e+06     2.179894e+06   2.179894e+06   \n",
       "mean   1.029019e+05  2.569642e+04     4.826255e+00   2.214366e+01   \n",
       "std    5.945206e+04  1.411804e+04     2.724840e+00   2.117468e+01   \n",
       "min    1.000000e+00  1.000000e+00     3.000000e+00   3.000000e-01   \n",
       "25%    5.147500e+04  1.365500e+04     3.000000e+00   8.100000e+00   \n",
       "50%    1.025420e+05  2.564000e+04     4.000000e+00   1.520000e+01   \n",
       "75%    1.544170e+05  3.822600e+04     5.000000e+00   2.820000e+01   \n",
       "max    2.062090e+05  4.968800e+04     5.000000e+01   1.798000e+02   \n",
       "\n",
       "       stddev_flex_freq            cv  \n",
       "count      2.179894e+06  2.179894e+06  \n",
       "mean       1.250650e+01  5.654440e-01  \n",
       "std        1.560151e+01  2.519110e-01  \n",
       "min        1.000000e-01  1.000000e-02  \n",
       "25%        3.500000e+00  3.800000e-01  \n",
       "50%        7.500000e+00  5.900000e-01  \n",
       "75%        1.480000e+01  7.700000e-01  \n",
       "max        1.772000e+02  9.900000e-01  "
      ]
     },
     "execution_count": 13,
     "metadata": {},
     "output_type": "execute_result"
    }
   ],
   "source": [
    "df.describe()"
   ]
  },
  {
   "cell_type": "code",
   "execution_count": 14,
   "metadata": {},
   "outputs": [
    {
     "data": {
      "text/plain": [
       "(array([ 101209.,  132656.,  155897.,  213235.,  220183.,  284556.,\n",
       "         304589.,  294372.,  265212.,  207985.]),\n",
       " array([ 0.01 ,  0.108,  0.206,  0.304,  0.402,  0.5  ,  0.598,  0.696,\n",
       "         0.794,  0.892,  0.99 ]),\n",
       " <a list of 10 Patch objects>)"
      ]
     },
     "execution_count": 14,
     "metadata": {},
     "output_type": "execute_result"
    },
    {
     "data": {
      "image/png": "[encoded data removed]",
      "text/plain": [
       "<matplotlib.figure.Figure at 0x3e80adf2b0>"
      ]
     },
     "metadata": {},
     "output_type": "display_data"
    }
   ],
   "source": [
    "plt.hist(df.cv)"
   ]
  },
  {
   "cell_type": "markdown",
   "metadata": {},
   "source": [
    "cut on cv <= 1\n",
    "total lenght 2.182.327\n",
    "unique values for products 37.955\n",
    "unique values for users 162.450\n",
    "memory usage 83.2 MB\n",
    "\n",
    "cut on cv <= 0.4\n",
    "total lenght 603.852\n",
    "unique values for products 29.364\n",
    "unique values for users 136.780\n",
    "memory usage  23.0 MB\n",
    "\n",
    "cut on cv <= 0.1\n",
    "total lenght 102.064\n",
    "unique values for products 16.003 \n",
    "unique values for users 61.721\n",
    "memory usage  3.9 MB\n"
   ]
  },
  {
   "cell_type": "code",
   "execution_count": 15,
   "metadata": {},
   "outputs": [
    {
     "name": "stdout",
     "output_type": "stream",
     "text": [
      "<class 'pandas.core.frame.DataFrame'>\n",
      "RangeIndex: 101209 entries, 0 to 101208\n",
      "Data columns (total 6 columns):\n",
      "user_id             101209 non-null int32\n",
      "product_id          101209 non-null int32\n",
      "count_user_prod     101209 non-null int32\n",
      "avg_flex_freq       101209 non-null float64\n",
      "stddev_flex_freq    101209 non-null float64\n",
      "cv                  101209 non-null float64\n",
      "dtypes: float64(3), int32(3)\n",
      "memory usage: 3.5 MB\n"
     ]
    }
   ],
   "source": [
    "df_01 = df[df.cv <= 0.1]\n",
    "df_01 = df_01.reset_index(drop=True)\n",
    "df_01.info()"
   ]
  },
  {
   "cell_type": "code",
   "execution_count": 16,
   "metadata": {},
   "outputs": [
    {
     "data": {
      "text/html": [
       "<div>\n",
       "<style>\n",
       "    .dataframe thead tr:only-child th {\n",
       "        text-align: right;\n",
       "    }\n",
       "\n",
       "    .dataframe thead th {\n",
       "        text-align: left;\n",
       "    }\n",
       "\n",
       "    .dataframe tbody tr th {\n",
       "        vertical-align: top;\n",
       "    }\n",
       "</style>\n",
       "<table border=\"1\" class=\"dataframe\">\n",
       "  <thead>\n",
       "    <tr style=\"text-align: right;\">\n",
       "      <th></th>\n",
       "      <th>user_id</th>\n",
       "      <th>product_id</th>\n",
       "      <th>count_user_prod</th>\n",
       "      <th>avg_flex_freq</th>\n",
       "      <th>stddev_flex_freq</th>\n",
       "      <th>cv</th>\n",
       "    </tr>\n",
       "  </thead>\n",
       "  <tbody>\n",
       "    <tr>\n",
       "      <th>count</th>\n",
       "      <td>101209.00000</td>\n",
       "      <td>101209.000000</td>\n",
       "      <td>101209.000000</td>\n",
       "      <td>101209.000000</td>\n",
       "      <td>101209.000000</td>\n",
       "      <td>101209.000000</td>\n",
       "    </tr>\n",
       "    <tr>\n",
       "      <th>mean</th>\n",
       "      <td>102812.26057</td>\n",
       "      <td>25689.350078</td>\n",
       "      <td>3.087463</td>\n",
       "      <td>26.688627</td>\n",
       "      <td>1.503354</td>\n",
       "      <td>0.057191</td>\n",
       "    </tr>\n",
       "    <tr>\n",
       "      <th>std</th>\n",
       "      <td>59519.11653</td>\n",
       "      <td>14168.279567</td>\n",
       "      <td>0.309517</td>\n",
       "      <td>20.429664</td>\n",
       "      <td>1.475244</td>\n",
       "      <td>0.027949</td>\n",
       "    </tr>\n",
       "    <tr>\n",
       "      <th>min</th>\n",
       "      <td>2.00000</td>\n",
       "      <td>1.000000</td>\n",
       "      <td>3.000000</td>\n",
       "      <td>1.100000</td>\n",
       "      <td>0.100000</td>\n",
       "      <td>0.010000</td>\n",
       "    </tr>\n",
       "    <tr>\n",
       "      <th>25%</th>\n",
       "      <td>51225.00000</td>\n",
       "      <td>13609.000000</td>\n",
       "      <td>3.000000</td>\n",
       "      <td>12.000000</td>\n",
       "      <td>0.500000</td>\n",
       "      <td>0.030000</td>\n",
       "    </tr>\n",
       "    <tr>\n",
       "      <th>50%</th>\n",
       "      <td>102596.00000</td>\n",
       "      <td>25705.000000</td>\n",
       "      <td>3.000000</td>\n",
       "      <td>20.800000</td>\n",
       "      <td>1.000000</td>\n",
       "      <td>0.060000</td>\n",
       "    </tr>\n",
       "    <tr>\n",
       "      <th>75%</th>\n",
       "      <td>154429.00000</td>\n",
       "      <td>38274.000000</td>\n",
       "      <td>3.000000</td>\n",
       "      <td>33.900000</td>\n",
       "      <td>2.000000</td>\n",
       "      <td>0.080000</td>\n",
       "    </tr>\n",
       "    <tr>\n",
       "      <th>max</th>\n",
       "      <td>206209.00000</td>\n",
       "      <td>49683.000000</td>\n",
       "      <td>8.000000</td>\n",
       "      <td>119.500000</td>\n",
       "      <td>12.500000</td>\n",
       "      <td>0.100000</td>\n",
       "    </tr>\n",
       "  </tbody>\n",
       "</table>\n",
       "</div>"
      ],
      "text/plain": [
       "            user_id     product_id  count_user_prod  avg_flex_freq  \\\n",
       "count  101209.00000  101209.000000    101209.000000  101209.000000   \n",
       "mean   102812.26057   25689.350078         3.087463      26.688627   \n",
       "std     59519.11653   14168.279567         0.309517      20.429664   \n",
       "min         2.00000       1.000000         3.000000       1.100000   \n",
       "25%     51225.00000   13609.000000         3.000000      12.000000   \n",
       "50%    102596.00000   25705.000000         3.000000      20.800000   \n",
       "75%    154429.00000   38274.000000         3.000000      33.900000   \n",
       "max    206209.00000   49683.000000         8.000000     119.500000   \n",
       "\n",
       "       stddev_flex_freq             cv  \n",
       "count     101209.000000  101209.000000  \n",
       "mean           1.503354       0.057191  \n",
       "std            1.475244       0.027949  \n",
       "min            0.100000       0.010000  \n",
       "25%            0.500000       0.030000  \n",
       "50%            1.000000       0.060000  \n",
       "75%            2.000000       0.080000  \n",
       "max           12.500000       0.100000  "
      ]
     },
     "execution_count": 16,
     "metadata": {},
     "output_type": "execute_result"
    }
   ],
   "source": [
    "df_01.describe()"
   ]
  },
  {
   "cell_type": "code",
   "execution_count": 17,
   "metadata": {
    "collapsed": true
   },
   "outputs": [],
   "source": [
    "df_01['freq_perc'] = pd.qcut(df_01.avg_flex_freq, 4, labels=[1, 2, 3, 4])\n",
    "df_01.freq_perc = df_01.freq_perc.astype(np.int32)"
   ]
  },
  {
   "cell_type": "code",
   "execution_count": 18,
   "metadata": {
    "collapsed": true
   },
   "outputs": [],
   "source": [
    "from surprise import KNNBasic\n",
    "from surprise import Dataset\n",
    "from surprise import Reader\n",
    "from surprise import dump\n",
    "from surprise.accuracy import rmse"
   ]
  },
  {
   "cell_type": "code",
   "execution_count": 19,
   "metadata": {
    "collapsed": true
   },
   "outputs": [],
   "source": [
    "# A reader is still needed but only the rating_scale param is requiered.\n",
    "reader = Reader(rating_scale=(1, 4))\n",
    "# The columns must correspond to user id, item id and ratings (in that order).\n",
    "data = Dataset.load_from_df(df_01[['user_id', 'product_id', 'freq_perc']], reader)\n",
    "# Split it into 2 folds \n",
    "data.split(n_folds=2)"
   ]
  },
  {
   "cell_type": "code",
   "execution_count": 20,
   "metadata": {
    "collapsed": true
   },
   "outputs": [],
   "source": [
    "# We'll use a basic nearest neighbor approach, where similarities are computed\n",
    "# between items.\n",
    "sim_options = {'name': 'cosine',\n",
    "               'user_based': False  # compute  similarities between items\n",
    "               }\n",
    "algo = KNNBasic(sim_options=sim_options)  "
   ]
  },
  {
   "cell_type": "code",
   "execution_count": 21,
   "metadata": {},
   "outputs": [
    {
     "name": "stdout",
     "output_type": "stream",
     "text": [
      "Computing the cosine similarity matrix...\n",
      "Done computing similarity matrix.\n",
      "RMSE: 1.1179\n",
      "Computing the cosine similarity matrix...\n",
      "Done computing similarity matrix.\n",
      "RMSE: 1.1197\n"
     ]
    }
   ],
   "source": [
    "for trainset, testset in data.folds(): \n",
    "    algo.train(trainset)                             \n",
    "    predictions = algo.test(testset)\n",
    "    rmse(predictions)\n",
    "                                                                               \n",
    "    dump.dump('./dump_file', predictions, algo)"
   ]
  },
  {
   "cell_type": "code",
   "execution_count": 22,
   "metadata": {
    "collapsed": true
   },
   "outputs": [],
   "source": [
    "# The dump has been saved and we can now use it whenever we want.\n",
    "# Let's load it and see what we can do\n",
    "predictions, algo = dump.load('./dump_file')"
   ]
  },
  {
   "cell_type": "code",
   "execution_count": 23,
   "metadata": {},
   "outputs": [
    {
     "name": "stdout",
     "output_type": "stream",
     "text": [
      "algo: KNNBasic, k = 40, min_k = 1\n"
     ]
    }
   ],
   "source": [
    "trainset = algo.trainset\n",
    "print('algo: {0}, k = {1}, min_k = {2}'.format(algo.__class__.__name__, algo.k, algo.min_k))"
   ]
  },
  {
   "cell_type": "code",
   "execution_count": 24,
   "metadata": {},
   "outputs": [
    {
     "data": {
      "text/plain": [
       "50604"
      ]
     },
     "execution_count": 24,
     "metadata": {},
     "output_type": "execute_result"
    }
   ],
   "source": [
    "len(predictions)"
   ]
  },
  {
   "cell_type": "code",
   "execution_count": 25,
   "metadata": {
    "collapsed": true
   },
   "outputs": [],
   "source": [
    "# Let's build a pandas dataframe with all the predictions\n",
    "\n",
    "def get_Iu(uid):\n",
    "    \"\"\"Return the number of items rated by given user\n",
    "    \n",
    "    Args:\n",
    "        uid: The raw id of the user.\n",
    "    Returns:\n",
    "        The number of items rated by the user.\n",
    "    \"\"\"\n",
    "    \n",
    "    try:\n",
    "        return len(trainset.ur[trainset.to_inner_uid(uid)])\n",
    "    except ValueError:  # user was not part of the trainset\n",
    "        return 0\n",
    "    \n",
    "def get_Ui(iid):\n",
    "    \"\"\"Return the number of users that have rated given item\n",
    "    \n",
    "    Args:\n",
    "        iid: The raw id of the item.\n",
    "    Returns:\n",
    "        The number of users that have rated the item.\n",
    "    \"\"\"\n",
    "    \n",
    "    try:\n",
    "        return len(trainset.ir[trainset.to_inner_iid(iid)])\n",
    "    except ValueError:  # item was not part of the trainset\n",
    "        return 0\n",
    "\n",
    "df_pred = pd.DataFrame(predictions, columns=['uid', 'iid', 'rui', 'est', 'details'])    \n",
    "df_pred['Iu'] = df_pred.uid.apply(get_Iu)\n",
    "df_pred['Ui'] = df_pred.iid.apply(get_Ui)\n",
    "df_pred['err'] = abs(df_pred.est - df_pred.rui)"
   ]
  },
  {
   "cell_type": "code",
   "execution_count": 26,
   "metadata": {},
   "outputs": [
    {
     "data": {
      "text/html": [
       "<div>\n",
       "<style>\n",
       "    .dataframe thead tr:only-child th {\n",
       "        text-align: right;\n",
       "    }\n",
       "\n",
       "    .dataframe thead th {\n",
       "        text-align: left;\n",
       "    }\n",
       "\n",
       "    .dataframe tbody tr th {\n",
       "        vertical-align: top;\n",
       "    }\n",
       "</style>\n",
       "<table border=\"1\" class=\"dataframe\">\n",
       "  <thead>\n",
       "    <tr style=\"text-align: right;\">\n",
       "      <th></th>\n",
       "      <th>uid</th>\n",
       "      <th>iid</th>\n",
       "      <th>rui</th>\n",
       "      <th>est</th>\n",
       "      <th>details</th>\n",
       "      <th>Iu</th>\n",
       "      <th>Ui</th>\n",
       "      <th>err</th>\n",
       "    </tr>\n",
       "  </thead>\n",
       "  <tbody>\n",
       "    <tr>\n",
       "      <th>0</th>\n",
       "      <td>142038</td>\n",
       "      <td>28985</td>\n",
       "      <td>2.0</td>\n",
       "      <td>2.497895</td>\n",
       "      <td>{'was_impossible': True, 'reason': 'User and/o...</td>\n",
       "      <td>0</td>\n",
       "      <td>99</td>\n",
       "      <td>0.497895</td>\n",
       "    </tr>\n",
       "    <tr>\n",
       "      <th>1</th>\n",
       "      <td>192829</td>\n",
       "      <td>18465</td>\n",
       "      <td>3.0</td>\n",
       "      <td>2.497895</td>\n",
       "      <td>{'was_impossible': True, 'reason': 'User and/o...</td>\n",
       "      <td>0</td>\n",
       "      <td>67</td>\n",
       "      <td>0.502105</td>\n",
       "    </tr>\n",
       "    <tr>\n",
       "      <th>2</th>\n",
       "      <td>188709</td>\n",
       "      <td>38650</td>\n",
       "      <td>2.0</td>\n",
       "      <td>2.497895</td>\n",
       "      <td>{'was_impossible': True, 'reason': 'Not enough...</td>\n",
       "      <td>1</td>\n",
       "      <td>13</td>\n",
       "      <td>0.497895</td>\n",
       "    </tr>\n",
       "    <tr>\n",
       "      <th>3</th>\n",
       "      <td>183418</td>\n",
       "      <td>26683</td>\n",
       "      <td>1.0</td>\n",
       "      <td>2.497895</td>\n",
       "      <td>{'was_impossible': True, 'reason': 'User and/o...</td>\n",
       "      <td>0</td>\n",
       "      <td>4</td>\n",
       "      <td>1.497895</td>\n",
       "    </tr>\n",
       "    <tr>\n",
       "      <th>4</th>\n",
       "      <td>205715</td>\n",
       "      <td>39275</td>\n",
       "      <td>1.0</td>\n",
       "      <td>2.497895</td>\n",
       "      <td>{'was_impossible': True, 'reason': 'User and/o...</td>\n",
       "      <td>0</td>\n",
       "      <td>163</td>\n",
       "      <td>1.497895</td>\n",
       "    </tr>\n",
       "  </tbody>\n",
       "</table>\n",
       "</div>"
      ],
      "text/plain": [
       "      uid    iid  rui       est  \\\n",
       "0  142038  28985  2.0  2.497895   \n",
       "1  192829  18465  3.0  2.497895   \n",
       "2  188709  38650  2.0  2.497895   \n",
       "3  183418  26683  1.0  2.497895   \n",
       "4  205715  39275  1.0  2.497895   \n",
       "\n",
       "                                             details  Iu   Ui       err  \n",
       "0  {'was_impossible': True, 'reason': 'User and/o...   0   99  0.497895  \n",
       "1  {'was_impossible': True, 'reason': 'User and/o...   0   67  0.502105  \n",
       "2  {'was_impossible': True, 'reason': 'Not enough...   1   13  0.497895  \n",
       "3  {'was_impossible': True, 'reason': 'User and/o...   0    4  1.497895  \n",
       "4  {'was_impossible': True, 'reason': 'User and/o...   0  163  1.497895  "
      ]
     },
     "execution_count": 26,
     "metadata": {},
     "output_type": "execute_result"
    }
   ],
   "source": [
    "df_pred.head()"
   ]
  },
  {
   "cell_type": "code",
   "execution_count": 27,
   "metadata": {
    "collapsed": true
   },
   "outputs": [],
   "source": [
    "best_predictions = df_pred.sort_values(by='err')[:10]\n",
    "worst_predictions = df_pred.sort_values(by='err')[-10:]"
   ]
  },
  {
   "cell_type": "code",
   "execution_count": 28,
   "metadata": {},
   "outputs": [
    {
     "data": {
      "text/html": [
       "<div>\n",
       "<style>\n",
       "    .dataframe thead tr:only-child th {\n",
       "        text-align: right;\n",
       "    }\n",
       "\n",
       "    .dataframe thead th {\n",
       "        text-align: left;\n",
       "    }\n",
       "\n",
       "    .dataframe tbody tr th {\n",
       "        vertical-align: top;\n",
       "    }\n",
       "</style>\n",
       "<table border=\"1\" class=\"dataframe\">\n",
       "  <thead>\n",
       "    <tr style=\"text-align: right;\">\n",
       "      <th></th>\n",
       "      <th>uid</th>\n",
       "      <th>iid</th>\n",
       "      <th>rui</th>\n",
       "      <th>est</th>\n",
       "      <th>details</th>\n",
       "      <th>Iu</th>\n",
       "      <th>Ui</th>\n",
       "      <th>err</th>\n",
       "    </tr>\n",
       "  </thead>\n",
       "  <tbody>\n",
       "    <tr>\n",
       "      <th>13249</th>\n",
       "      <td>21271</td>\n",
       "      <td>24852</td>\n",
       "      <td>1.0</td>\n",
       "      <td>1.0</td>\n",
       "      <td>{'actual_k': 1, 'was_impossible': False}</td>\n",
       "      <td>2</td>\n",
       "      <td>394</td>\n",
       "      <td>0.0</td>\n",
       "    </tr>\n",
       "    <tr>\n",
       "      <th>48719</th>\n",
       "      <td>119258</td>\n",
       "      <td>21137</td>\n",
       "      <td>1.0</td>\n",
       "      <td>1.0</td>\n",
       "      <td>{'actual_k': 1, 'was_impossible': False}</td>\n",
       "      <td>1</td>\n",
       "      <td>317</td>\n",
       "      <td>0.0</td>\n",
       "    </tr>\n",
       "    <tr>\n",
       "      <th>34104</th>\n",
       "      <td>104289</td>\n",
       "      <td>13176</td>\n",
       "      <td>1.0</td>\n",
       "      <td>1.0</td>\n",
       "      <td>{'actual_k': 1, 'was_impossible': False}</td>\n",
       "      <td>1</td>\n",
       "      <td>297</td>\n",
       "      <td>0.0</td>\n",
       "    </tr>\n",
       "    <tr>\n",
       "      <th>43647</th>\n",
       "      <td>97473</td>\n",
       "      <td>24852</td>\n",
       "      <td>2.0</td>\n",
       "      <td>2.0</td>\n",
       "      <td>{'actual_k': 1, 'was_impossible': False}</td>\n",
       "      <td>1</td>\n",
       "      <td>394</td>\n",
       "      <td>0.0</td>\n",
       "    </tr>\n",
       "    <tr>\n",
       "      <th>9912</th>\n",
       "      <td>128343</td>\n",
       "      <td>34358</td>\n",
       "      <td>3.0</td>\n",
       "      <td>3.0</td>\n",
       "      <td>{'actual_k': 1, 'was_impossible': False}</td>\n",
       "      <td>1</td>\n",
       "      <td>69</td>\n",
       "      <td>0.0</td>\n",
       "    </tr>\n",
       "    <tr>\n",
       "      <th>36421</th>\n",
       "      <td>100427</td>\n",
       "      <td>1158</td>\n",
       "      <td>2.0</td>\n",
       "      <td>2.0</td>\n",
       "      <td>{'actual_k': 1, 'was_impossible': False}</td>\n",
       "      <td>1</td>\n",
       "      <td>34</td>\n",
       "      <td>0.0</td>\n",
       "    </tr>\n",
       "    <tr>\n",
       "      <th>5784</th>\n",
       "      <td>70696</td>\n",
       "      <td>31717</td>\n",
       "      <td>3.0</td>\n",
       "      <td>3.0</td>\n",
       "      <td>{'actual_k': 1, 'was_impossible': False}</td>\n",
       "      <td>2</td>\n",
       "      <td>146</td>\n",
       "      <td>0.0</td>\n",
       "    </tr>\n",
       "    <tr>\n",
       "      <th>48675</th>\n",
       "      <td>196053</td>\n",
       "      <td>21137</td>\n",
       "      <td>1.0</td>\n",
       "      <td>1.0</td>\n",
       "      <td>{'actual_k': 1, 'was_impossible': False}</td>\n",
       "      <td>3</td>\n",
       "      <td>317</td>\n",
       "      <td>0.0</td>\n",
       "    </tr>\n",
       "    <tr>\n",
       "      <th>2357</th>\n",
       "      <td>141830</td>\n",
       "      <td>24852</td>\n",
       "      <td>2.0</td>\n",
       "      <td>2.0</td>\n",
       "      <td>{'actual_k': 1, 'was_impossible': False}</td>\n",
       "      <td>5</td>\n",
       "      <td>394</td>\n",
       "      <td>0.0</td>\n",
       "    </tr>\n",
       "    <tr>\n",
       "      <th>527</th>\n",
       "      <td>88675</td>\n",
       "      <td>40604</td>\n",
       "      <td>3.0</td>\n",
       "      <td>3.0</td>\n",
       "      <td>{'actual_k': 1, 'was_impossible': False}</td>\n",
       "      <td>2</td>\n",
       "      <td>69</td>\n",
       "      <td>0.0</td>\n",
       "    </tr>\n",
       "  </tbody>\n",
       "</table>\n",
       "</div>"
      ],
      "text/plain": [
       "          uid    iid  rui  est                                   details  Iu  \\\n",
       "13249   21271  24852  1.0  1.0  {'actual_k': 1, 'was_impossible': False}   2   \n",
       "48719  119258  21137  1.0  1.0  {'actual_k': 1, 'was_impossible': False}   1   \n",
       "34104  104289  13176  1.0  1.0  {'actual_k': 1, 'was_impossible': False}   1   \n",
       "43647   97473  24852  2.0  2.0  {'actual_k': 1, 'was_impossible': False}   1   \n",
       "9912   128343  34358  3.0  3.0  {'actual_k': 1, 'was_impossible': False}   1   \n",
       "36421  100427   1158  2.0  2.0  {'actual_k': 1, 'was_impossible': False}   1   \n",
       "5784    70696  31717  3.0  3.0  {'actual_k': 1, 'was_impossible': False}   2   \n",
       "48675  196053  21137  1.0  1.0  {'actual_k': 1, 'was_impossible': False}   3   \n",
       "2357   141830  24852  2.0  2.0  {'actual_k': 1, 'was_impossible': False}   5   \n",
       "527     88675  40604  3.0  3.0  {'actual_k': 1, 'was_impossible': False}   2   \n",
       "\n",
       "        Ui  err  \n",
       "13249  394  0.0  \n",
       "48719  317  0.0  \n",
       "34104  297  0.0  \n",
       "43647  394  0.0  \n",
       "9912    69  0.0  \n",
       "36421   34  0.0  \n",
       "5784   146  0.0  \n",
       "48675  317  0.0  \n",
       "2357   394  0.0  \n",
       "527     69  0.0  "
      ]
     },
     "execution_count": 28,
     "metadata": {},
     "output_type": "execute_result"
    }
   ],
   "source": [
    "# Let's take a look at the best predictions of the algorithm\n",
    "best_predictions"
   ]
  },
  {
   "cell_type": "code",
   "execution_count": 29,
   "metadata": {},
   "outputs": [
    {
     "data": {
      "text/html": [
       "<div>\n",
       "<style>\n",
       "    .dataframe thead tr:only-child th {\n",
       "        text-align: right;\n",
       "    }\n",
       "\n",
       "    .dataframe thead th {\n",
       "        text-align: left;\n",
       "    }\n",
       "\n",
       "    .dataframe tbody tr th {\n",
       "        vertical-align: top;\n",
       "    }\n",
       "</style>\n",
       "<table border=\"1\" class=\"dataframe\">\n",
       "  <thead>\n",
       "    <tr style=\"text-align: right;\">\n",
       "      <th></th>\n",
       "      <th>uid</th>\n",
       "      <th>iid</th>\n",
       "      <th>rui</th>\n",
       "      <th>est</th>\n",
       "      <th>details</th>\n",
       "      <th>Iu</th>\n",
       "      <th>Ui</th>\n",
       "      <th>err</th>\n",
       "    </tr>\n",
       "  </thead>\n",
       "  <tbody>\n",
       "    <tr>\n",
       "      <th>16279</th>\n",
       "      <td>204039</td>\n",
       "      <td>19057</td>\n",
       "      <td>1.0</td>\n",
       "      <td>4.0</td>\n",
       "      <td>{'actual_k': 1, 'was_impossible': False}</td>\n",
       "      <td>1</td>\n",
       "      <td>74</td>\n",
       "      <td>3.0</td>\n",
       "    </tr>\n",
       "    <tr>\n",
       "      <th>19837</th>\n",
       "      <td>134303</td>\n",
       "      <td>260</td>\n",
       "      <td>1.0</td>\n",
       "      <td>4.0</td>\n",
       "      <td>{'actual_k': 1, 'was_impossible': False}</td>\n",
       "      <td>2</td>\n",
       "      <td>35</td>\n",
       "      <td>3.0</td>\n",
       "    </tr>\n",
       "    <tr>\n",
       "      <th>10906</th>\n",
       "      <td>146286</td>\n",
       "      <td>47626</td>\n",
       "      <td>4.0</td>\n",
       "      <td>1.0</td>\n",
       "      <td>{'actual_k': 1, 'was_impossible': False}</td>\n",
       "      <td>1</td>\n",
       "      <td>272</td>\n",
       "      <td>3.0</td>\n",
       "    </tr>\n",
       "    <tr>\n",
       "      <th>41108</th>\n",
       "      <td>162782</td>\n",
       "      <td>21903</td>\n",
       "      <td>4.0</td>\n",
       "      <td>1.0</td>\n",
       "      <td>{'actual_k': 1, 'was_impossible': False}</td>\n",
       "      <td>2</td>\n",
       "      <td>333</td>\n",
       "      <td>3.0</td>\n",
       "    </tr>\n",
       "    <tr>\n",
       "      <th>47805</th>\n",
       "      <td>191407</td>\n",
       "      <td>48745</td>\n",
       "      <td>1.0</td>\n",
       "      <td>4.0</td>\n",
       "      <td>{'actual_k': 1, 'was_impossible': False}</td>\n",
       "      <td>1</td>\n",
       "      <td>35</td>\n",
       "      <td>3.0</td>\n",
       "    </tr>\n",
       "    <tr>\n",
       "      <th>23465</th>\n",
       "      <td>101210</td>\n",
       "      <td>2078</td>\n",
       "      <td>1.0</td>\n",
       "      <td>4.0</td>\n",
       "      <td>{'actual_k': 1, 'was_impossible': False}</td>\n",
       "      <td>2</td>\n",
       "      <td>30</td>\n",
       "      <td>3.0</td>\n",
       "    </tr>\n",
       "    <tr>\n",
       "      <th>4170</th>\n",
       "      <td>156522</td>\n",
       "      <td>9020</td>\n",
       "      <td>1.0</td>\n",
       "      <td>4.0</td>\n",
       "      <td>{'actual_k': 1, 'was_impossible': False}</td>\n",
       "      <td>1</td>\n",
       "      <td>21</td>\n",
       "      <td>3.0</td>\n",
       "    </tr>\n",
       "    <tr>\n",
       "      <th>4349</th>\n",
       "      <td>202877</td>\n",
       "      <td>16797</td>\n",
       "      <td>4.0</td>\n",
       "      <td>1.0</td>\n",
       "      <td>{'actual_k': 1, 'was_impossible': False}</td>\n",
       "      <td>1</td>\n",
       "      <td>196</td>\n",
       "      <td>3.0</td>\n",
       "    </tr>\n",
       "    <tr>\n",
       "      <th>2391</th>\n",
       "      <td>71072</td>\n",
       "      <td>10749</td>\n",
       "      <td>1.0</td>\n",
       "      <td>4.0</td>\n",
       "      <td>{'actual_k': 1, 'was_impossible': False}</td>\n",
       "      <td>1</td>\n",
       "      <td>85</td>\n",
       "      <td>3.0</td>\n",
       "    </tr>\n",
       "    <tr>\n",
       "      <th>9943</th>\n",
       "      <td>138136</td>\n",
       "      <td>21903</td>\n",
       "      <td>1.0</td>\n",
       "      <td>4.0</td>\n",
       "      <td>{'actual_k': 1, 'was_impossible': False}</td>\n",
       "      <td>1</td>\n",
       "      <td>333</td>\n",
       "      <td>3.0</td>\n",
       "    </tr>\n",
       "  </tbody>\n",
       "</table>\n",
       "</div>"
      ],
      "text/plain": [
       "          uid    iid  rui  est                                   details  Iu  \\\n",
       "16279  204039  19057  1.0  4.0  {'actual_k': 1, 'was_impossible': False}   1   \n",
       "19837  134303    260  1.0  4.0  {'actual_k': 1, 'was_impossible': False}   2   \n",
       "10906  146286  47626  4.0  1.0  {'actual_k': 1, 'was_impossible': False}   1   \n",
       "41108  162782  21903  4.0  1.0  {'actual_k': 1, 'was_impossible': False}   2   \n",
       "47805  191407  48745  1.0  4.0  {'actual_k': 1, 'was_impossible': False}   1   \n",
       "23465  101210   2078  1.0  4.0  {'actual_k': 1, 'was_impossible': False}   2   \n",
       "4170   156522   9020  1.0  4.0  {'actual_k': 1, 'was_impossible': False}   1   \n",
       "4349   202877  16797  4.0  1.0  {'actual_k': 1, 'was_impossible': False}   1   \n",
       "2391    71072  10749  1.0  4.0  {'actual_k': 1, 'was_impossible': False}   1   \n",
       "9943   138136  21903  1.0  4.0  {'actual_k': 1, 'was_impossible': False}   1   \n",
       "\n",
       "        Ui  err  \n",
       "16279   74  3.0  \n",
       "19837   35  3.0  \n",
       "10906  272  3.0  \n",
       "41108  333  3.0  \n",
       "47805   35  3.0  \n",
       "23465   30  3.0  \n",
       "4170    21  3.0  \n",
       "4349   196  3.0  \n",
       "2391    85  3.0  \n",
       "9943   333  3.0  "
      ]
     },
     "execution_count": 29,
     "metadata": {},
     "output_type": "execute_result"
    }
   ],
   "source": [
    "# Now, let's look at the prediction with the biggest error\n",
    "worst_predictions"
   ]
  },
  {
   "cell_type": "markdown",
   "metadata": {},
   "source": [
    "#changing the min_k didn't influence the RMSE stayed around 1.119\n",
    "\n",
    "\n",
    "1.run in the test set and submit in kaggle.\n",
    "\n",
    "2.try SVD too"
   ]
  },
  {
   "cell_type": "code",
   "execution_count": 31,
   "metadata": {},
   "outputs": [
    {
     "data": {
      "text/html": [
       "<div>\n",
       "<style>\n",
       "    .dataframe thead tr:only-child th {\n",
       "        text-align: right;\n",
       "    }\n",
       "\n",
       "    .dataframe thead th {\n",
       "        text-align: left;\n",
       "    }\n",
       "\n",
       "    .dataframe tbody tr th {\n",
       "        vertical-align: top;\n",
       "    }\n",
       "</style>\n",
       "<table border=\"1\" class=\"dataframe\">\n",
       "  <thead>\n",
       "    <tr style=\"text-align: right;\">\n",
       "      <th></th>\n",
       "      <th>actual_k</th>\n",
       "      <th>reason</th>\n",
       "      <th>was_impossible</th>\n",
       "    </tr>\n",
       "  </thead>\n",
       "  <tbody>\n",
       "    <tr>\n",
       "      <th>0</th>\n",
       "      <td>NaN</td>\n",
       "      <td>User and/or item is unkown.</td>\n",
       "      <td>True</td>\n",
       "    </tr>\n",
       "    <tr>\n",
       "      <th>1</th>\n",
       "      <td>NaN</td>\n",
       "      <td>User and/or item is unkown.</td>\n",
       "      <td>True</td>\n",
       "    </tr>\n",
       "    <tr>\n",
       "      <th>2</th>\n",
       "      <td>NaN</td>\n",
       "      <td>Not enough neighbors.</td>\n",
       "      <td>True</td>\n",
       "    </tr>\n",
       "    <tr>\n",
       "      <th>3</th>\n",
       "      <td>NaN</td>\n",
       "      <td>User and/or item is unkown.</td>\n",
       "      <td>True</td>\n",
       "    </tr>\n",
       "    <tr>\n",
       "      <th>4</th>\n",
       "      <td>NaN</td>\n",
       "      <td>User and/or item is unkown.</td>\n",
       "      <td>True</td>\n",
       "    </tr>\n",
       "  </tbody>\n",
       "</table>\n",
       "</div>"
      ],
      "text/plain": [
       "   actual_k                       reason  was_impossible\n",
       "0       NaN  User and/or item is unkown.            True\n",
       "1       NaN  User and/or item is unkown.            True\n",
       "2       NaN        Not enough neighbors.            True\n",
       "3       NaN  User and/or item is unkown.            True\n",
       "4       NaN  User and/or item is unkown.            True"
      ]
     },
     "execution_count": 31,
     "metadata": {},
     "output_type": "execute_result"
    }
   ],
   "source": [
    "details = pd.DataFrame.from_records(df_pred.details)\n",
    "details.head()"
   ]
  },
  {
   "cell_type": "code",
   "execution_count": 32,
   "metadata": {},
   "outputs": [
    {
     "name": "stdout",
     "output_type": "stream",
     "text": [
      "<class 'pandas.core.frame.DataFrame'>\n",
      "RangeIndex: 50604 entries, 0 to 50603\n",
      "Data columns (total 3 columns):\n",
      "actual_k          827 non-null float64\n",
      "reason            49777 non-null object\n",
      "was_impossible    50604 non-null bool\n",
      "dtypes: bool(1), float64(1), object(1)\n",
      "memory usage: 840.2+ KB\n"
     ]
    }
   ],
   "source": [
    "details.info()"
   ]
  },
  {
   "cell_type": "code",
   "execution_count": 33,
   "metadata": {},
   "outputs": [
    {
     "data": {
      "text/plain": [
       "User and/or item is unkown.    31466\n",
       "Not enough neighbors.          18311\n",
       "Name: reason, dtype: int64"
      ]
     },
     "execution_count": 33,
     "metadata": {},
     "output_type": "execute_result"
    }
   ],
   "source": [
    "details.reason.value_counts()"
   ]
  }
 ],
 "metadata": {
  "kernelspec": {
   "display_name": "Python 3",
   "language": "python",
   "name": "python3"
  },
  "language_info": {
   "codemirror_mode": {
    "name": "ipython",
    "version": 3
   },
   "file_extension": ".py",
   "mimetype": "text/x-python",
   "name": "python",
   "nbconvert_exporter": "python",
   "pygments_lexer": "ipython3",
   "version": "3.6.2"
  }
 },
 "nbformat": 4,
 "nbformat_minor": 2
}
